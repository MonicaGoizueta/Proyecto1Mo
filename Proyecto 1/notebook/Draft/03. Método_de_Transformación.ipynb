{
 "cells": [
  {
   "cell_type": "code",
   "execution_count": null,
   "id": "db270338",
   "metadata": {},
   "outputs": [],
   "source": [
    "import pandas as pd\n",
    "import numpy as np\n",
    "import sidetable\n",
    "import pymongo\n",
    "\n",
    "import folium\n",
    "import seaborn as sns\n",
    "import matplotlib.pyplot as plt"
   ]
  },
  {
   "cell_type": "code",
   "execution_count": null,
   "id": "5251671b",
   "metadata": {},
   "outputs": [],
   "source": [
    "import sys\n",
    "sys.path.append(\"../\")\n",
    "import src.creacion_columnas as cc"
   ]
  },
  {
   "cell_type": "markdown",
   "id": "c87221ea",
   "metadata": {},
   "source": [
    "### Manipulación de columnas"
   ]
  },
  {
   "cell_type": "code",
   "execution_count": null,
   "id": "26220aa6",
   "metadata": {
    "scrolled": true
   },
   "outputs": [],
   "source": [
    "df3 = pd.read_csv (\"Data/03. Datos_mergeados_.csv\")\n",
    "df3.head(2)"
   ]
  },
  {
   "cell_type": "markdown",
   "id": "375e42a8",
   "metadata": {},
   "source": [
    "Vamos a eliminar la columna \"Unnamed: 0\", que luego nos generará problemas con la identificación de duplicados"
   ]
  },
  {
   "cell_type": "code",
   "execution_count": null,
   "id": "06f6611c",
   "metadata": {
    "scrolled": true
   },
   "outputs": [],
   "source": [
    "\"\"\"df3.pop('Unnamed: 0')\"\"\""
   ]
  },
  {
   "cell_type": "markdown",
   "id": "02416f5f",
   "metadata": {},
   "source": [
    "Vamos establecer únicamente dos opciones para la columna AD_Situation: New, old. \n",
    "\n",
    "Vamos a quedarnos únicamente con WA, OR o CA en la columna \"State\".\n",
    "\n",
    "Para ello, hemos creado una función donde haremos un split por espacio y nos quedaremos con la primera parte del string"
   ]
  },
  {
   "cell_type": "code",
   "execution_count": null,
   "id": "9e79374e",
   "metadata": {},
   "outputs": [],
   "source": [
    "\"\"\"def quitar_horas(x): \n",
    "    try:\n",
    "        return x.split()[0]\n",
    "    except: \n",
    "        return x\"\"\""
   ]
  },
  {
   "cell_type": "code",
   "execution_count": null,
   "id": "9976a208",
   "metadata": {},
   "outputs": [],
   "source": [
    "df3[\"AD_Situation\"] = df3[\"AD_Situation\"].apply(cc.quitar_horas)\n",
    "df3[\"State\"] = df3[\"State\"].apply(cc.quitar_horas)\n",
    "df3.head(2)"
   ]
  },
  {
   "cell_type": "markdown",
   "id": "e1fd70f1",
   "metadata": {},
   "source": [
    "Vamos a utilizar una función que hemos creado para cambiar de sqft a m2, y lo vamos a aplicar sobre la columna \"Building space\". El objetivo es dividir la columna \"Building space Measruing\" por 10.764:"
   ]
  },
  {
   "cell_type": "code",
   "execution_count": null,
   "id": "b56dd045",
   "metadata": {},
   "outputs": [],
   "source": [
    "\"\"\"def calcular_m2 (x):\n",
    "    div = x/10.764\n",
    "    return round(div, 0)\"\"\""
   ]
  },
  {
   "cell_type": "code",
   "execution_count": null,
   "id": "6bed4b49",
   "metadata": {
    "scrolled": false
   },
   "outputs": [],
   "source": [
    "\"\"\"df3[\"Building space\"] = df3.apply(lambda datos: cc.calcular_m2(datos[\"Building space\"]), axis = 1)\n",
    "df3.head(2)\"\"\""
   ]
  },
  {
   "cell_type": "markdown",
   "id": "f79074e9",
   "metadata": {},
   "source": [
    "Vamos a cambiar la unidad de medida de \"sqft\" a \"m2\" sobre la columna \"Measruing unit\".\n",
    "\n",
    "Vamos a cambiar la columna \"Bulding space\" para que esté en m2 en vez de sqft. Para ello lo vamos a dividir por 10.764.\n",
    "\n",
    "Vamos a crear una columna nueva: \"Price/m2\", donde vamos dividir la columna \"Price\" por la columna \"Building space\". "
   ]
  },
  {
   "cell_type": "code",
   "execution_count": null,
   "id": "8b33fbcd",
   "metadata": {},
   "outputs": [],
   "source": [
    "\"\"\"def calcular_precio_por_m2 (x, y):\n",
    "    div = x/y\n",
    "    return round(div)\"\"\""
   ]
  },
  {
   "cell_type": "code",
   "execution_count": null,
   "id": "8d199cd1",
   "metadata": {},
   "outputs": [],
   "source": [
    "\"\"\"df3[\"Price/m2\"] = df3.apply(lambda df3: cc.calcular_precio_por_m2(df3[\"Price\"], df3[\"Building space\"]), axis = 1)\n",
    "df3['Measuringg unit']= df3['Measruing unit'].replace(\"sqft\",\"m2\")\n",
    "df3.head(2)\"\"\""
   ]
  },
  {
   "cell_type": "code",
   "execution_count": null,
   "id": "661bbcc6",
   "metadata": {
    "scrolled": true
   },
   "outputs": [],
   "source": [
    "df3['Measruing unit']= df3['Measruing unit'].replace(\"sqft\",\"m2\")\n",
    "df3['Building_space']= round(df3['Building space']/10.764, 0)\n",
    "df3['Price/m2']= round((df3['Price'])/(df3['Building space']), 0)\n",
    "df3.head(2)"
   ]
  },
  {
   "cell_type": "markdown",
   "id": "3296da96",
   "metadata": {},
   "source": [
    "Vamos a reescriir la columna \"State\", para que muestre únicamente los 3 Estado: California, Oregón, Washington:"
   ]
  },
  {
   "cell_type": "code",
   "execution_count": null,
   "id": "e52c5385",
   "metadata": {
    "scrolled": true
   },
   "outputs": [],
   "source": [
    "\"\"\"df3[\"State\"] = df3.State.str.extract(\"(\\w+)\", expand=True)\n",
    "df3.head(2)\"\"\""
   ]
  },
  {
   "cell_type": "code",
   "execution_count": null,
   "id": "845a0629",
   "metadata": {},
   "outputs": [],
   "source": [
    "\"\"\"\"def cambiar(x):\n",
    "    if x == \"WA\":\n",
    "        return x.replace(\"WA\", \"Washington\")\n",
    "\n",
    "    elif  x == \"OR\":\n",
    "        return x.replace(\"OR\", \"Oregón\")\n",
    "\n",
    "    else:\n",
    "        return x.replace(\"CA\", \"California\")\"\"\""
   ]
  },
  {
   "cell_type": "code",
   "execution_count": null,
   "id": "9d5f44b9",
   "metadata": {
    "scrolled": true
   },
   "outputs": [],
   "source": [
    "df3[\"State\"] = df3.apply(lambda datos: cc.cambiar(datos[\"State\"]),axis = 1)"
   ]
  },
  {
   "cell_type": "markdown",
   "id": "f81c9b1b",
   "metadata": {},
   "source": [
    "Vamos a crear cuatro columnas nuevas, \"dirección\", \"ciudad1\", \"estado1, \"None\" a partir de la columna \"Address\". En las nuevas columnas vamos a mostrar la información de \"Address\" spliteada por \",\":"
   ]
  },
  {
   "cell_type": "code",
   "execution_count": null,
   "id": "cb2ff6f8",
   "metadata": {},
   "outputs": [],
   "source": [
    "df3[[\"direccion1\", \"ciudad1\", \"código_postal1\", \"None1\"]] = df3[\"Address\"].str.split(\",\",  expand=True)\n",
    "df3.head(2)"
   ]
  },
  {
   "cell_type": "code",
   "execution_count": null,
   "id": "c39fb349",
   "metadata": {},
   "outputs": [],
   "source": [
    "df3[\"Direction\"] = df3[\"direccion1\"] + \",\" + df3[\"ciudad1\"]\n",
    "df3.head(2)"
   ]
  },
  {
   "cell_type": "code",
   "execution_count": null,
   "id": "de5285a6",
   "metadata": {
    "scrolled": true
   },
   "outputs": [],
   "source": [
    "df3[\"Postal_code\"] = df3.código_postal1.str.extract(\"(\\d+)\", expand=True)\n",
    "df3.head(2)"
   ]
  },
  {
   "cell_type": "markdown",
   "id": "8d60d6a6",
   "metadata": {},
   "source": [
    "Vamos a eliminar las columna que no nos interesan por estar la información \"duplicada\""
   ]
  },
  {
   "cell_type": "code",
   "execution_count": null,
   "id": "57b7e516",
   "metadata": {},
   "outputs": [],
   "source": [
    "eliminar_columns = ['Address', 'Unnamed: 0','direccion1', 'Measruing unit', 'ciudad1', 'código_postal1', 'None1', 'Building space', 'Measruing unit']"
   ]
  },
  {
   "cell_type": "code",
   "execution_count": null,
   "id": "98111a05",
   "metadata": {
    "scrolled": true
   },
   "outputs": [],
   "source": [
    "df3_limpio = df3.drop(eliminar_columns, axis = 1)\n",
    "df3_limpio.head(2)"
   ]
  },
  {
   "cell_type": "markdown",
   "id": "b8336de6",
   "metadata": {},
   "source": [
    "Problema: Estandarización del tipado de las columnas.\n",
    "Vamos a ordenar las columnas de nuestro DataFrame para que tenga algo más de sentido:"
   ]
  },
  {
   "cell_type": "code",
   "execution_count": null,
   "id": "8f4b84a8",
   "metadata": {},
   "outputs": [],
   "source": [
    "df3_limpio = df3_limpio.reindex(columns=['Price', 'Currency', 'AD_Situation', 'Rooms', 'Bath', 'Building_space', 'Measuring unit', 'Price/m2', 'Brokered_by', 'Direction', 'City', 'State', 'Postal_code',\n",
    "       'Índice_poder_adqui', 'Índice_seguridad', 'Índice_sanidad',\n",
    "       'Índice_clima', 'Índice_costo_vida',\n",
    "       'Relación_precio_ingresos_propiedades', 'Índice_costo_desplazamiento',\n",
    "       'Índice_contaminación', 'Índice_calidad_vida'])\n",
    "df3_limpio.head(2)"
   ]
  },
  {
   "cell_type": "markdown",
   "id": "853ba2e7",
   "metadata": {},
   "source": [
    "Problema: Estandarización del tipado de las columnas.\n",
    "A continuación, vamos a homogeneizar las columnas: pasar los nombres de las columnas a minusculas y reemplazar los espacios por \"_\":"
   ]
  },
  {
   "cell_type": "code",
   "execution_count": null,
   "id": "9e59e88a",
   "metadata": {
    "scrolled": true
   },
   "outputs": [],
   "source": [
    "df3_limpio.columns"
   ]
  },
  {
   "cell_type": "code",
   "execution_count": null,
   "id": "765ac13a",
   "metadata": {},
   "outputs": [],
   "source": [
    "diccionario = {}\n",
    "for col in df3_limpio.columns:\n",
    "    diccionario[col] = col.lower().strip().replace(\" \", \"_\")"
   ]
  },
  {
   "cell_type": "code",
   "execution_count": null,
   "id": "8fc61ff1",
   "metadata": {
    "scrolled": true
   },
   "outputs": [],
   "source": [
    "nuevas_columnas = {col : col.lower().strip().replace(\" \", \"_\") for col in df3_limpio.columns}\n",
    "nuevas_columnas"
   ]
  },
  {
   "cell_type": "code",
   "execution_count": null,
   "id": "fd1fcce3",
   "metadata": {
    "scrolled": false
   },
   "outputs": [],
   "source": [
    "df3_limpio.rename(columns = nuevas_columnas, inplace =True)\n",
    "df3_limpio.head(2)"
   ]
  },
  {
   "cell_type": "markdown",
   "id": "aeb01be5",
   "metadata": {},
   "source": [
    "### Tipo de Datos"
   ]
  },
  {
   "cell_type": "markdown",
   "id": "44e785fb",
   "metadata": {},
   "source": [
    "Problema: La columna \"baños\" está en formato \"float\". Debemos convertirlas a integer. Las columans \"índice_poder_adqui', 'índice_seguridad', 'índice_sanidad', 'índice_clima', 'índice_costo_vida', 'relación_precio_ingresos_propiedades', 'índice_costo_desplazamiento', 'índice_contaminación', 'índice_calidad_vida' están en formato \"string\"... Tendremos que hacer algo con ellas más adelante. Debemos convertirlas a integer:"
   ]
  },
  {
   "cell_type": "code",
   "execution_count": null,
   "id": "56115111",
   "metadata": {},
   "outputs": [],
   "source": [
    "df3_limpio.dtypes"
   ]
  },
  {
   "cell_type": "code",
   "execution_count": null,
   "id": "754b4879",
   "metadata": {},
   "outputs": [],
   "source": [
    "df3_limpio[\"bath\"] = df3_limpio[\"bath\"].round(1).astype(int)\n",
    "df3_limpio.head(2)"
   ]
  },
  {
   "cell_type": "code",
   "execution_count": null,
   "id": "6d553cff",
   "metadata": {},
   "outputs": [],
   "source": [
    "x = ['índice_poder_adqui', 'índice_seguridad',\n",
    "       'índice_sanidad', 'índice_clima', 'índice_costo_vida',\n",
    "       'relación_precio_ingresos_propiedades', 'índice_costo_desplazamiento',\n",
    "       'índice_contaminación', 'índice_calidad_vida']\n",
    "\n",
    "def puntos(df,x):\n",
    "    for i in x:\n",
    "        \n",
    "        df3_limpio[i] = df3_limpio [i].str.replace(\",\",\"\")\n",
    "        df3_limpio[i] = pd.to_numeric(df[i], errors = \"coerce\").astype(\"Int64\")\n"
   ]
  },
  {
   "cell_type": "code",
   "execution_count": null,
   "id": "10edd53c",
   "metadata": {},
   "outputs": [],
   "source": [
    "puntos(df3_limpio, x)"
   ]
  },
  {
   "cell_type": "code",
   "execution_count": null,
   "id": "a1924367",
   "metadata": {
    "scrolled": false
   },
   "outputs": [],
   "source": [
    "df3_limpio.dtypes"
   ]
  },
  {
   "cell_type": "markdown",
   "id": "d8d1d3ef",
   "metadata": {},
   "source": [
    "### Duplicados"
   ]
  },
  {
   "cell_type": "markdown",
   "id": "10056ba6",
   "metadata": {},
   "source": [
    "Problema: Duplicado. En el análisis exploratorio identificamos 2 duplicados:"
   ]
  },
  {
   "cell_type": "code",
   "execution_count": null,
   "id": "39539540",
   "metadata": {},
   "outputs": [],
   "source": [
    "df3_limpio.duplicated().sum()"
   ]
  },
  {
   "cell_type": "code",
   "execution_count": null,
   "id": "cd66696e",
   "metadata": {
    "scrolled": true
   },
   "outputs": [],
   "source": [
    "df3_limpio[df3_limpio.duplicated() == True]"
   ]
  },
  {
   "cell_type": "markdown",
   "id": "321e4bf1",
   "metadata": {},
   "source": [
    "Una vez identificamos las filas duplicadas, procedemos a su eliminación:"
   ]
  },
  {
   "cell_type": "code",
   "execution_count": null,
   "id": "e18ef6a9",
   "metadata": {},
   "outputs": [],
   "source": [
    "df3_limpio.drop_duplicates(inplace = True)"
   ]
  },
  {
   "cell_type": "code",
   "execution_count": null,
   "id": "6b1febb4",
   "metadata": {},
   "outputs": [],
   "source": [
    "df3_limpio.duplicated().sum()"
   ]
  },
  {
   "cell_type": "markdown",
   "id": "9868460b",
   "metadata": {},
   "source": [
    "### Principales estadísticos"
   ]
  },
  {
   "cell_type": "code",
   "execution_count": null,
   "id": "ffb2407e",
   "metadata": {},
   "outputs": [],
   "source": [
    "df3_limpio.describe().T"
   ]
  },
  {
   "cell_type": "code",
   "execution_count": null,
   "id": "c1593a37",
   "metadata": {},
   "outputs": [],
   "source": [
    "df3_limpio.describe(include = \"object\").T"
   ]
  },
  {
   "cell_type": "code",
   "execution_count": null,
   "id": "4908d8a2",
   "metadata": {
    "scrolled": true
   },
   "outputs": [],
   "source": [
    "df_line = pd.DataFrame(df3_limpio.groupby([df3_limpio['city']])[\"price\"].mean())"
   ]
  },
  {
   "cell_type": "code",
   "execution_count": null,
   "id": "95835349",
   "metadata": {
    "scrolled": true
   },
   "outputs": [],
   "source": [
    "df_line.head(3)"
   ]
  },
  {
   "cell_type": "code",
   "execution_count": null,
   "id": "682ec748",
   "metadata": {},
   "outputs": [],
   "source": [
    "ax = plt.axes() # para poder cambiar el estilo de los ejes\n",
    "\n",
    "ax.set_facecolor(\"white\") # poner el fondo en blanco\n",
    "\n",
    "ax.spines['bottom'].set_color('black') # color del eje x\n",
    "ax.spines['top'].set_color('white') # color del eje de arriba\n",
    "ax.spines['right'].set_color('white') # color del eje de la derecha\n",
    "ax.spines['left'].set_color('black') # color del eje y\n",
    "\n",
    "plt.plot(df_line['city'], # eje x\n",
    "         df_line[\"price\"], # eje y\n",
    "         color = \"black\", # para cambiar el color de la línea\n",
    "         linewidth = 2, # para cambiar el grosor de la línea\n",
    "         marker = \"o\") # para poner los marcadores en nuestra línea\n",
    "\n",
    "plt.xlabel(\"ciudad\") # para poner etiqueta en el eje x\n",
    "plt.ylabel(\"precio\") # para poner etiqueta en el eje y\n",
    "\n",
    "\n",
    "plt.show();"
   ]
  },
  {
   "cell_type": "code",
   "execution_count": null,
   "id": "2e389e89",
   "metadata": {},
   "outputs": [],
   "source": [
    "sns.scatterplot(data=df3_limpio, x='índice_poder_adqui', y='price/m2',\n",
    "                s = 100); # tamaño de los marcadores"
   ]
  },
  {
   "cell_type": "markdown",
   "id": "c8d6f645",
   "metadata": {},
   "source": [
    "### Relación Espacio de vivienda y precio"
   ]
  },
  {
   "cell_type": "code",
   "execution_count": null,
   "id": "e29a6c41",
   "metadata": {
    "scrolled": false
   },
   "outputs": [],
   "source": [
    "sns.scatterplot(data=df3_limpio, x='building_space', y='price',\n",
    "                  hue = \"city\",\n",
    "                s = 100); # tamaño de los marcadores"
   ]
  },
  {
   "cell_type": "code",
   "execution_count": null,
   "id": "ae3b0a60",
   "metadata": {},
   "outputs": [],
   "source": [
    "df_pie = pd.DataFrame(df3_limpio.groupby(['city'])\n",
    "                      [\"price/m2\"].mean()).reset_index()\n",
    "\n",
    "df_pie.head()"
   ]
  },
  {
   "cell_type": "code",
   "execution_count": null,
   "id": "a4319478",
   "metadata": {
    "scrolled": true
   },
   "outputs": [],
   "source": [
    "df_pie_1 = pd.DataFrame(df3_limpio.groupby(['city'])\n",
    "                      [\"índice_poder_adqui\"].mean()).reset_index()\n",
    "\n",
    "df_pie_1.head()"
   ]
  },
  {
   "cell_type": "code",
   "execution_count": null,
   "id": "3ba28303",
   "metadata": {},
   "outputs": [],
   "source": [
    "df_pie_1 = pd.DataFrame(df3_limpio.groupby(['city'])\n",
    "                      [\"índice_seguridad\"].mean()).reset_index()\n",
    "\n",
    "df_pie_1.head()"
   ]
  },
  {
   "cell_type": "code",
   "execution_count": null,
   "id": "34c15e22",
   "metadata": {},
   "outputs": [],
   "source": []
  },
  {
   "cell_type": "code",
   "execution_count": null,
   "id": "3e65f667",
   "metadata": {
    "scrolled": true
   },
   "outputs": [],
   "source": [
    "sns.scatterplot(data=df3_limpio, x='state', y='índice_contaminación',\n",
    "                s = 100); # tamaño de los marcadores"
   ]
  },
  {
   "cell_type": "code",
   "execution_count": null,
   "id": "45fb680e",
   "metadata": {
    "scrolled": false
   },
   "outputs": [],
   "source": [
    "sns.scatterplot(data=df3_limpio, x='índice_contaminación', y='índice_calidad_vida',\n",
    "                s = 100); # tamaño de los marcadores"
   ]
  },
  {
   "cell_type": "code",
   "execution_count": null,
   "id": "0c215134",
   "metadata": {},
   "outputs": [],
   "source": [
    "sns.scatterplot(data=df3_limpio, x='relación_precio_ingresos_propiedades', y='price',\n",
    "                s = 100); # tamaño de los marcadores"
   ]
  },
  {
   "cell_type": "code",
   "execution_count": null,
   "id": "578bf97e",
   "metadata": {},
   "outputs": [],
   "source": []
  },
  {
   "cell_type": "code",
   "execution_count": null,
   "id": "f29eac83",
   "metadata": {},
   "outputs": [],
   "source": []
  },
  {
   "cell_type": "code",
   "execution_count": null,
   "id": "238107fb",
   "metadata": {},
   "outputs": [],
   "source": []
  },
  {
   "cell_type": "code",
   "execution_count": null,
   "id": "34d929b7",
   "metadata": {},
   "outputs": [],
   "source": [
    "sns.scatterplot(data=df3_limpio, x='state', y='índice_calidad_vida',\n",
    "                s = 100); # tamaño de los marcadores"
   ]
  },
  {
   "cell_type": "code",
   "execution_count": null,
   "id": "9114d265",
   "metadata": {},
   "outputs": [],
   "source": []
  },
  {
   "cell_type": "code",
   "execution_count": null,
   "id": "574e4883",
   "metadata": {},
   "outputs": [],
   "source": [
    "sns.scatterplot(data=df3_limpio, x='sanidad', y='índice_contaminación',\n",
    "                s = 100); # tamaño de los marcadores"
   ]
  },
  {
   "cell_type": "code",
   "execution_count": null,
   "id": "9ca0b1bf",
   "metadata": {},
   "outputs": [],
   "source": []
  },
  {
   "cell_type": "code",
   "execution_count": null,
   "id": "89787146",
   "metadata": {},
   "outputs": [],
   "source": []
  },
  {
   "cell_type": "code",
   "execution_count": null,
   "id": "c1794742",
   "metadata": {},
   "outputs": [],
   "source": []
  },
  {
   "cell_type": "code",
   "execution_count": null,
   "id": "ac89fa00",
   "metadata": {},
   "outputs": [],
   "source": []
  },
  {
   "cell_type": "code",
   "execution_count": null,
   "id": "ab01196e",
   "metadata": {},
   "outputs": [],
   "source": [
    "sns.scatterplot(data=df3_limpio, x='building_space', y='price',\n",
    "                s = 100); # tamaño de los marcadores"
   ]
  },
  {
   "cell_type": "code",
   "execution_count": null,
   "id": "874ad6dc",
   "metadata": {},
   "outputs": [],
   "source": []
  },
  {
   "cell_type": "code",
   "execution_count": null,
   "id": "958efd8e",
   "metadata": {},
   "outputs": [],
   "source": []
  },
  {
   "cell_type": "code",
   "execution_count": null,
   "id": "37db85c6",
   "metadata": {},
   "outputs": [],
   "source": [
    "def explorar(df, ciudad):\n",
    "    city = df[df[\"city\"] == f\"{ciudad}\"]\n",
    "    print(\"los principales estadisticos son: \")\n",
    "    print(city['price/m2'].max())\n",
    "    print(\"-----------\")\n",
    "    "
   ]
  },
  {
   "cell_type": "code",
   "execution_count": null,
   "id": "d2a3099d",
   "metadata": {},
   "outputs": [],
   "source": [
    "def explorar_min(df, ciudad):\n",
    "    city = df[df[\"city\"] == f\"{ciudad}\"]\n",
    "    print(\"los principales estadisticos son: \")\n",
    "    print(city['price/m2'].min())\n",
    "    print(\"-----------\")"
   ]
  },
  {
   "cell_type": "code",
   "execution_count": null,
   "id": "5188f38b",
   "metadata": {},
   "outputs": [],
   "source": [
    "def explorar_v2(df, ciudad):\n",
    "    city = df[df[\"city\"] == f\"{ciudad}\"]\n",
    "    print(\"los principales estadisticos son: \")\n",
    "    print df3_limipio().T"
   ]
  },
  {
   "cell_type": "code",
   "execution_count": null,
   "id": "8e9a5006",
   "metadata": {
    "scrolled": true
   },
   "outputs": [],
   "source": [
    "explorar(df3_limpio, \"Irvine\")"
   ]
  },
  {
   "cell_type": "code",
   "execution_count": null,
   "id": "e366ac6d",
   "metadata": {},
   "outputs": [],
   "source": [
    "explorar_min(df3_limpio, \"Irvine\")"
   ]
  },
  {
   "cell_type": "code",
   "execution_count": null,
   "id": "30d7e719",
   "metadata": {
    "scrolled": false
   },
   "outputs": [],
   "source": [
    "df3_limpio.groupby([\"state\", 'city'])[\"price/m2\"].mean()"
   ]
  },
  {
   "cell_type": "code",
   "execution_count": null,
   "id": "70eadeee",
   "metadata": {},
   "outputs": [],
   "source": [
    "df3_limpio.groupby([\"state\", 'city'])[\"price/m2\"].max()"
   ]
  },
  {
   "cell_type": "code",
   "execution_count": null,
   "id": "5f985bab",
   "metadata": {},
   "outputs": [],
   "source": [
    "df3_limpio.groupby([\"state\", 'city'])[\"price/m2\"].min()"
   ]
  },
  {
   "cell_type": "code",
   "execution_count": null,
   "id": "8facde9b",
   "metadata": {},
   "outputs": [],
   "source": [
    "df3_limpio.groupby([\"state\", 'city'])[\"índice_poder_adqui\"].mean().max()"
   ]
  },
  {
   "cell_type": "code",
   "execution_count": null,
   "id": "216a1f7e",
   "metadata": {
    "scrolled": false
   },
   "outputs": [],
   "source": [
    "df3_limpio.groupby([\"state\", 'city'])[\"price/m2\"].mean()"
   ]
  },
  {
   "cell_type": "code",
   "execution_count": null,
   "id": "1947c8b6",
   "metadata": {
    "scrolled": false
   },
   "outputs": [],
   "source": [
    "df3_limpio.groupby(['city'])[\"price/m2\"].max()"
   ]
  },
  {
   "cell_type": "code",
   "execution_count": null,
   "id": "f8f9ac7d",
   "metadata": {},
   "outputs": [],
   "source": [
    "df3_limpio.groupby(['city'])[\"price/m2\"].describe()"
   ]
  },
  {
   "cell_type": "code",
   "execution_count": null,
   "id": "376f4e05",
   "metadata": {
    "scrolled": true
   },
   "outputs": [],
   "source": [
    "df3_limpio.groupby([\"state\", 'city'])[\"price/m2\"].min()"
   ]
  },
  {
   "cell_type": "code",
   "execution_count": null,
   "id": "b66c73a7",
   "metadata": {},
   "outputs": [],
   "source": [
    "df3_limpio.groupby([\"state\", 'city'])[\"price\"].min()"
   ]
  },
  {
   "cell_type": "code",
   "execution_count": null,
   "id": "82b7e20c",
   "metadata": {},
   "outputs": [],
   "source": [
    "df3_limpio.groupby([\"state\", 'city'])[\"price\"].mean().round()"
   ]
  },
  {
   "cell_type": "code",
   "execution_count": null,
   "id": "b3384c23",
   "metadata": {},
   "outputs": [],
   "source": [
    "df3_limpio.groupby([\"state\"])[\"price\"].min()"
   ]
  },
  {
   "cell_type": "code",
   "execution_count": null,
   "id": "eeac9b08",
   "metadata": {
    "scrolled": true
   },
   "outputs": [],
   "source": [
    "df3_limpio.groupby([\"state\"])[\"price\"].max().round(0)"
   ]
  },
  {
   "cell_type": "code",
   "execution_count": null,
   "id": "17c3ce25",
   "metadata": {},
   "outputs": [],
   "source": [
    "df3_limpio.groupby([\"state\"])[\"price\"].mean().round(0)"
   ]
  },
  {
   "cell_type": "code",
   "execution_count": null,
   "id": "1ecf1a24",
   "metadata": {},
   "outputs": [],
   "source": [
    "df5 = pd.DataFrame(df3_limpio.groupby([\"state\", 'city','postal_code'])[\"price/m2\"].mean())\n",
    "df5"
   ]
  },
  {
   "cell_type": "code",
   "execution_count": null,
   "id": "092cb6d3",
   "metadata": {},
   "outputs": [],
   "source": [
    "df4 = pd.DataFrame(df3_limpio.groupby([\"state\", 'city','postal_code'])[\"price/m2\"].max())\n",
    "df4"
   ]
  },
  {
   "cell_type": "code",
   "execution_count": null,
   "id": "1e67cdd5",
   "metadata": {},
   "outputs": [],
   "source": [
    "df4.shape"
   ]
  },
  {
   "cell_type": "code",
   "execution_count": null,
   "id": "a7b8797b",
   "metadata": {},
   "outputs": [],
   "source": [
    "df3_limpio.groupby([\"state\", 'city'])[\"price/m2\"].min()"
   ]
  },
  {
   "cell_type": "code",
   "execution_count": null,
   "id": "ec042ccc",
   "metadata": {},
   "outputs": [],
   "source": []
  },
  {
   "cell_type": "code",
   "execution_count": null,
   "id": "366bfc70",
   "metadata": {},
   "outputs": [],
   "source": []
  },
  {
   "cell_type": "code",
   "execution_count": null,
   "id": "ba7de984",
   "metadata": {},
   "outputs": [],
   "source": []
  },
  {
   "cell_type": "markdown",
   "id": "64d993c3",
   "metadata": {},
   "source": [
    "### Valores Nulos"
   ]
  },
  {
   "cell_type": "code",
   "execution_count": null,
   "id": "da50c498",
   "metadata": {},
   "outputs": [],
   "source": [
    "df3_limpio.isnull().sum()"
   ]
  },
  {
   "cell_type": "code",
   "execution_count": null,
   "id": "126d256f",
   "metadata": {},
   "outputs": [],
   "source": [
    "df3_limpio[\"postal_code\"] = df3_limpio[\"postal_code\"].fillna(0)"
   ]
  },
  {
   "cell_type": "code",
   "execution_count": null,
   "id": "82764c66",
   "metadata": {
    "scrolled": true
   },
   "outputs": [],
   "source": [
    "df3_limpio.isnull().sum()"
   ]
  },
  {
   "cell_type": "code",
   "execution_count": null,
   "id": "8f6e7263",
   "metadata": {
    "scrolled": true
   },
   "outputs": [],
   "source": [
    "df3_limpio[\"postal_code\"].dtypes"
   ]
  },
  {
   "cell_type": "code",
   "execution_count": null,
   "id": "cea028c1",
   "metadata": {},
   "outputs": [],
   "source": [
    "df3_limpio[\"postal_code\"] = df3_limpio[\"postal_code\"].astype(int) "
   ]
  },
  {
   "cell_type": "code",
   "execution_count": null,
   "id": "c7f4d68c",
   "metadata": {},
   "outputs": [],
   "source": [
    "df3_limpio[\"postal_code\"].dtypes"
   ]
  },
  {
   "cell_type": "markdown",
   "id": "a0fdffc1",
   "metadata": {},
   "source": [
    "### Geopy"
   ]
  },
  {
   "cell_type": "code",
   "execution_count": null,
   "id": "7e90ccfa",
   "metadata": {},
   "outputs": [],
   "source": [
    "from geopy.geocoders import Nominatim"
   ]
  },
  {
   "cell_type": "code",
   "execution_count": null,
   "id": "c10b1ab2",
   "metadata": {},
   "outputs": [],
   "source": [
    "locator = Nominatim(user_agent= \"myGeocoder\")"
   ]
  },
  {
   "cell_type": "code",
   "execution_count": null,
   "id": "c45d92ed",
   "metadata": {},
   "outputs": [],
   "source": [
    "location = locator.geocode (\"98516\")\n",
    "print (location)"
   ]
  },
  {
   "cell_type": "code",
   "execution_count": null,
   "id": "a1fa00c9",
   "metadata": {},
   "outputs": [],
   "source": [
    "print(\"Latitude = {}, Longitude = {}\".format(location.latitude, location.longitude))"
   ]
  },
  {
   "cell_type": "code",
   "execution_count": null,
   "id": "a54df1be",
   "metadata": {},
   "outputs": [],
   "source": [
    "location.latitude"
   ]
  },
  {
   "cell_type": "code",
   "execution_count": null,
   "id": "0db9eacb",
   "metadata": {},
   "outputs": [],
   "source": [
    "\"\"\"lista_codigos_postales=list(df3_limpio[\"postal_code\"])\"\"\""
   ]
  },
  {
   "cell_type": "code",
   "execution_count": null,
   "id": "4a769b06",
   "metadata": {
    "scrolled": false
   },
   "outputs": [],
   "source": [
    "\"\"\"for i in lista_codigos_postales:\n",
    "    print(latitud_v2(i))\"\"\""
   ]
  },
  {
   "cell_type": "code",
   "execution_count": null,
   "id": "e8689582",
   "metadata": {},
   "outputs": [],
   "source": [
    "def latitud_v2 (x):\n",
    "    try:\n",
    "        \n",
    "        location = locator.geocode (x)\n",
    "        return location.latitude\n",
    "        \n",
    "    except:\n",
    "        return None\n"
   ]
  },
  {
   "cell_type": "code",
   "execution_count": null,
   "id": "0e54cdcc",
   "metadata": {},
   "outputs": [],
   "source": [
    "def longitud_v2 (x):\n",
    "    try:\n",
    "        \n",
    "        location = locator.geocode (x)\n",
    "        return location.longitude\n",
    "        \n",
    "    except:\n",
    "        return None\n"
   ]
  },
  {
   "cell_type": "code",
   "execution_count": null,
   "id": "1861a52c",
   "metadata": {},
   "outputs": [],
   "source": [
    "df3_limpio[\"latidud_\"] = df3_limpio.apply(lambda datos: latitud_v2(\n",
    "                                    datos[\"postal_code\"]), axis = 1)\n"
   ]
  },
  {
   "cell_type": "code",
   "execution_count": null,
   "id": "16160372",
   "metadata": {},
   "outputs": [],
   "source": [
    "df3_limpio[\"longitud_\"] = df3_limpio.apply(lambda datos: longitud_v2(\n",
    "                                    datos[\"postal_code\"]), axis = 1)\n"
   ]
  },
  {
   "cell_type": "code",
   "execution_count": null,
   "id": "2a77e938",
   "metadata": {},
   "outputs": [],
   "source": [
    "mapa=folium.Map(location=[47.134266, -122.734934],  # la posicion\n",
    "                tiles='openstreetmap',            # tipo de mapa, theme\n",
    "                zoom_start=10)                    # zoom inicial\n",
    "\n",
    "mapa"
   ]
  },
  {
   "cell_type": "code",
   "execution_count": null,
   "id": "a64e2b63",
   "metadata": {},
   "outputs": [],
   "source": [
    "for index, row in df.iterrows(): # método para iterar por los dataframes\n",
    "\n",
    "cities = ['Olympia', 'Seattle', 'Des Moines', 'Bellevue', 'Redmond', 'Tacoma', 'Vancouver', 'Long Beach', 'Pasadena', 'Anaheim', 'Irvine', 'Portland']\n",
    "    for i in cities:\n",
    "        try:\n",
    "                row['city'] == (i) :\n",
    "\n",
    "        return folium.Marker([row[\"latitud_\"], row['longitud_']],\n",
    "                              radius=10, \n",
    "                              tooltip = row[['is_happy_customer', 'city']],\n",
    "                              icon=folium.Icon(icon = \"cloud\", color = \"red\")).add_to(mapa)\n",
    "        except:\n",
    "            None"
   ]
  },
  {
   "cell_type": "code",
   "execution_count": null,
   "id": "8976ef5f",
   "metadata": {},
   "outputs": [],
   "source": [
    "for index, row in df.iterrows(): # método para iterar por los dataframes\n",
    "    if row['city'] == \"Olympia\":\n",
    "    \n",
    "        folium.Marker([row[\"latitud_\"], row['longitud_']],\n",
    "                    radius=10, \n",
    "                    tooltip = row[['city']],\n",
    "                    icon=folium.Icon(icon = \"cloud\", color = \"red\")).add_to(mapa)\n",
    "    elif row['city']  == \"Seattle\":\n",
    "        folium.Marker([row[\"latitud_\"], row['longitud_']],\n",
    "                    radius=10, \n",
    "                    tooltip = row['city'],\n",
    "                    icon=folium.Icon(icon = \"cloud\", color = \"orange\")).add_to(mapa)\n",
    "        \n",
    "    elif row['city']  == \"Des Moines\":\n",
    "        folium.Marker([row[\"latitud_\"], row['longitud_']],\n",
    "                    radius=10, \n",
    "                    tooltip = row['city'],\n",
    "                    icon=folium.Icon(icon = \"cloud\", color = \"black\")).add_to(mapa)   \n",
    "    elif row['city']  == \"Bellevue\":\n",
    "        folium.Marker([row[\"latitud_\"], row['longitud_']],\n",
    "                    radius=10, \n",
    "                    tooltip = row['city'],\n",
    "                    icon=folium.Icon(icon = \"cloud\", color = \"yellow\")).add_to(mapa)\n",
    "        \n",
    "    elif row['city']  == \"Redmond\":\n",
    "            folium.Marker([row[\"latitud_\"], row['longitud_']],\n",
    "                    radius=10, \n",
    "                    tooltip = row['city'],\n",
    "                    icon=folium.Icon(icon = \"cloud\", color = \"green\")).add_to(mapa)  \n",
    "    elif row['city']  == \"Tacoma\":\n",
    "        folium.Marker([row[\"latitud_\"], row['longitud_']],\n",
    "                    radius=10, \n",
    "                    tooltip = row['city'],\n",
    "                    icon=folium.Icon(icon = \"cloud\", color = \"purple\")).add_to(mapa)\n",
    "        \n",
    "    elif row['city']  == \"Vancouver\":\n",
    "        folium.Marker([row[\"latitud_\"], row['longitud_']],\n",
    "                    radius=10, \n",
    "                    tooltip = row['city'],\n",
    "                    icon=folium.Icon(icon = \"cloud\", color = \"blue\")).add_to(mapa) \n",
    "    \n",
    "    elif row['city']  == \"Long Beach\":\n",
    "        folium.Marker([row[\"latitud_\"], row['longitud_']],\n",
    "                    radius=10, \n",
    "                    tooltip = row['city'],\n",
    "                    icon=folium.Icon(icon = \"cloud\", color = \"grey\")).add_to(mapa)\n",
    "        \n",
    "    elif row['city']  == \"Pasadena\":\n",
    "         folium.Marker([row[\"latitud_\"], row['longitud_']],\n",
    "                    radius=10, \n",
    "                    tooltip = row['city'],\n",
    "                    icon=folium.Icon(icon = \"cloud\", color = \"pink\")).add_to(mapa)  \n",
    "    elif row['city']  == \"Anaheim\":\n",
    "        folium.Marker([row[\"latitud_\"], row['longitud_']],\n",
    "                    radius=10, \n",
    "                    tooltip = row['city'],\n",
    "                    icon=folium.Icon(icon = \"cloud\", color = \"violet\")).add_to(mapa)\n",
    "        \n",
    "    elif row['city']  == \"Irvine\":\n",
    "            folium.Marker([row[\"latitud_\"], row['longitud_']],\n",
    "                    radius=10, \n",
    "                    tooltip = row['city'],\n",
    "                    icon=folium.Icon(icon = \"cloud\", color = \"plum\")).add_to(mapa\n",
    "    else:\n",
    "        folium.Marker([row[\"latitud_\"], row['longitud_']],\n",
    "                    radius=10, \n",
    "                    tooltip = row['city'],\n",
    "                    icon=folium.Icon(icon = \"cloud\", color = \"brown\")).add_to(mapa)"
   ]
  },
  {
   "cell_type": "code",
   "execution_count": null,
   "id": "09973aaa",
   "metadata": {},
   "outputs": [],
   "source": [
    "df3_limpio[\"city\"].unique()"
   ]
  },
  {
   "cell_type": "code",
   "execution_count": null,
   "id": "8cd240bd",
   "metadata": {},
   "outputs": [],
   "source": []
  },
  {
   "cell_type": "code",
   "execution_count": null,
   "id": "1417e9e7",
   "metadata": {},
   "outputs": [],
   "source": []
  },
  {
   "cell_type": "code",
   "execution_count": null,
   "id": "49ced103",
   "metadata": {},
   "outputs": [],
   "source": []
  }
 ],
 "metadata": {
  "kernelspec": {
   "display_name": "Python 3 (ipykernel)",
   "language": "python",
   "name": "python3"
  },
  "language_info": {
   "codemirror_mode": {
    "name": "ipython",
    "version": 3
   },
   "file_extension": ".py",
   "mimetype": "text/x-python",
   "name": "python",
   "nbconvert_exporter": "python",
   "pygments_lexer": "ipython3",
   "version": "3.9.10"
  }
 },
 "nbformat": 4,
 "nbformat_minor": 5
}
