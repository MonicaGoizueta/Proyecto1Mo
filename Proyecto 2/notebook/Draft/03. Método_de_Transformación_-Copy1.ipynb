{
 "cells": [
  {
   "cell_type": "code",
   "execution_count": 1,
   "id": "db270338",
   "metadata": {},
   "outputs": [],
   "source": [
    "import pandas as pd\n",
    "import numpy as np\n",
    "import sidetable\n",
    "import pymongo\n",
    "\n",
    "import folium\n",
    "import seaborn as sns\n",
    "import matplotlib.pyplot as plt"
   ]
  },
  {
   "cell_type": "code",
   "execution_count": 2,
   "id": "9ab1de10",
   "metadata": {},
   "outputs": [],
   "source": [
    "import sys\n",
    "sys.path.append(\"../\")\n",
    "import src.creacion_columnas as cc"
   ]
  },
  {
   "cell_type": "markdown",
   "id": "c87221ea",
   "metadata": {},
   "source": [
    "### Importamos CSV"
   ]
  },
  {
   "cell_type": "markdown",
   "id": "cb7b8254",
   "metadata": {},
   "source": [
    "Nos descarmos el CSV que hemos creado, enriqueciendo el CSV inicial con Selenium:"
   ]
  },
  {
   "cell_type": "code",
   "execution_count": 3,
   "id": "26220aa6",
   "metadata": {
    "scrolled": true
   },
   "outputs": [
    {
     "data": {
      "text/html": [
       "<div>\n",
       "<style scoped>\n",
       "    .dataframe tbody tr th:only-of-type {\n",
       "        vertical-align: middle;\n",
       "    }\n",
       "\n",
       "    .dataframe tbody tr th {\n",
       "        vertical-align: top;\n",
       "    }\n",
       "\n",
       "    .dataframe thead th {\n",
       "        text-align: right;\n",
       "    }\n",
       "</style>\n",
       "<table border=\"1\" class=\"dataframe\">\n",
       "  <thead>\n",
       "    <tr style=\"text-align: right;\">\n",
       "      <th></th>\n",
       "      <th>Unnamed: 0</th>\n",
       "      <th>Price</th>\n",
       "      <th>Currency</th>\n",
       "      <th>Brokered_by</th>\n",
       "      <th>AD_Situation</th>\n",
       "      <th>Rooms</th>\n",
       "      <th>Bath</th>\n",
       "      <th>Building space</th>\n",
       "      <th>Measruing unit</th>\n",
       "      <th>Address</th>\n",
       "      <th>...</th>\n",
       "      <th>State</th>\n",
       "      <th>Índice_poder_adqui</th>\n",
       "      <th>Índice_seguridad</th>\n",
       "      <th>Índice_sanidad</th>\n",
       "      <th>Índice_clima</th>\n",
       "      <th>Índice_costo_vida</th>\n",
       "      <th>Relación_precio_ingresos_propiedades</th>\n",
       "      <th>Índice_costo_desplazamiento</th>\n",
       "      <th>Índice_contaminación</th>\n",
       "      <th>Índice_calidad_vida</th>\n",
       "    </tr>\n",
       "  </thead>\n",
       "  <tbody>\n",
       "    <tr>\n",
       "      <th>0</th>\n",
       "      <td>0</td>\n",
       "      <td>289900</td>\n",
       "      <td>USD</td>\n",
       "      <td>Greene Realty Group LLC</td>\n",
       "      <td>New - 7 hours ago</td>\n",
       "      <td>3</td>\n",
       "      <td>2.0</td>\n",
       "      <td>1944</td>\n",
       "      <td>sqft</td>\n",
       "      <td>5142 Puget Rd NE, Olympia, WA 98516</td>\n",
       "      <td>...</td>\n",
       "      <td>WA 98516</td>\n",
       "      <td>110,78</td>\n",
       "      <td>70,61</td>\n",
       "      <td>71,99</td>\n",
       "      <td>83,44</td>\n",
       "      <td>70,06</td>\n",
       "      <td>3,37</td>\n",
       "      <td>19,11</td>\n",
       "      <td>16,01</td>\n",
       "      <td>205,63</td>\n",
       "    </tr>\n",
       "    <tr>\n",
       "      <th>1</th>\n",
       "      <td>1</td>\n",
       "      <td>146999</td>\n",
       "      <td>USD</td>\n",
       "      <td>Adair Homes</td>\n",
       "      <td>Old</td>\n",
       "      <td>3</td>\n",
       "      <td>2.0</td>\n",
       "      <td>1340</td>\n",
       "      <td>sqft</td>\n",
       "      <td>South Puget Sound 2303 93rd Ave SW, Olympia, W...</td>\n",
       "      <td>...</td>\n",
       "      <td>WA 98512</td>\n",
       "      <td>110,78</td>\n",
       "      <td>70,61</td>\n",
       "      <td>71,99</td>\n",
       "      <td>83,44</td>\n",
       "      <td>70,06</td>\n",
       "      <td>3,37</td>\n",
       "      <td>19,11</td>\n",
       "      <td>16,01</td>\n",
       "      <td>205,63</td>\n",
       "    </tr>\n",
       "  </tbody>\n",
       "</table>\n",
       "<p>2 rows × 21 columns</p>\n",
       "</div>"
      ],
      "text/plain": [
       "   Unnamed: 0   Price Currency              Brokered_by       AD_Situation  \\\n",
       "0           0  289900      USD  Greene Realty Group LLC  New - 7 hours ago   \n",
       "1           1  146999      USD              Adair Homes                Old   \n",
       "\n",
       "   Rooms  Bath  Building space Measruing unit  \\\n",
       "0      3   2.0            1944           sqft   \n",
       "1      3   2.0            1340           sqft   \n",
       "\n",
       "                                             Address  ...      State  \\\n",
       "0                5142 Puget Rd NE, Olympia, WA 98516  ...   WA 98516   \n",
       "1  South Puget Sound 2303 93rd Ave SW, Olympia, W...  ...   WA 98512   \n",
       "\n",
       "  Índice_poder_adqui Índice_seguridad Índice_sanidad Índice_clima  \\\n",
       "0             110,78            70,61          71,99        83,44   \n",
       "1             110,78            70,61          71,99        83,44   \n",
       "\n",
       "  Índice_costo_vida Relación_precio_ingresos_propiedades  \\\n",
       "0             70,06                                 3,37   \n",
       "1             70,06                                 3,37   \n",
       "\n",
       "  Índice_costo_desplazamiento Índice_contaminación Índice_calidad_vida  \n",
       "0                       19,11                16,01              205,63  \n",
       "1                       19,11                16,01              205,63  \n",
       "\n",
       "[2 rows x 21 columns]"
      ]
     },
     "execution_count": 3,
     "metadata": {},
     "output_type": "execute_result"
    }
   ],
   "source": [
    "df3 = pd.read_csv (\"../Data/03. Datos_mergeados_.csv\")\n",
    "df3.head(2)"
   ]
  },
  {
   "cell_type": "markdown",
   "id": "1f6b1037",
   "metadata": {},
   "source": [
    "### Manipulación de columnas"
   ]
  },
  {
   "cell_type": "markdown",
   "id": "02416f5f",
   "metadata": {},
   "source": [
    "Vamos a reescribir la columna \"AD_Situation\" para que únicamente muestre dos opciones: New, old. \n",
    "\n",
    "Vamos a reescribir la columna \"State\" para que únicamente muestra la primera parte de los string, es decir: WA, OR o CA.\n",
    "\n",
    "Para ello, hemos creado una función \"quitar_horas\" donde haremos un split por espacio y nos quedaremos con la primera parte del string!"
   ]
  },
  {
   "cell_type": "code",
   "execution_count": 4,
   "id": "3aa9edf2",
   "metadata": {},
   "outputs": [
    {
     "data": {
      "text/plain": [
       "'def quitar_horas(x): \\n    try:\\n        return x.split()[0]\\n    except: \\n        return x'"
      ]
     },
     "execution_count": 4,
     "metadata": {},
     "output_type": "execute_result"
    }
   ],
   "source": [
    "\"\"\"def quitar_horas(x): \n",
    "    try:\n",
    "        return x.split()[0]\n",
    "    except: \n",
    "        return x\"\"\""
   ]
  },
  {
   "cell_type": "code",
   "execution_count": 5,
   "id": "43ac277f",
   "metadata": {
    "scrolled": true
   },
   "outputs": [
    {
     "data": {
      "text/html": [
       "<div>\n",
       "<style scoped>\n",
       "    .dataframe tbody tr th:only-of-type {\n",
       "        vertical-align: middle;\n",
       "    }\n",
       "\n",
       "    .dataframe tbody tr th {\n",
       "        vertical-align: top;\n",
       "    }\n",
       "\n",
       "    .dataframe thead th {\n",
       "        text-align: right;\n",
       "    }\n",
       "</style>\n",
       "<table border=\"1\" class=\"dataframe\">\n",
       "  <thead>\n",
       "    <tr style=\"text-align: right;\">\n",
       "      <th></th>\n",
       "      <th>Unnamed: 0</th>\n",
       "      <th>Price</th>\n",
       "      <th>Currency</th>\n",
       "      <th>Brokered_by</th>\n",
       "      <th>AD_Situation</th>\n",
       "      <th>Rooms</th>\n",
       "      <th>Bath</th>\n",
       "      <th>Building space</th>\n",
       "      <th>Measruing unit</th>\n",
       "      <th>Address</th>\n",
       "      <th>...</th>\n",
       "      <th>State</th>\n",
       "      <th>Índice_poder_adqui</th>\n",
       "      <th>Índice_seguridad</th>\n",
       "      <th>Índice_sanidad</th>\n",
       "      <th>Índice_clima</th>\n",
       "      <th>Índice_costo_vida</th>\n",
       "      <th>Relación_precio_ingresos_propiedades</th>\n",
       "      <th>Índice_costo_desplazamiento</th>\n",
       "      <th>Índice_contaminación</th>\n",
       "      <th>Índice_calidad_vida</th>\n",
       "    </tr>\n",
       "  </thead>\n",
       "  <tbody>\n",
       "    <tr>\n",
       "      <th>0</th>\n",
       "      <td>0</td>\n",
       "      <td>289900</td>\n",
       "      <td>USD</td>\n",
       "      <td>Greene Realty Group LLC</td>\n",
       "      <td>New</td>\n",
       "      <td>3</td>\n",
       "      <td>2.0</td>\n",
       "      <td>1944</td>\n",
       "      <td>sqft</td>\n",
       "      <td>5142 Puget Rd NE, Olympia, WA 98516</td>\n",
       "      <td>...</td>\n",
       "      <td>WA</td>\n",
       "      <td>110,78</td>\n",
       "      <td>70,61</td>\n",
       "      <td>71,99</td>\n",
       "      <td>83,44</td>\n",
       "      <td>70,06</td>\n",
       "      <td>3,37</td>\n",
       "      <td>19,11</td>\n",
       "      <td>16,01</td>\n",
       "      <td>205,63</td>\n",
       "    </tr>\n",
       "  </tbody>\n",
       "</table>\n",
       "<p>1 rows × 21 columns</p>\n",
       "</div>"
      ],
      "text/plain": [
       "   Unnamed: 0   Price Currency              Brokered_by AD_Situation  Rooms  \\\n",
       "0           0  289900      USD  Greene Realty Group LLC          New      3   \n",
       "\n",
       "   Bath  Building space Measruing unit                              Address  \\\n",
       "0   2.0            1944           sqft  5142 Puget Rd NE, Olympia, WA 98516   \n",
       "\n",
       "   ... State Índice_poder_adqui Índice_seguridad Índice_sanidad Índice_clima  \\\n",
       "0  ...    WA             110,78            70,61          71,99        83,44   \n",
       "\n",
       "  Índice_costo_vida Relación_precio_ingresos_propiedades  \\\n",
       "0             70,06                                 3,37   \n",
       "\n",
       "  Índice_costo_desplazamiento Índice_contaminación Índice_calidad_vida  \n",
       "0                       19,11                16,01              205,63  \n",
       "\n",
       "[1 rows x 21 columns]"
      ]
     },
     "execution_count": 5,
     "metadata": {},
     "output_type": "execute_result"
    }
   ],
   "source": [
    "df3[\"AD_Situation\"] = df3[\"AD_Situation\"].apply(cc.quitar_horas)\n",
    "df3[\"State\"] = df3[\"State\"].apply(cc.quitar_horas)\n",
    "df3.head(1)"
   ]
  },
  {
   "cell_type": "markdown",
   "id": "591d4242",
   "metadata": {},
   "source": [
    "De nuevo vamos a reescriir la columna \"State\", pero para que este vez muestre los 3 Estados en su nomnbre completo: California, Oregón, Washington: \n",
    "\n",
    "Para ello hemos creado la función \"cambiar\"!"
   ]
  },
  {
   "cell_type": "code",
   "execution_count": 6,
   "id": "16ee1a46",
   "metadata": {},
   "outputs": [
    {
     "data": {
      "text/plain": [
       "'\"def cambiar(x):\\n    if x == \"WA\":\\n        return x.replace(\"WA\", \"Washington\")\\n\\n    elif  x == \"OR\":\\n        return x.replace(\"OR\", \"Oregón\")\\n\\n    else:\\n        return x.replace(\"CA\", \"California\")'"
      ]
     },
     "execution_count": 6,
     "metadata": {},
     "output_type": "execute_result"
    }
   ],
   "source": [
    "\"\"\"\"def cambiar(x):\n",
    "    if x == \"WA\":\n",
    "        return x.replace(\"WA\", \"Washington\")\n",
    "\n",
    "    elif  x == \"OR\":\n",
    "        return x.replace(\"OR\", \"Oregón\")\n",
    "\n",
    "    else:\n",
    "        return x.replace(\"CA\", \"California\")\"\"\""
   ]
  },
  {
   "cell_type": "code",
   "execution_count": 7,
   "id": "33aca3e7",
   "metadata": {},
   "outputs": [],
   "source": [
    "df3[\"State\"] = df3.apply(lambda datos: cc.cambiar(datos[\"State\"]),axis = 1)"
   ]
  },
  {
   "cell_type": "markdown",
   "id": "b9198cef",
   "metadata": {},
   "source": [
    "Vamos a crear una nueva columna \"Measuring unit\" y vamos a indicar como unidad de medida \"m2\".\n",
    "\n",
    "Vamos a reescribir la columna \"Bulding space\" para que la información se muestra en m2 en vez de sqft. Para ello lo vamos a dividir por 10.764.\n",
    "\n",
    "Vamos a crear una columna nueva \"Price/m2\", donde vamos dividir la columna \"Price\" por la columna \"Building space\". "
   ]
  },
  {
   "cell_type": "code",
   "execution_count": 8,
   "id": "661bbcc6",
   "metadata": {
    "scrolled": true
   },
   "outputs": [
    {
     "data": {
      "text/html": [
       "<div>\n",
       "<style scoped>\n",
       "    .dataframe tbody tr th:only-of-type {\n",
       "        vertical-align: middle;\n",
       "    }\n",
       "\n",
       "    .dataframe tbody tr th {\n",
       "        vertical-align: top;\n",
       "    }\n",
       "\n",
       "    .dataframe thead th {\n",
       "        text-align: right;\n",
       "    }\n",
       "</style>\n",
       "<table border=\"1\" class=\"dataframe\">\n",
       "  <thead>\n",
       "    <tr style=\"text-align: right;\">\n",
       "      <th></th>\n",
       "      <th>Unnamed: 0</th>\n",
       "      <th>Price</th>\n",
       "      <th>Currency</th>\n",
       "      <th>Brokered_by</th>\n",
       "      <th>AD_Situation</th>\n",
       "      <th>Rooms</th>\n",
       "      <th>Bath</th>\n",
       "      <th>Building space</th>\n",
       "      <th>Measruing unit</th>\n",
       "      <th>Address</th>\n",
       "      <th>...</th>\n",
       "      <th>Índice_seguridad</th>\n",
       "      <th>Índice_sanidad</th>\n",
       "      <th>Índice_clima</th>\n",
       "      <th>Índice_costo_vida</th>\n",
       "      <th>Relación_precio_ingresos_propiedades</th>\n",
       "      <th>Índice_costo_desplazamiento</th>\n",
       "      <th>Índice_contaminación</th>\n",
       "      <th>Índice_calidad_vida</th>\n",
       "      <th>Measuring unit</th>\n",
       "      <th>Price/m2</th>\n",
       "    </tr>\n",
       "  </thead>\n",
       "  <tbody>\n",
       "    <tr>\n",
       "      <th>0</th>\n",
       "      <td>0</td>\n",
       "      <td>289900</td>\n",
       "      <td>USD</td>\n",
       "      <td>Greene Realty Group LLC</td>\n",
       "      <td>New</td>\n",
       "      <td>3</td>\n",
       "      <td>2.0</td>\n",
       "      <td>181.0</td>\n",
       "      <td>sqft</td>\n",
       "      <td>5142 Puget Rd NE, Olympia, WA 98516</td>\n",
       "      <td>...</td>\n",
       "      <td>70,61</td>\n",
       "      <td>71,99</td>\n",
       "      <td>83,44</td>\n",
       "      <td>70,06</td>\n",
       "      <td>3,37</td>\n",
       "      <td>19,11</td>\n",
       "      <td>16,01</td>\n",
       "      <td>205,63</td>\n",
       "      <td>m2</td>\n",
       "      <td>1602.0</td>\n",
       "    </tr>\n",
       "  </tbody>\n",
       "</table>\n",
       "<p>1 rows × 23 columns</p>\n",
       "</div>"
      ],
      "text/plain": [
       "   Unnamed: 0   Price Currency              Brokered_by AD_Situation  Rooms  \\\n",
       "0           0  289900      USD  Greene Realty Group LLC          New      3   \n",
       "\n",
       "   Bath  Building space Measruing unit                              Address  \\\n",
       "0   2.0           181.0           sqft  5142 Puget Rd NE, Olympia, WA 98516   \n",
       "\n",
       "   ... Índice_seguridad Índice_sanidad Índice_clima Índice_costo_vida  \\\n",
       "0  ...            70,61          71,99        83,44             70,06   \n",
       "\n",
       "  Relación_precio_ingresos_propiedades Índice_costo_desplazamiento  \\\n",
       "0                                 3,37                       19,11   \n",
       "\n",
       "  Índice_contaminación Índice_calidad_vida Measuring unit Price/m2  \n",
       "0                16,01              205,63             m2   1602.0  \n",
       "\n",
       "[1 rows x 23 columns]"
      ]
     },
     "execution_count": 8,
     "metadata": {},
     "output_type": "execute_result"
    }
   ],
   "source": [
    "df3['Measuring unit']= df3['Measruing unit'].replace(\"sqft\",\"m2\")\n",
    "df3['Building space']= round(df3['Building space']/10.764, 0)\n",
    "df3['Price/m2']= round((df3['Price'])/(df3['Building space']), 0)\n",
    "df3.head(1)"
   ]
  },
  {
   "cell_type": "markdown",
   "id": "58750a35",
   "metadata": {},
   "source": [
    "Vamos a crear tres columnas nuevas, \"Direction\", \"Ciudad1\", \"Postal_code\" a partir de la columna \"Address\", donde vamos a hacer un split por \",\", y nos vamos a quedar con las 3 primeras palabras del string:"
   ]
  },
  {
   "cell_type": "code",
   "execution_count": 9,
   "id": "25c6c671",
   "metadata": {},
   "outputs": [],
   "source": [
    "df3[[\"Direction\", \"Ciudad1\", \"Postal_code\"]]  = df3[\"Address\"].str.split(\",\",  expand=True).iloc[:, :3]"
   ]
  },
  {
   "cell_type": "markdown",
   "id": "c458ea3e",
   "metadata": {},
   "source": [
    "Vamos a reescribir la columna \"Direction\" para que nos de la dirección y la ciudad en la misma columna. Para ello, vamos a sumar los strings de las columnas \"Direction\" y \"Ciudad1\":"
   ]
  },
  {
   "cell_type": "code",
   "execution_count": 10,
   "id": "b9f6dd1d",
   "metadata": {},
   "outputs": [
    {
     "data": {
      "text/html": [
       "<div>\n",
       "<style scoped>\n",
       "    .dataframe tbody tr th:only-of-type {\n",
       "        vertical-align: middle;\n",
       "    }\n",
       "\n",
       "    .dataframe tbody tr th {\n",
       "        vertical-align: top;\n",
       "    }\n",
       "\n",
       "    .dataframe thead th {\n",
       "        text-align: right;\n",
       "    }\n",
       "</style>\n",
       "<table border=\"1\" class=\"dataframe\">\n",
       "  <thead>\n",
       "    <tr style=\"text-align: right;\">\n",
       "      <th></th>\n",
       "      <th>Unnamed: 0</th>\n",
       "      <th>Price</th>\n",
       "      <th>Currency</th>\n",
       "      <th>Brokered_by</th>\n",
       "      <th>AD_Situation</th>\n",
       "      <th>Rooms</th>\n",
       "      <th>Bath</th>\n",
       "      <th>Building space</th>\n",
       "      <th>Measruing unit</th>\n",
       "      <th>Address</th>\n",
       "      <th>...</th>\n",
       "      <th>Índice_costo_vida</th>\n",
       "      <th>Relación_precio_ingresos_propiedades</th>\n",
       "      <th>Índice_costo_desplazamiento</th>\n",
       "      <th>Índice_contaminación</th>\n",
       "      <th>Índice_calidad_vida</th>\n",
       "      <th>Measuring unit</th>\n",
       "      <th>Price/m2</th>\n",
       "      <th>Direction</th>\n",
       "      <th>Ciudad1</th>\n",
       "      <th>Postal_code</th>\n",
       "    </tr>\n",
       "  </thead>\n",
       "  <tbody>\n",
       "    <tr>\n",
       "      <th>0</th>\n",
       "      <td>0</td>\n",
       "      <td>289900</td>\n",
       "      <td>USD</td>\n",
       "      <td>Greene Realty Group LLC</td>\n",
       "      <td>New</td>\n",
       "      <td>3</td>\n",
       "      <td>2.0</td>\n",
       "      <td>181.0</td>\n",
       "      <td>sqft</td>\n",
       "      <td>5142 Puget Rd NE, Olympia, WA 98516</td>\n",
       "      <td>...</td>\n",
       "      <td>70,06</td>\n",
       "      <td>3,37</td>\n",
       "      <td>19,11</td>\n",
       "      <td>16,01</td>\n",
       "      <td>205,63</td>\n",
       "      <td>m2</td>\n",
       "      <td>1602.0</td>\n",
       "      <td>5142 Puget Rd NE, Olympia</td>\n",
       "      <td>Olympia</td>\n",
       "      <td>WA 98516</td>\n",
       "    </tr>\n",
       "  </tbody>\n",
       "</table>\n",
       "<p>1 rows × 26 columns</p>\n",
       "</div>"
      ],
      "text/plain": [
       "   Unnamed: 0   Price Currency              Brokered_by AD_Situation  Rooms  \\\n",
       "0           0  289900      USD  Greene Realty Group LLC          New      3   \n",
       "\n",
       "   Bath  Building space Measruing unit                              Address  \\\n",
       "0   2.0           181.0           sqft  5142 Puget Rd NE, Olympia, WA 98516   \n",
       "\n",
       "   ... Índice_costo_vida Relación_precio_ingresos_propiedades  \\\n",
       "0  ...             70,06                                 3,37   \n",
       "\n",
       "  Índice_costo_desplazamiento Índice_contaminación Índice_calidad_vida  \\\n",
       "0                       19,11                16,01              205,63   \n",
       "\n",
       "  Measuring unit Price/m2                  Direction   Ciudad1 Postal_code  \n",
       "0             m2   1602.0  5142 Puget Rd NE, Olympia   Olympia    WA 98516  \n",
       "\n",
       "[1 rows x 26 columns]"
      ]
     },
     "execution_count": 10,
     "metadata": {},
     "output_type": "execute_result"
    }
   ],
   "source": [
    "df3[\"Direction\"] = df3[\"Direction\"] + \",\" + df3[\"Ciudad1\"]\n",
    "df3.head(1)"
   ]
  },
  {
   "cell_type": "markdown",
   "id": "02dfa18b",
   "metadata": {},
   "source": [
    "Vamos a reescribir la columna \"Postal_code\" para que nos de únicamente el código postal: \n",
    "\n",
    "Para ello, utilizando regex, vamos a quedarnos únicamente con los valores numéricos del string"
   ]
  },
  {
   "cell_type": "code",
   "execution_count": 11,
   "id": "4ebe127b",
   "metadata": {
    "scrolled": true
   },
   "outputs": [
    {
     "data": {
      "text/html": [
       "<div>\n",
       "<style scoped>\n",
       "    .dataframe tbody tr th:only-of-type {\n",
       "        vertical-align: middle;\n",
       "    }\n",
       "\n",
       "    .dataframe tbody tr th {\n",
       "        vertical-align: top;\n",
       "    }\n",
       "\n",
       "    .dataframe thead th {\n",
       "        text-align: right;\n",
       "    }\n",
       "</style>\n",
       "<table border=\"1\" class=\"dataframe\">\n",
       "  <thead>\n",
       "    <tr style=\"text-align: right;\">\n",
       "      <th></th>\n",
       "      <th>Unnamed: 0</th>\n",
       "      <th>Price</th>\n",
       "      <th>Currency</th>\n",
       "      <th>Brokered_by</th>\n",
       "      <th>AD_Situation</th>\n",
       "      <th>Rooms</th>\n",
       "      <th>Bath</th>\n",
       "      <th>Building space</th>\n",
       "      <th>Measruing unit</th>\n",
       "      <th>Address</th>\n",
       "      <th>...</th>\n",
       "      <th>Índice_costo_vida</th>\n",
       "      <th>Relación_precio_ingresos_propiedades</th>\n",
       "      <th>Índice_costo_desplazamiento</th>\n",
       "      <th>Índice_contaminación</th>\n",
       "      <th>Índice_calidad_vida</th>\n",
       "      <th>Measuring unit</th>\n",
       "      <th>Price/m2</th>\n",
       "      <th>Direction</th>\n",
       "      <th>Ciudad1</th>\n",
       "      <th>Postal_code</th>\n",
       "    </tr>\n",
       "  </thead>\n",
       "  <tbody>\n",
       "    <tr>\n",
       "      <th>0</th>\n",
       "      <td>0</td>\n",
       "      <td>289900</td>\n",
       "      <td>USD</td>\n",
       "      <td>Greene Realty Group LLC</td>\n",
       "      <td>New</td>\n",
       "      <td>3</td>\n",
       "      <td>2.0</td>\n",
       "      <td>181.0</td>\n",
       "      <td>sqft</td>\n",
       "      <td>5142 Puget Rd NE, Olympia, WA 98516</td>\n",
       "      <td>...</td>\n",
       "      <td>70,06</td>\n",
       "      <td>3,37</td>\n",
       "      <td>19,11</td>\n",
       "      <td>16,01</td>\n",
       "      <td>205,63</td>\n",
       "      <td>m2</td>\n",
       "      <td>1602.0</td>\n",
       "      <td>5142 Puget Rd NE, Olympia</td>\n",
       "      <td>Olympia</td>\n",
       "      <td>98516</td>\n",
       "    </tr>\n",
       "  </tbody>\n",
       "</table>\n",
       "<p>1 rows × 26 columns</p>\n",
       "</div>"
      ],
      "text/plain": [
       "   Unnamed: 0   Price Currency              Brokered_by AD_Situation  Rooms  \\\n",
       "0           0  289900      USD  Greene Realty Group LLC          New      3   \n",
       "\n",
       "   Bath  Building space Measruing unit                              Address  \\\n",
       "0   2.0           181.0           sqft  5142 Puget Rd NE, Olympia, WA 98516   \n",
       "\n",
       "   ... Índice_costo_vida Relación_precio_ingresos_propiedades  \\\n",
       "0  ...             70,06                                 3,37   \n",
       "\n",
       "  Índice_costo_desplazamiento Índice_contaminación Índice_calidad_vida  \\\n",
       "0                       19,11                16,01              205,63   \n",
       "\n",
       "  Measuring unit Price/m2                  Direction   Ciudad1 Postal_code  \n",
       "0             m2   1602.0  5142 Puget Rd NE, Olympia   Olympia       98516  \n",
       "\n",
       "[1 rows x 26 columns]"
      ]
     },
     "execution_count": 11,
     "metadata": {},
     "output_type": "execute_result"
    }
   ],
   "source": [
    "df3[\"Postal_code\"] = df3.Postal_code.str.extract(\"(\\d+)\", expand=True)\n",
    "df3.head(1)"
   ]
  },
  {
   "cell_type": "markdown",
   "id": "8d60d6a6",
   "metadata": {},
   "source": [
    "Vamos a eliminar las columna que no nos interesan por estar la información \"duplicada\""
   ]
  },
  {
   "cell_type": "code",
   "execution_count": 12,
   "id": "57b7e516",
   "metadata": {},
   "outputs": [],
   "source": [
    "eliminar_columns = ['Address', 'Unnamed: 0', 'Ciudad1', 'Measruing unit']\n"
   ]
  },
  {
   "cell_type": "code",
   "execution_count": 13,
   "id": "98111a05",
   "metadata": {
    "scrolled": true
   },
   "outputs": [
    {
     "data": {
      "text/html": [
       "<div>\n",
       "<style scoped>\n",
       "    .dataframe tbody tr th:only-of-type {\n",
       "        vertical-align: middle;\n",
       "    }\n",
       "\n",
       "    .dataframe tbody tr th {\n",
       "        vertical-align: top;\n",
       "    }\n",
       "\n",
       "    .dataframe thead th {\n",
       "        text-align: right;\n",
       "    }\n",
       "</style>\n",
       "<table border=\"1\" class=\"dataframe\">\n",
       "  <thead>\n",
       "    <tr style=\"text-align: right;\">\n",
       "      <th></th>\n",
       "      <th>Price</th>\n",
       "      <th>Currency</th>\n",
       "      <th>Brokered_by</th>\n",
       "      <th>AD_Situation</th>\n",
       "      <th>Rooms</th>\n",
       "      <th>Bath</th>\n",
       "      <th>Building space</th>\n",
       "      <th>City</th>\n",
       "      <th>State</th>\n",
       "      <th>Índice_poder_adqui</th>\n",
       "      <th>...</th>\n",
       "      <th>Índice_clima</th>\n",
       "      <th>Índice_costo_vida</th>\n",
       "      <th>Relación_precio_ingresos_propiedades</th>\n",
       "      <th>Índice_costo_desplazamiento</th>\n",
       "      <th>Índice_contaminación</th>\n",
       "      <th>Índice_calidad_vida</th>\n",
       "      <th>Measuring unit</th>\n",
       "      <th>Price/m2</th>\n",
       "      <th>Direction</th>\n",
       "      <th>Postal_code</th>\n",
       "    </tr>\n",
       "  </thead>\n",
       "  <tbody>\n",
       "    <tr>\n",
       "      <th>0</th>\n",
       "      <td>289900</td>\n",
       "      <td>USD</td>\n",
       "      <td>Greene Realty Group LLC</td>\n",
       "      <td>New</td>\n",
       "      <td>3</td>\n",
       "      <td>2.0</td>\n",
       "      <td>181.0</td>\n",
       "      <td>Olympia</td>\n",
       "      <td>Washington</td>\n",
       "      <td>110,78</td>\n",
       "      <td>...</td>\n",
       "      <td>83,44</td>\n",
       "      <td>70,06</td>\n",
       "      <td>3,37</td>\n",
       "      <td>19,11</td>\n",
       "      <td>16,01</td>\n",
       "      <td>205,63</td>\n",
       "      <td>m2</td>\n",
       "      <td>1602.0</td>\n",
       "      <td>5142 Puget Rd NE, Olympia</td>\n",
       "      <td>98516</td>\n",
       "    </tr>\n",
       "  </tbody>\n",
       "</table>\n",
       "<p>1 rows × 22 columns</p>\n",
       "</div>"
      ],
      "text/plain": [
       "    Price Currency              Brokered_by AD_Situation  Rooms  Bath  \\\n",
       "0  289900      USD  Greene Realty Group LLC          New      3   2.0   \n",
       "\n",
       "   Building space     City       State Índice_poder_adqui  ... Índice_clima  \\\n",
       "0           181.0  Olympia  Washington             110,78  ...        83,44   \n",
       "\n",
       "  Índice_costo_vida Relación_precio_ingresos_propiedades  \\\n",
       "0             70,06                                 3,37   \n",
       "\n",
       "  Índice_costo_desplazamiento Índice_contaminación Índice_calidad_vida  \\\n",
       "0                       19,11                16,01              205,63   \n",
       "\n",
       "  Measuring unit Price/m2                  Direction  Postal_code  \n",
       "0             m2   1602.0  5142 Puget Rd NE, Olympia        98516  \n",
       "\n",
       "[1 rows x 22 columns]"
      ]
     },
     "execution_count": 13,
     "metadata": {},
     "output_type": "execute_result"
    }
   ],
   "source": [
    "df3_limpio = df3.drop(eliminar_columns, axis = 1)\n",
    "df3_limpio.head(1)"
   ]
  },
  {
   "cell_type": "markdown",
   "id": "745f1bf5",
   "metadata": {},
   "source": [
    "### Estandarización del tipado de las columnas"
   ]
  },
  {
   "cell_type": "markdown",
   "id": "b8336de6",
   "metadata": {},
   "source": [
    "Vamos a ordenar las columnas de nuestro DataFrame para que tenga algo más de sentido:"
   ]
  },
  {
   "cell_type": "code",
   "execution_count": 14,
   "id": "8f4b84a8",
   "metadata": {},
   "outputs": [
    {
     "data": {
      "text/html": [
       "<div>\n",
       "<style scoped>\n",
       "    .dataframe tbody tr th:only-of-type {\n",
       "        vertical-align: middle;\n",
       "    }\n",
       "\n",
       "    .dataframe tbody tr th {\n",
       "        vertical-align: top;\n",
       "    }\n",
       "\n",
       "    .dataframe thead th {\n",
       "        text-align: right;\n",
       "    }\n",
       "</style>\n",
       "<table border=\"1\" class=\"dataframe\">\n",
       "  <thead>\n",
       "    <tr style=\"text-align: right;\">\n",
       "      <th></th>\n",
       "      <th>Price</th>\n",
       "      <th>Currency</th>\n",
       "      <th>AD_Situation</th>\n",
       "      <th>Rooms</th>\n",
       "      <th>Bath</th>\n",
       "      <th>Building space</th>\n",
       "      <th>Measuring unit</th>\n",
       "      <th>Price/m2</th>\n",
       "      <th>Brokered_by</th>\n",
       "      <th>Direction</th>\n",
       "      <th>...</th>\n",
       "      <th>Postal_code</th>\n",
       "      <th>Índice_poder_adqui</th>\n",
       "      <th>Índice_seguridad</th>\n",
       "      <th>Índice_sanidad</th>\n",
       "      <th>Índice_clima</th>\n",
       "      <th>Índice_costo_vida</th>\n",
       "      <th>Relación_precio_ingresos_propiedades</th>\n",
       "      <th>Índice_costo_desplazamiento</th>\n",
       "      <th>Índice_contaminación</th>\n",
       "      <th>Índice_calidad_vida</th>\n",
       "    </tr>\n",
       "  </thead>\n",
       "  <tbody>\n",
       "    <tr>\n",
       "      <th>0</th>\n",
       "      <td>289900</td>\n",
       "      <td>USD</td>\n",
       "      <td>New</td>\n",
       "      <td>3</td>\n",
       "      <td>2.0</td>\n",
       "      <td>181.0</td>\n",
       "      <td>m2</td>\n",
       "      <td>1602.0</td>\n",
       "      <td>Greene Realty Group LLC</td>\n",
       "      <td>5142 Puget Rd NE, Olympia</td>\n",
       "      <td>...</td>\n",
       "      <td>98516</td>\n",
       "      <td>110,78</td>\n",
       "      <td>70,61</td>\n",
       "      <td>71,99</td>\n",
       "      <td>83,44</td>\n",
       "      <td>70,06</td>\n",
       "      <td>3,37</td>\n",
       "      <td>19,11</td>\n",
       "      <td>16,01</td>\n",
       "      <td>205,63</td>\n",
       "    </tr>\n",
       "  </tbody>\n",
       "</table>\n",
       "<p>1 rows × 22 columns</p>\n",
       "</div>"
      ],
      "text/plain": [
       "    Price Currency AD_Situation  Rooms  Bath  Building space Measuring unit  \\\n",
       "0  289900      USD          New      3   2.0           181.0             m2   \n",
       "\n",
       "   Price/m2              Brokered_by                  Direction  ...  \\\n",
       "0    1602.0  Greene Realty Group LLC  5142 Puget Rd NE, Olympia  ...   \n",
       "\n",
       "  Postal_code Índice_poder_adqui Índice_seguridad Índice_sanidad Índice_clima  \\\n",
       "0       98516             110,78            70,61          71,99        83,44   \n",
       "\n",
       "  Índice_costo_vida Relación_precio_ingresos_propiedades  \\\n",
       "0             70,06                                 3,37   \n",
       "\n",
       "  Índice_costo_desplazamiento Índice_contaminación Índice_calidad_vida  \n",
       "0                       19,11                16,01              205,63  \n",
       "\n",
       "[1 rows x 22 columns]"
      ]
     },
     "execution_count": 14,
     "metadata": {},
     "output_type": "execute_result"
    }
   ],
   "source": [
    "df3_limpio = df3_limpio.reindex(columns=['Price', 'Currency', 'AD_Situation', 'Rooms', 'Bath', 'Building space', 'Measuring unit', 'Price/m2', 'Brokered_by', 'Direction', 'City', 'State', 'Postal_code',\n",
    "       'Índice_poder_adqui', 'Índice_seguridad', 'Índice_sanidad',\n",
    "       'Índice_clima', 'Índice_costo_vida',\n",
    "       'Relación_precio_ingresos_propiedades', 'Índice_costo_desplazamiento',\n",
    "       'Índice_contaminación', 'Índice_calidad_vida'])\n",
    "df3_limpio.head(1)"
   ]
  },
  {
   "cell_type": "markdown",
   "id": "853ba2e7",
   "metadata": {},
   "source": [
    "A continuación, vamos a homogeneizar las columnas: pasar los nombres de las columnas a minusculas y reemplazar los espacios por \"_\":"
   ]
  },
  {
   "cell_type": "code",
   "execution_count": 15,
   "id": "765ac13a",
   "metadata": {},
   "outputs": [],
   "source": [
    "diccionario = {}\n",
    "for col in df3_limpio.columns:\n",
    "    diccionario[col] = col.lower().strip().replace(\" \", \"_\")"
   ]
  },
  {
   "cell_type": "code",
   "execution_count": 16,
   "id": "8fc61ff1",
   "metadata": {
    "scrolled": true
   },
   "outputs": [
    {
     "data": {
      "text/plain": [
       "{'Price': 'price',\n",
       " 'Currency': 'currency',\n",
       " 'AD_Situation': 'ad_situation',\n",
       " 'Rooms': 'rooms',\n",
       " 'Bath': 'bath',\n",
       " 'Building space': 'building_space',\n",
       " 'Measuring unit': 'measuring_unit',\n",
       " 'Price/m2': 'price/m2',\n",
       " 'Brokered_by': 'brokered_by',\n",
       " 'Direction': 'direction',\n",
       " 'City': 'city',\n",
       " 'State': 'state',\n",
       " 'Postal_code': 'postal_code',\n",
       " 'Índice_poder_adqui': 'índice_poder_adqui',\n",
       " 'Índice_seguridad': 'índice_seguridad',\n",
       " 'Índice_sanidad': 'índice_sanidad',\n",
       " 'Índice_clima': 'índice_clima',\n",
       " 'Índice_costo_vida': 'índice_costo_vida',\n",
       " 'Relación_precio_ingresos_propiedades': 'relación_precio_ingresos_propiedades',\n",
       " 'Índice_costo_desplazamiento': 'índice_costo_desplazamiento',\n",
       " 'Índice_contaminación': 'índice_contaminación',\n",
       " 'Índice_calidad_vida': 'índice_calidad_vida'}"
      ]
     },
     "execution_count": 16,
     "metadata": {},
     "output_type": "execute_result"
    }
   ],
   "source": [
    "nuevas_columnas = {col : col.lower().strip().replace(\" \", \"_\") for col in df3_limpio.columns}\n",
    "nuevas_columnas"
   ]
  },
  {
   "cell_type": "code",
   "execution_count": 17,
   "id": "fd1fcce3",
   "metadata": {
    "scrolled": false
   },
   "outputs": [
    {
     "data": {
      "text/html": [
       "<div>\n",
       "<style scoped>\n",
       "    .dataframe tbody tr th:only-of-type {\n",
       "        vertical-align: middle;\n",
       "    }\n",
       "\n",
       "    .dataframe tbody tr th {\n",
       "        vertical-align: top;\n",
       "    }\n",
       "\n",
       "    .dataframe thead th {\n",
       "        text-align: right;\n",
       "    }\n",
       "</style>\n",
       "<table border=\"1\" class=\"dataframe\">\n",
       "  <thead>\n",
       "    <tr style=\"text-align: right;\">\n",
       "      <th></th>\n",
       "      <th>price</th>\n",
       "      <th>currency</th>\n",
       "      <th>ad_situation</th>\n",
       "      <th>rooms</th>\n",
       "      <th>bath</th>\n",
       "      <th>building_space</th>\n",
       "      <th>measuring_unit</th>\n",
       "      <th>price/m2</th>\n",
       "      <th>brokered_by</th>\n",
       "      <th>direction</th>\n",
       "      <th>...</th>\n",
       "      <th>postal_code</th>\n",
       "      <th>índice_poder_adqui</th>\n",
       "      <th>índice_seguridad</th>\n",
       "      <th>índice_sanidad</th>\n",
       "      <th>índice_clima</th>\n",
       "      <th>índice_costo_vida</th>\n",
       "      <th>relación_precio_ingresos_propiedades</th>\n",
       "      <th>índice_costo_desplazamiento</th>\n",
       "      <th>índice_contaminación</th>\n",
       "      <th>índice_calidad_vida</th>\n",
       "    </tr>\n",
       "  </thead>\n",
       "  <tbody>\n",
       "    <tr>\n",
       "      <th>0</th>\n",
       "      <td>289900</td>\n",
       "      <td>USD</td>\n",
       "      <td>New</td>\n",
       "      <td>3</td>\n",
       "      <td>2.0</td>\n",
       "      <td>181.0</td>\n",
       "      <td>m2</td>\n",
       "      <td>1602.0</td>\n",
       "      <td>Greene Realty Group LLC</td>\n",
       "      <td>5142 Puget Rd NE, Olympia</td>\n",
       "      <td>...</td>\n",
       "      <td>98516</td>\n",
       "      <td>110,78</td>\n",
       "      <td>70,61</td>\n",
       "      <td>71,99</td>\n",
       "      <td>83,44</td>\n",
       "      <td>70,06</td>\n",
       "      <td>3,37</td>\n",
       "      <td>19,11</td>\n",
       "      <td>16,01</td>\n",
       "      <td>205,63</td>\n",
       "    </tr>\n",
       "  </tbody>\n",
       "</table>\n",
       "<p>1 rows × 22 columns</p>\n",
       "</div>"
      ],
      "text/plain": [
       "    price currency ad_situation  rooms  bath  building_space measuring_unit  \\\n",
       "0  289900      USD          New      3   2.0           181.0             m2   \n",
       "\n",
       "   price/m2              brokered_by                  direction  ...  \\\n",
       "0    1602.0  Greene Realty Group LLC  5142 Puget Rd NE, Olympia  ...   \n",
       "\n",
       "  postal_code índice_poder_adqui índice_seguridad índice_sanidad índice_clima  \\\n",
       "0       98516             110,78            70,61          71,99        83,44   \n",
       "\n",
       "  índice_costo_vida relación_precio_ingresos_propiedades  \\\n",
       "0             70,06                                 3,37   \n",
       "\n",
       "  índice_costo_desplazamiento índice_contaminación índice_calidad_vida  \n",
       "0                       19,11                16,01              205,63  \n",
       "\n",
       "[1 rows x 22 columns]"
      ]
     },
     "execution_count": 17,
     "metadata": {},
     "output_type": "execute_result"
    }
   ],
   "source": [
    "df3_limpio.rename(columns = nuevas_columnas, inplace =True)\n",
    "df3_limpio.head(1)"
   ]
  },
  {
   "cell_type": "markdown",
   "id": "aeb01be5",
   "metadata": {},
   "source": [
    "### Tipo de Datos"
   ]
  },
  {
   "cell_type": "markdown",
   "id": "44e785fb",
   "metadata": {},
   "source": [
    "Problema: La columna \"baños\" está en formato \"float\". Debemos convertirlas a integer. Las columans \"índice_poder_adqui', 'índice_seguridad', 'índice_sanidad', 'índice_clima', 'índice_costo_vida', 'relación_precio_ingresos_propiedades', 'índice_costo_desplazamiento', 'índice_contaminación', 'índice_calidad_vida' están en formato \"string\"... Tendremos que hacer algo con ellas más adelante. Debemos convertirlas a integer:"
   ]
  },
  {
   "cell_type": "code",
   "execution_count": 18,
   "id": "c423640e",
   "metadata": {},
   "outputs": [
    {
     "data": {
      "text/plain": [
       "price                                     int64\n",
       "currency                                 object\n",
       "ad_situation                             object\n",
       "rooms                                     int64\n",
       "bath                                    float64\n",
       "building_space                          float64\n",
       "measuring_unit                           object\n",
       "price/m2                                float64\n",
       "brokered_by                              object\n",
       "direction                                object\n",
       "city                                     object\n",
       "state                                    object\n",
       "postal_code                              object\n",
       "índice_poder_adqui                       object\n",
       "índice_seguridad                         object\n",
       "índice_sanidad                           object\n",
       "índice_clima                             object\n",
       "índice_costo_vida                        object\n",
       "relación_precio_ingresos_propiedades     object\n",
       "índice_costo_desplazamiento              object\n",
       "índice_contaminación                     object\n",
       "índice_calidad_vida                      object\n",
       "dtype: object"
      ]
     },
     "execution_count": 18,
     "metadata": {},
     "output_type": "execute_result"
    }
   ],
   "source": [
    "df3_limpio.dtypes"
   ]
  },
  {
   "cell_type": "code",
   "execution_count": 19,
   "id": "4ecc4cab",
   "metadata": {},
   "outputs": [
    {
     "data": {
      "text/html": [
       "<div>\n",
       "<style scoped>\n",
       "    .dataframe tbody tr th:only-of-type {\n",
       "        vertical-align: middle;\n",
       "    }\n",
       "\n",
       "    .dataframe tbody tr th {\n",
       "        vertical-align: top;\n",
       "    }\n",
       "\n",
       "    .dataframe thead th {\n",
       "        text-align: right;\n",
       "    }\n",
       "</style>\n",
       "<table border=\"1\" class=\"dataframe\">\n",
       "  <thead>\n",
       "    <tr style=\"text-align: right;\">\n",
       "      <th></th>\n",
       "      <th>price</th>\n",
       "      <th>currency</th>\n",
       "      <th>ad_situation</th>\n",
       "      <th>rooms</th>\n",
       "      <th>bath</th>\n",
       "      <th>building_space</th>\n",
       "      <th>measuring_unit</th>\n",
       "      <th>price/m2</th>\n",
       "      <th>brokered_by</th>\n",
       "      <th>direction</th>\n",
       "      <th>...</th>\n",
       "      <th>postal_code</th>\n",
       "      <th>índice_poder_adqui</th>\n",
       "      <th>índice_seguridad</th>\n",
       "      <th>índice_sanidad</th>\n",
       "      <th>índice_clima</th>\n",
       "      <th>índice_costo_vida</th>\n",
       "      <th>relación_precio_ingresos_propiedades</th>\n",
       "      <th>índice_costo_desplazamiento</th>\n",
       "      <th>índice_contaminación</th>\n",
       "      <th>índice_calidad_vida</th>\n",
       "    </tr>\n",
       "  </thead>\n",
       "  <tbody>\n",
       "    <tr>\n",
       "      <th>0</th>\n",
       "      <td>289900</td>\n",
       "      <td>USD</td>\n",
       "      <td>New</td>\n",
       "      <td>3</td>\n",
       "      <td>2</td>\n",
       "      <td>181.0</td>\n",
       "      <td>m2</td>\n",
       "      <td>1602.0</td>\n",
       "      <td>Greene Realty Group LLC</td>\n",
       "      <td>5142 Puget Rd NE, Olympia</td>\n",
       "      <td>...</td>\n",
       "      <td>98516</td>\n",
       "      <td>110,78</td>\n",
       "      <td>70,61</td>\n",
       "      <td>71,99</td>\n",
       "      <td>83,44</td>\n",
       "      <td>70,06</td>\n",
       "      <td>3,37</td>\n",
       "      <td>19,11</td>\n",
       "      <td>16,01</td>\n",
       "      <td>205,63</td>\n",
       "    </tr>\n",
       "    <tr>\n",
       "      <th>1</th>\n",
       "      <td>146999</td>\n",
       "      <td>USD</td>\n",
       "      <td>Old</td>\n",
       "      <td>3</td>\n",
       "      <td>2</td>\n",
       "      <td>124.0</td>\n",
       "      <td>m2</td>\n",
       "      <td>1185.0</td>\n",
       "      <td>Adair Homes</td>\n",
       "      <td>South Puget Sound 2303 93rd Ave SW, Olympia</td>\n",
       "      <td>...</td>\n",
       "      <td>98512</td>\n",
       "      <td>110,78</td>\n",
       "      <td>70,61</td>\n",
       "      <td>71,99</td>\n",
       "      <td>83,44</td>\n",
       "      <td>70,06</td>\n",
       "      <td>3,37</td>\n",
       "      <td>19,11</td>\n",
       "      <td>16,01</td>\n",
       "      <td>205,63</td>\n",
       "    </tr>\n",
       "  </tbody>\n",
       "</table>\n",
       "<p>2 rows × 22 columns</p>\n",
       "</div>"
      ],
      "text/plain": [
       "    price currency ad_situation  rooms  bath  building_space measuring_unit  \\\n",
       "0  289900      USD          New      3     2           181.0             m2   \n",
       "1  146999      USD          Old      3     2           124.0             m2   \n",
       "\n",
       "   price/m2              brokered_by  \\\n",
       "0    1602.0  Greene Realty Group LLC   \n",
       "1    1185.0              Adair Homes   \n",
       "\n",
       "                                     direction  ... postal_code  \\\n",
       "0                    5142 Puget Rd NE, Olympia  ...       98516   \n",
       "1  South Puget Sound 2303 93rd Ave SW, Olympia  ...       98512   \n",
       "\n",
       "  índice_poder_adqui índice_seguridad índice_sanidad índice_clima  \\\n",
       "0             110,78            70,61          71,99        83,44   \n",
       "1             110,78            70,61          71,99        83,44   \n",
       "\n",
       "  índice_costo_vida relación_precio_ingresos_propiedades  \\\n",
       "0             70,06                                 3,37   \n",
       "1             70,06                                 3,37   \n",
       "\n",
       "  índice_costo_desplazamiento índice_contaminación índice_calidad_vida  \n",
       "0                       19,11                16,01              205,63  \n",
       "1                       19,11                16,01              205,63  \n",
       "\n",
       "[2 rows x 22 columns]"
      ]
     },
     "execution_count": 19,
     "metadata": {},
     "output_type": "execute_result"
    }
   ],
   "source": [
    "df3_limpio[\"bath\"] = df3_limpio[\"bath\"].round(1).astype(int)\n",
    "df3_limpio.head(2)"
   ]
  },
  {
   "cell_type": "code",
   "execution_count": 20,
   "id": "e414c081",
   "metadata": {},
   "outputs": [],
   "source": [
    "x = ['índice_poder_adqui', 'índice_seguridad',\n",
    "       'índice_sanidad', 'índice_clima', 'índice_costo_vida',\n",
    "       'relación_precio_ingresos_propiedades', 'índice_costo_desplazamiento',\n",
    "       'índice_contaminación', 'índice_calidad_vida']\n",
    "\n",
    "def puntos(df,x):\n",
    "    for i in x:\n",
    "        \n",
    "        df3_limpio[i] = df3_limpio [i].str.replace(\",\",\"\")\n",
    "        df3_limpio[i] = pd.to_numeric(df[i], errors = \"coerce\").astype(\"Int64\")\n"
   ]
  },
  {
   "cell_type": "code",
   "execution_count": 21,
   "id": "f4f5b70c",
   "metadata": {},
   "outputs": [],
   "source": [
    "puntos(df3_limpio, x)"
   ]
  },
  {
   "cell_type": "code",
   "execution_count": 22,
   "id": "a1924367",
   "metadata": {
    "scrolled": false
   },
   "outputs": [
    {
     "data": {
      "text/plain": [
       "price                                     int64\n",
       "currency                                 object\n",
       "ad_situation                             object\n",
       "rooms                                     int64\n",
       "bath                                      int64\n",
       "building_space                          float64\n",
       "measuring_unit                           object\n",
       "price/m2                                float64\n",
       "brokered_by                              object\n",
       "direction                                object\n",
       "city                                     object\n",
       "state                                    object\n",
       "postal_code                              object\n",
       "índice_poder_adqui                        Int64\n",
       "índice_seguridad                          Int64\n",
       "índice_sanidad                            Int64\n",
       "índice_clima                              Int64\n",
       "índice_costo_vida                         Int64\n",
       "relación_precio_ingresos_propiedades      Int64\n",
       "índice_costo_desplazamiento               Int64\n",
       "índice_contaminación                      Int64\n",
       "índice_calidad_vida                       Int64\n",
       "dtype: object"
      ]
     },
     "execution_count": 22,
     "metadata": {},
     "output_type": "execute_result"
    }
   ],
   "source": [
    "df3_limpio.dtypes"
   ]
  },
  {
   "cell_type": "markdown",
   "id": "69d15514",
   "metadata": {},
   "source": [
    "### Duplicados"
   ]
  },
  {
   "cell_type": "markdown",
   "id": "b0887cc7",
   "metadata": {},
   "source": [
    "Problema: Duplicado. En el análisis exploratorio identificamos 2 duplicados:"
   ]
  },
  {
   "cell_type": "code",
   "execution_count": 23,
   "id": "bafde2d1",
   "metadata": {},
   "outputs": [
    {
     "data": {
      "text/plain": [
       "2"
      ]
     },
     "execution_count": 23,
     "metadata": {},
     "output_type": "execute_result"
    }
   ],
   "source": [
    "df3_limpio.duplicated().sum()"
   ]
  },
  {
   "cell_type": "code",
   "execution_count": 24,
   "id": "1e2903f5",
   "metadata": {
    "scrolled": true
   },
   "outputs": [
    {
     "data": {
      "text/html": [
       "<div>\n",
       "<style scoped>\n",
       "    .dataframe tbody tr th:only-of-type {\n",
       "        vertical-align: middle;\n",
       "    }\n",
       "\n",
       "    .dataframe tbody tr th {\n",
       "        vertical-align: top;\n",
       "    }\n",
       "\n",
       "    .dataframe thead th {\n",
       "        text-align: right;\n",
       "    }\n",
       "</style>\n",
       "<table border=\"1\" class=\"dataframe\">\n",
       "  <thead>\n",
       "    <tr style=\"text-align: right;\">\n",
       "      <th></th>\n",
       "      <th>price</th>\n",
       "      <th>currency</th>\n",
       "      <th>ad_situation</th>\n",
       "      <th>rooms</th>\n",
       "      <th>bath</th>\n",
       "      <th>building_space</th>\n",
       "      <th>measuring_unit</th>\n",
       "      <th>price/m2</th>\n",
       "      <th>brokered_by</th>\n",
       "      <th>direction</th>\n",
       "      <th>...</th>\n",
       "      <th>postal_code</th>\n",
       "      <th>índice_poder_adqui</th>\n",
       "      <th>índice_seguridad</th>\n",
       "      <th>índice_sanidad</th>\n",
       "      <th>índice_clima</th>\n",
       "      <th>índice_costo_vida</th>\n",
       "      <th>relación_precio_ingresos_propiedades</th>\n",
       "      <th>índice_costo_desplazamiento</th>\n",
       "      <th>índice_contaminación</th>\n",
       "      <th>índice_calidad_vida</th>\n",
       "    </tr>\n",
       "  </thead>\n",
       "  <tbody>\n",
       "    <tr>\n",
       "      <th>461</th>\n",
       "      <td>484000</td>\n",
       "      <td>USD</td>\n",
       "      <td>New</td>\n",
       "      <td>3</td>\n",
       "      <td>2</td>\n",
       "      <td>250.0</td>\n",
       "      <td>m2</td>\n",
       "      <td>1936.0</td>\n",
       "      <td>Pacific Lifestyle Homes</td>\n",
       "      <td>Adam's Glen 16701 NE 88th St, Vancouver</td>\n",
       "      <td>...</td>\n",
       "      <td>98682</td>\n",
       "      <td>9044</td>\n",
       "      <td>6257</td>\n",
       "      <td>7477</td>\n",
       "      <td>9115</td>\n",
       "      <td>7331</td>\n",
       "      <td>1178</td>\n",
       "      <td>3690</td>\n",
       "      <td>2501</td>\n",
       "      <td>17353</td>\n",
       "    </tr>\n",
       "    <tr>\n",
       "      <th>503</th>\n",
       "      <td>394000</td>\n",
       "      <td>USD</td>\n",
       "      <td>New</td>\n",
       "      <td>3</td>\n",
       "      <td>2</td>\n",
       "      <td>135.0</td>\n",
       "      <td>m2</td>\n",
       "      <td>2919.0</td>\n",
       "      <td>Pacific Lifestyle Homes</td>\n",
       "      <td>Parkers Abby 11203 NE 133rd Pl., Vancouver</td>\n",
       "      <td>...</td>\n",
       "      <td>98682</td>\n",
       "      <td>9044</td>\n",
       "      <td>6257</td>\n",
       "      <td>7477</td>\n",
       "      <td>9115</td>\n",
       "      <td>7331</td>\n",
       "      <td>1178</td>\n",
       "      <td>3690</td>\n",
       "      <td>2501</td>\n",
       "      <td>17353</td>\n",
       "    </tr>\n",
       "  </tbody>\n",
       "</table>\n",
       "<p>2 rows × 22 columns</p>\n",
       "</div>"
      ],
      "text/plain": [
       "      price currency ad_situation  rooms  bath  building_space measuring_unit  \\\n",
       "461  484000      USD          New      3     2           250.0             m2   \n",
       "503  394000      USD          New      3     2           135.0             m2   \n",
       "\n",
       "     price/m2              brokered_by  \\\n",
       "461    1936.0  Pacific Lifestyle Homes   \n",
       "503    2919.0  Pacific Lifestyle Homes   \n",
       "\n",
       "                                      direction  ... postal_code  \\\n",
       "461     Adam's Glen 16701 NE 88th St, Vancouver  ...       98682   \n",
       "503  Parkers Abby 11203 NE 133rd Pl., Vancouver  ...       98682   \n",
       "\n",
       "    índice_poder_adqui índice_seguridad  índice_sanidad  índice_clima  \\\n",
       "461               9044             6257            7477          9115   \n",
       "503               9044             6257            7477          9115   \n",
       "\n",
       "     índice_costo_vida  relación_precio_ingresos_propiedades  \\\n",
       "461               7331                                  1178   \n",
       "503               7331                                  1178   \n",
       "\n",
       "     índice_costo_desplazamiento  índice_contaminación  índice_calidad_vida  \n",
       "461                         3690                  2501                17353  \n",
       "503                         3690                  2501                17353  \n",
       "\n",
       "[2 rows x 22 columns]"
      ]
     },
     "execution_count": 24,
     "metadata": {},
     "output_type": "execute_result"
    }
   ],
   "source": [
    "df3_limpio[df3_limpio.duplicated() == True]"
   ]
  },
  {
   "cell_type": "markdown",
   "id": "2ee9681b",
   "metadata": {},
   "source": [
    "Una vez identificamos las filas duplicadas, procedemos a su eliminación:"
   ]
  },
  {
   "cell_type": "code",
   "execution_count": 25,
   "id": "05912072",
   "metadata": {},
   "outputs": [],
   "source": [
    "df3_limpio.drop_duplicates(inplace = True)"
   ]
  },
  {
   "cell_type": "code",
   "execution_count": 26,
   "id": "fb48ba82",
   "metadata": {
    "scrolled": true
   },
   "outputs": [
    {
     "data": {
      "text/plain": [
       "0"
      ]
     },
     "execution_count": 26,
     "metadata": {},
     "output_type": "execute_result"
    }
   ],
   "source": [
    "df3_limpio.duplicated().sum()"
   ]
  },
  {
   "cell_type": "markdown",
   "id": "a00590ce",
   "metadata": {},
   "source": [
    "### Valores Nulos"
   ]
  },
  {
   "cell_type": "code",
   "execution_count": 27,
   "id": "3ccaba1a",
   "metadata": {},
   "outputs": [
    {
     "data": {
      "text/plain": [
       "price                                   0\n",
       "currency                                0\n",
       "ad_situation                            0\n",
       "rooms                                   0\n",
       "bath                                    0\n",
       "building_space                          0\n",
       "measuring_unit                          0\n",
       "price/m2                                0\n",
       "brokered_by                             0\n",
       "direction                               0\n",
       "city                                    0\n",
       "state                                   0\n",
       "postal_code                             2\n",
       "índice_poder_adqui                      0\n",
       "índice_seguridad                        0\n",
       "índice_sanidad                          0\n",
       "índice_clima                            0\n",
       "índice_costo_vida                       0\n",
       "relación_precio_ingresos_propiedades    0\n",
       "índice_costo_desplazamiento             0\n",
       "índice_contaminación                    0\n",
       "índice_calidad_vida                     0\n",
       "dtype: int64"
      ]
     },
     "execution_count": 27,
     "metadata": {},
     "output_type": "execute_result"
    }
   ],
   "source": [
    "df3_limpio.isnull().sum()"
   ]
  },
  {
   "cell_type": "code",
   "execution_count": 28,
   "id": "f70a57d3",
   "metadata": {},
   "outputs": [],
   "source": [
    "df3_limpio[\"postal_code\"] = df3_limpio[\"postal_code\"].fillna(0)"
   ]
  },
  {
   "cell_type": "code",
   "execution_count": 29,
   "id": "2ddbb2b4",
   "metadata": {},
   "outputs": [
    {
     "data": {
      "text/plain": [
       "price                                   0\n",
       "currency                                0\n",
       "ad_situation                            0\n",
       "rooms                                   0\n",
       "bath                                    0\n",
       "building_space                          0\n",
       "measuring_unit                          0\n",
       "price/m2                                0\n",
       "brokered_by                             0\n",
       "direction                               0\n",
       "city                                    0\n",
       "state                                   0\n",
       "postal_code                             0\n",
       "índice_poder_adqui                      0\n",
       "índice_seguridad                        0\n",
       "índice_sanidad                          0\n",
       "índice_clima                            0\n",
       "índice_costo_vida                       0\n",
       "relación_precio_ingresos_propiedades    0\n",
       "índice_costo_desplazamiento             0\n",
       "índice_contaminación                    0\n",
       "índice_calidad_vida                     0\n",
       "dtype: int64"
      ]
     },
     "execution_count": 29,
     "metadata": {},
     "output_type": "execute_result"
    }
   ],
   "source": [
    "df3_limpio.isnull().sum()"
   ]
  },
  {
   "cell_type": "code",
   "execution_count": 30,
   "id": "fa2519bf",
   "metadata": {},
   "outputs": [
    {
     "data": {
      "text/plain": [
       "dtype('O')"
      ]
     },
     "execution_count": 30,
     "metadata": {},
     "output_type": "execute_result"
    }
   ],
   "source": [
    "df3_limpio[\"postal_code\"].dtypes"
   ]
  },
  {
   "cell_type": "code",
   "execution_count": 31,
   "id": "c94cd9a8",
   "metadata": {},
   "outputs": [],
   "source": [
    "df3_limpio[\"postal_code\"] = df3_limpio[\"postal_code\"].astype(int)"
   ]
  },
  {
   "cell_type": "code",
   "execution_count": 32,
   "id": "d0a2c4b9",
   "metadata": {},
   "outputs": [
    {
     "data": {
      "text/plain": [
       "dtype('int64')"
      ]
     },
     "execution_count": 32,
     "metadata": {},
     "output_type": "execute_result"
    }
   ],
   "source": [
    "df3_limpio[\"postal_code\"].dtypes"
   ]
  },
  {
   "cell_type": "markdown",
   "id": "6bef43ef",
   "metadata": {},
   "source": [
    "### Principales estadísticos"
   ]
  },
  {
   "cell_type": "code",
   "execution_count": 33,
   "id": "f4689e51",
   "metadata": {},
   "outputs": [
    {
     "data": {
      "text/html": [
       "<div>\n",
       "<style scoped>\n",
       "    .dataframe tbody tr th:only-of-type {\n",
       "        vertical-align: middle;\n",
       "    }\n",
       "\n",
       "    .dataframe tbody tr th {\n",
       "        vertical-align: top;\n",
       "    }\n",
       "\n",
       "    .dataframe thead th {\n",
       "        text-align: right;\n",
       "    }\n",
       "</style>\n",
       "<table border=\"1\" class=\"dataframe\">\n",
       "  <thead>\n",
       "    <tr style=\"text-align: right;\">\n",
       "      <th></th>\n",
       "      <th>count</th>\n",
       "      <th>mean</th>\n",
       "      <th>std</th>\n",
       "      <th>min</th>\n",
       "      <th>25%</th>\n",
       "      <th>50%</th>\n",
       "      <th>75%</th>\n",
       "      <th>max</th>\n",
       "    </tr>\n",
       "  </thead>\n",
       "  <tbody>\n",
       "    <tr>\n",
       "      <th>price</th>\n",
       "      <td>683.0</td>\n",
       "      <td>592977.174231</td>\n",
       "      <td>423870.700956</td>\n",
       "      <td>27900.0</td>\n",
       "      <td>339700.0</td>\n",
       "      <td>449900.0</td>\n",
       "      <td>700000.0</td>\n",
       "      <td>3580000.0</td>\n",
       "    </tr>\n",
       "    <tr>\n",
       "      <th>rooms</th>\n",
       "      <td>683.0</td>\n",
       "      <td>3.207906</td>\n",
       "      <td>1.065644</td>\n",
       "      <td>1.0</td>\n",
       "      <td>3.0</td>\n",
       "      <td>3.0</td>\n",
       "      <td>4.0</td>\n",
       "      <td>8.0</td>\n",
       "    </tr>\n",
       "    <tr>\n",
       "      <th>bath</th>\n",
       "      <td>683.0</td>\n",
       "      <td>2.011713</td>\n",
       "      <td>0.871432</td>\n",
       "      <td>1.0</td>\n",
       "      <td>2.0</td>\n",
       "      <td>2.0</td>\n",
       "      <td>2.0</td>\n",
       "      <td>8.0</td>\n",
       "    </tr>\n",
       "    <tr>\n",
       "      <th>building_space</th>\n",
       "      <td>683.0</td>\n",
       "      <td>180.346999</td>\n",
       "      <td>79.253526</td>\n",
       "      <td>42.0</td>\n",
       "      <td>122.5</td>\n",
       "      <td>168.0</td>\n",
       "      <td>225.5</td>\n",
       "      <td>585.0</td>\n",
       "    </tr>\n",
       "    <tr>\n",
       "      <th>price/m2</th>\n",
       "      <td>683.0</td>\n",
       "      <td>3418.598829</td>\n",
       "      <td>1812.137456</td>\n",
       "      <td>297.0</td>\n",
       "      <td>2252.5</td>\n",
       "      <td>2914.0</td>\n",
       "      <td>4222.0</td>\n",
       "      <td>15049.0</td>\n",
       "    </tr>\n",
       "    <tr>\n",
       "      <th>postal_code</th>\n",
       "      <td>683.0</td>\n",
       "      <td>97478.200586</td>\n",
       "      <td>5504.174697</td>\n",
       "      <td>0.0</td>\n",
       "      <td>97237.5</td>\n",
       "      <td>98178.0</td>\n",
       "      <td>98506.0</td>\n",
       "      <td>98686.0</td>\n",
       "    </tr>\n",
       "    <tr>\n",
       "      <th>índice_poder_adqui</th>\n",
       "      <td>683.0</td>\n",
       "      <td>11487.631040</td>\n",
       "      <td>2479.533594</td>\n",
       "      <td>9044.0</td>\n",
       "      <td>9240.0</td>\n",
       "      <td>10626.0</td>\n",
       "      <td>13635.0</td>\n",
       "      <td>18897.0</td>\n",
       "    </tr>\n",
       "    <tr>\n",
       "      <th>índice_seguridad</th>\n",
       "      <td>683.0</td>\n",
       "      <td>5665.431918</td>\n",
       "      <td>1150.258067</td>\n",
       "      <td>4290.0</td>\n",
       "      <td>4843.0</td>\n",
       "      <td>4932.0</td>\n",
       "      <td>7061.0</td>\n",
       "      <td>8514.0</td>\n",
       "    </tr>\n",
       "    <tr>\n",
       "      <th>índice_sanidad</th>\n",
       "      <td>683.0</td>\n",
       "      <td>7405.383602</td>\n",
       "      <td>216.472085</td>\n",
       "      <td>7199.0</td>\n",
       "      <td>7318.0</td>\n",
       "      <td>7319.0</td>\n",
       "      <td>7407.0</td>\n",
       "      <td>8685.0</td>\n",
       "    </tr>\n",
       "    <tr>\n",
       "      <th>índice_clima</th>\n",
       "      <td>683.0</td>\n",
       "      <td>8952.026354</td>\n",
       "      <td>438.735014</td>\n",
       "      <td>6188.0</td>\n",
       "      <td>8956.0</td>\n",
       "      <td>9088.0</td>\n",
       "      <td>9173.0</td>\n",
       "      <td>9682.0</td>\n",
       "    </tr>\n",
       "    <tr>\n",
       "      <th>índice_costo_vida</th>\n",
       "      <td>683.0</td>\n",
       "      <td>7766.222548</td>\n",
       "      <td>648.364120</td>\n",
       "      <td>6912.0</td>\n",
       "      <td>7331.0</td>\n",
       "      <td>7566.0</td>\n",
       "      <td>7798.0</td>\n",
       "      <td>8885.0</td>\n",
       "    </tr>\n",
       "    <tr>\n",
       "      <th>relación_precio_ingresos_propiedades</th>\n",
       "      <td>683.0</td>\n",
       "      <td>595.143485</td>\n",
       "      <td>286.120778</td>\n",
       "      <td>337.0</td>\n",
       "      <td>429.0</td>\n",
       "      <td>461.0</td>\n",
       "      <td>808.0</td>\n",
       "      <td>1178.0</td>\n",
       "    </tr>\n",
       "    <tr>\n",
       "      <th>índice_costo_desplazamiento</th>\n",
       "      <td>683.0</td>\n",
       "      <td>3448.900439</td>\n",
       "      <td>889.040526</td>\n",
       "      <td>1911.0</td>\n",
       "      <td>3114.0</td>\n",
       "      <td>3690.0</td>\n",
       "      <td>4194.0</td>\n",
       "      <td>4473.0</td>\n",
       "    </tr>\n",
       "    <tr>\n",
       "      <th>índice_contaminación</th>\n",
       "      <td>683.0</td>\n",
       "      <td>2685.837482</td>\n",
       "      <td>716.328376</td>\n",
       "      <td>1215.0</td>\n",
       "      <td>2501.0</td>\n",
       "      <td>2906.0</td>\n",
       "      <td>3098.0</td>\n",
       "      <td>4868.0</td>\n",
       "    </tr>\n",
       "    <tr>\n",
       "      <th>índice_calidad_vida</th>\n",
       "      <td>683.0</td>\n",
       "      <td>18487.446559</td>\n",
       "      <td>1933.180850</td>\n",
       "      <td>15786.0</td>\n",
       "      <td>17353.0</td>\n",
       "      <td>17609.0</td>\n",
       "      <td>20563.0</td>\n",
       "      <td>24219.0</td>\n",
       "    </tr>\n",
       "  </tbody>\n",
       "</table>\n",
       "</div>"
      ],
      "text/plain": [
       "                                      count           mean            std  \\\n",
       "price                                 683.0  592977.174231  423870.700956   \n",
       "rooms                                 683.0       3.207906       1.065644   \n",
       "bath                                  683.0       2.011713       0.871432   \n",
       "building_space                        683.0     180.346999      79.253526   \n",
       "price/m2                              683.0    3418.598829    1812.137456   \n",
       "postal_code                           683.0   97478.200586    5504.174697   \n",
       "índice_poder_adqui                    683.0   11487.631040    2479.533594   \n",
       "índice_seguridad                      683.0    5665.431918    1150.258067   \n",
       "índice_sanidad                        683.0    7405.383602     216.472085   \n",
       "índice_clima                          683.0    8952.026354     438.735014   \n",
       "índice_costo_vida                     683.0    7766.222548     648.364120   \n",
       "relación_precio_ingresos_propiedades  683.0     595.143485     286.120778   \n",
       "índice_costo_desplazamiento           683.0    3448.900439     889.040526   \n",
       "índice_contaminación                  683.0    2685.837482     716.328376   \n",
       "índice_calidad_vida                   683.0   18487.446559    1933.180850   \n",
       "\n",
       "                                          min       25%       50%       75%  \\\n",
       "price                                 27900.0  339700.0  449900.0  700000.0   \n",
       "rooms                                     1.0       3.0       3.0       4.0   \n",
       "bath                                      1.0       2.0       2.0       2.0   \n",
       "building_space                           42.0     122.5     168.0     225.5   \n",
       "price/m2                                297.0    2252.5    2914.0    4222.0   \n",
       "postal_code                               0.0   97237.5   98178.0   98506.0   \n",
       "índice_poder_adqui                     9044.0    9240.0   10626.0   13635.0   \n",
       "índice_seguridad                       4290.0    4843.0    4932.0    7061.0   \n",
       "índice_sanidad                         7199.0    7318.0    7319.0    7407.0   \n",
       "índice_clima                           6188.0    8956.0    9088.0    9173.0   \n",
       "índice_costo_vida                      6912.0    7331.0    7566.0    7798.0   \n",
       "relación_precio_ingresos_propiedades    337.0     429.0     461.0     808.0   \n",
       "índice_costo_desplazamiento            1911.0    3114.0    3690.0    4194.0   \n",
       "índice_contaminación                   1215.0    2501.0    2906.0    3098.0   \n",
       "índice_calidad_vida                   15786.0   17353.0   17609.0   20563.0   \n",
       "\n",
       "                                            max  \n",
       "price                                 3580000.0  \n",
       "rooms                                       8.0  \n",
       "bath                                        8.0  \n",
       "building_space                            585.0  \n",
       "price/m2                                15049.0  \n",
       "postal_code                             98686.0  \n",
       "índice_poder_adqui                      18897.0  \n",
       "índice_seguridad                         8514.0  \n",
       "índice_sanidad                           8685.0  \n",
       "índice_clima                             9682.0  \n",
       "índice_costo_vida                        8885.0  \n",
       "relación_precio_ingresos_propiedades     1178.0  \n",
       "índice_costo_desplazamiento              4473.0  \n",
       "índice_contaminación                     4868.0  \n",
       "índice_calidad_vida                     24219.0  "
      ]
     },
     "execution_count": 33,
     "metadata": {},
     "output_type": "execute_result"
    }
   ],
   "source": [
    "df3_limpio.describe().T"
   ]
  },
  {
   "cell_type": "code",
   "execution_count": 34,
   "id": "f633f58a",
   "metadata": {
    "scrolled": true
   },
   "outputs": [
    {
     "data": {
      "text/html": [
       "<div>\n",
       "<style scoped>\n",
       "    .dataframe tbody tr th:only-of-type {\n",
       "        vertical-align: middle;\n",
       "    }\n",
       "\n",
       "    .dataframe tbody tr th {\n",
       "        vertical-align: top;\n",
       "    }\n",
       "\n",
       "    .dataframe thead th {\n",
       "        text-align: right;\n",
       "    }\n",
       "</style>\n",
       "<table border=\"1\" class=\"dataframe\">\n",
       "  <thead>\n",
       "    <tr style=\"text-align: right;\">\n",
       "      <th></th>\n",
       "      <th>count</th>\n",
       "      <th>unique</th>\n",
       "      <th>top</th>\n",
       "      <th>freq</th>\n",
       "    </tr>\n",
       "  </thead>\n",
       "  <tbody>\n",
       "    <tr>\n",
       "      <th>currency</th>\n",
       "      <td>683</td>\n",
       "      <td>1</td>\n",
       "      <td>USD</td>\n",
       "      <td>683</td>\n",
       "    </tr>\n",
       "    <tr>\n",
       "      <th>ad_situation</th>\n",
       "      <td>683</td>\n",
       "      <td>2</td>\n",
       "      <td>New</td>\n",
       "      <td>625</td>\n",
       "    </tr>\n",
       "    <tr>\n",
       "      <th>measuring_unit</th>\n",
       "      <td>683</td>\n",
       "      <td>1</td>\n",
       "      <td>m2</td>\n",
       "      <td>683</td>\n",
       "    </tr>\n",
       "    <tr>\n",
       "      <th>brokered_by</th>\n",
       "      <td>683</td>\n",
       "      <td>283</td>\n",
       "      <td>Adair Homes</td>\n",
       "      <td>29</td>\n",
       "    </tr>\n",
       "    <tr>\n",
       "      <th>direction</th>\n",
       "      <td>683</td>\n",
       "      <td>633</td>\n",
       "      <td>South Puget Sound 2303 93rd Ave SW, Olympia</td>\n",
       "      <td>29</td>\n",
       "    </tr>\n",
       "    <tr>\n",
       "      <th>city</th>\n",
       "      <td>683</td>\n",
       "      <td>12</td>\n",
       "      <td>Portland</td>\n",
       "      <td>137</td>\n",
       "    </tr>\n",
       "    <tr>\n",
       "      <th>state</th>\n",
       "      <td>683</td>\n",
       "      <td>3</td>\n",
       "      <td>Washington</td>\n",
       "      <td>504</td>\n",
       "    </tr>\n",
       "  </tbody>\n",
       "</table>\n",
       "</div>"
      ],
      "text/plain": [
       "               count unique                                          top freq\n",
       "currency         683      1                                          USD  683\n",
       "ad_situation     683      2                                          New  625\n",
       "measuring_unit   683      1                                           m2  683\n",
       "brokered_by      683    283                                  Adair Homes   29\n",
       "direction        683    633  South Puget Sound 2303 93rd Ave SW, Olympia   29\n",
       "city             683     12                                     Portland  137\n",
       "state            683      3                                   Washington  504"
      ]
     },
     "execution_count": 34,
     "metadata": {},
     "output_type": "execute_result"
    }
   ],
   "source": [
    "df3_limpio.describe(include = \"object\").T"
   ]
  },
  {
   "cell_type": "markdown",
   "id": "00c1ab4a",
   "metadata": {},
   "source": [
    "### Geopy"
   ]
  },
  {
   "cell_type": "code",
   "execution_count": 35,
   "id": "92fff4f5",
   "metadata": {},
   "outputs": [],
   "source": [
    "from geopy.geocoders import Nominatim"
   ]
  },
  {
   "cell_type": "code",
   "execution_count": 36,
   "id": "f2a902a4",
   "metadata": {},
   "outputs": [],
   "source": [
    "locator = Nominatim(user_agent= \"myGeocoder\")"
   ]
  },
  {
   "cell_type": "code",
   "execution_count": 37,
   "id": "9d79cd26",
   "metadata": {},
   "outputs": [
    {
     "data": {
      "text/plain": [
       "'location = locator.geocode (\"98516\")\\nprint (location)'"
      ]
     },
     "execution_count": 37,
     "metadata": {},
     "output_type": "execute_result"
    }
   ],
   "source": [
    "\"\"\"location = locator.geocode (\"98516\")\n",
    "print (location)\"\"\""
   ]
  },
  {
   "cell_type": "code",
   "execution_count": 38,
   "id": "a4b4dcb2",
   "metadata": {},
   "outputs": [
    {
     "data": {
      "text/plain": [
       "'print(\"Latitude = {}, Longitude = {}\".format(location.latitude, location.longitude))'"
      ]
     },
     "execution_count": 38,
     "metadata": {},
     "output_type": "execute_result"
    }
   ],
   "source": [
    "\"\"\"print(\"Latitude = {}, Longitude = {}\".format(location.latitude, location.longitude))\"\"\""
   ]
  },
  {
   "cell_type": "code",
   "execution_count": 39,
   "id": "40626436",
   "metadata": {},
   "outputs": [
    {
     "data": {
      "text/plain": [
       "'location.latitude'"
      ]
     },
     "execution_count": 39,
     "metadata": {},
     "output_type": "execute_result"
    }
   ],
   "source": [
    "\"\"\"location.latitude\"\"\""
   ]
  },
  {
   "cell_type": "code",
   "execution_count": 40,
   "id": "c58395e6",
   "metadata": {},
   "outputs": [],
   "source": [
    "def latitud_longitud (x):\n",
    "    locator = Nominatim(user_agent= \"myGeocoder\")\n",
    "    try:\n",
    "        \n",
    "        location = locator.geocode (x)\n",
    "        return location.latitude, location.longitude\n",
    "        \n",
    "    except:\n",
    "        return None"
   ]
  },
  {
   "cell_type": "code",
   "execution_count": 41,
   "id": "cc1bbcf3",
   "metadata": {},
   "outputs": [
    {
     "data": {
      "text/plain": [
       "(47.1342656625, -122.73493423336308)"
      ]
     },
     "execution_count": 41,
     "metadata": {},
     "output_type": "execute_result"
    }
   ],
   "source": [
    "latitud_longitud (98516)"
   ]
  },
  {
   "cell_type": "code",
   "execution_count": 42,
   "id": "f725a45b",
   "metadata": {},
   "outputs": [
    {
     "data": {
      "text/plain": [
       "'df3_limpio[[\"latitud\", \"longitud\"]] = df3_limpio.apply(lambda datos: latitud_longitud(\\n                                    datos[\"postal_code\"]), axis = 1)'"
      ]
     },
     "execution_count": 42,
     "metadata": {},
     "output_type": "execute_result"
    }
   ],
   "source": [
    "\"\"\"df3_limpio[[\"latitud\", \"longitud\"]] = df3_limpio.apply(lambda datos: latitud_longitud(\n",
    "                                    datos[\"postal_code\"]), axis = 1)\"\"\""
   ]
  },
  {
   "cell_type": "code",
   "execution_count": 43,
   "id": "0e1ddcdd",
   "metadata": {},
   "outputs": [
    {
     "data": {
      "text/plain": [
       "'df3_limpio[[\"latitud\", \"longitud\"]] = df3_limpio[\"postal_code\"].apply(latitud_longitud)'"
      ]
     },
     "execution_count": 43,
     "metadata": {},
     "output_type": "execute_result"
    }
   ],
   "source": [
    "\"\"\"df3_limpio[[\"latitud\", \"longitud\"]] = df3_limpio[\"postal_code\"].apply(latitud_longitud).split(\",\")"
   ]
  },
  {
   "cell_type": "code",
   "execution_count": null,
   "id": "e5a7f7ee",
   "metadata": {},
   "outputs": [],
   "source": []
  },
  {
   "cell_type": "code",
   "execution_count": null,
   "id": "bf1f7268",
   "metadata": {},
   "outputs": [],
   "source": []
  },
  {
   "cell_type": "code",
   "execution_count": 44,
   "id": "91f261d5",
   "metadata": {},
   "outputs": [],
   "source": [
    "def latitud_v2 (x):\n",
    "    locator = Nominatim(user_agent= \"myGeocoder\")\n",
    "    try:\n",
    "        \n",
    "        location = locator.geocode (x)\n",
    "        return location.latitude, location.longitud\n",
    "        \n",
    "    except:\n",
    "        return None\n",
    "\n",
    "def longitud_v2 (x):\n",
    "    locator = Nominatim(user_agent= \"myGeocoder\")\n",
    "    try:\n",
    "        \n",
    "        location = locator.geocode (x)\n",
    "        return location.longitude\n",
    "        \n",
    "    except:\n",
    "        return None"
   ]
  },
  {
   "cell_type": "code",
   "execution_count": 45,
   "id": "531a0725",
   "metadata": {},
   "outputs": [],
   "source": [
    "def hola(x):\n",
    "    return \"Hola\", \"adios\""
   ]
  },
  {
   "cell_type": "code",
   "execution_count": 46,
   "id": "d7a00dd6",
   "metadata": {},
   "outputs": [
    {
     "ename": "TypeError",
     "evalue": "hola() missing 1 required positional argument: 'x'",
     "output_type": "error",
     "traceback": [
      "\u001b[0;31m---------------------------------------------------------------------------\u001b[0m",
      "\u001b[0;31mTypeError\u001b[0m                                 Traceback (most recent call last)",
      "Input \u001b[0;32mIn [46]\u001b[0m, in \u001b[0;36m<module>\u001b[0;34m\u001b[0m\n\u001b[0;32m----> 1\u001b[0m x, y \u001b[38;5;241m=\u001b[39m \u001b[43mhola\u001b[49m\u001b[43m(\u001b[49m\u001b[43m)\u001b[49m\n",
      "\u001b[0;31mTypeError\u001b[0m: hola() missing 1 required positional argument: 'x'"
     ]
    }
   ],
   "source": [
    "x, y = hola()"
   ]
  },
  {
   "cell_type": "code",
   "execution_count": null,
   "id": "714c50a5",
   "metadata": {},
   "outputs": [],
   "source": [
    "xñkhj"
   ]
  },
  {
   "cell_type": "code",
   "execution_count": null,
   "id": "a53e603a",
   "metadata": {},
   "outputs": [],
   "source": [
    "y"
   ]
  },
  {
   "cell_type": "code",
   "execution_count": null,
   "id": "3de8a4b5",
   "metadata": {},
   "outputs": [],
   "source": [
    "df3_limpio[[\"laitud\", \"longtud\"]] = df3_limpio[\"postal_code\"].apply(hola)"
   ]
  },
  {
   "cell_type": "code",
   "execution_count": null,
   "id": "c1d436eb",
   "metadata": {},
   "outputs": [],
   "source": [
    "df3_limpio[\"latidud_\"] = df3_limpio.apply(lambda datos: latitud_v2(\n",
    "                                    datos[\"postal_code\"]), axis = 1)"
   ]
  },
  {
   "cell_type": "code",
   "execution_count": null,
   "id": "c6525c02",
   "metadata": {},
   "outputs": [],
   "source": [
    "df3_limpio[\"longitud_\"] = df3_limpio.apply(lambda datos: longitud_v2(\n",
    "                                    datos[\"postal_code\"]), axis = 1)"
   ]
  },
  {
   "cell_type": "markdown",
   "id": "d06c790b",
   "metadata": {},
   "source": [
    "### Exportación de CSV limpio"
   ]
  },
  {
   "cell_type": "markdown",
   "id": "afa28edf",
   "metadata": {},
   "source": [
    "Exportamos el DataFrame limpio a un CSV:"
   ]
  },
  {
   "cell_type": "code",
   "execution_count": null,
   "id": "ba1cde7f",
   "metadata": {},
   "outputs": [],
   "source": [
    "df3_limpio.to_csv(\"04. Datos_limpitos_.csv\")"
   ]
  },
  {
   "cell_type": "code",
   "execution_count": null,
   "id": "b29bf3dd",
   "metadata": {},
   "outputs": [],
   "source": []
  },
  {
   "cell_type": "code",
   "execution_count": null,
   "id": "78c05e4a",
   "metadata": {},
   "outputs": [],
   "source": []
  },
  {
   "cell_type": "code",
   "execution_count": null,
   "id": "8bee95b4",
   "metadata": {},
   "outputs": [],
   "source": []
  },
  {
   "cell_type": "code",
   "execution_count": null,
   "id": "5cd8059a",
   "metadata": {},
   "outputs": [],
   "source": []
  },
  {
   "cell_type": "code",
   "execution_count": null,
   "id": "eb3c9fd9",
   "metadata": {},
   "outputs": [],
   "source": []
  },
  {
   "cell_type": "code",
   "execution_count": null,
   "id": "57863a6c",
   "metadata": {},
   "outputs": [],
   "source": []
  },
  {
   "cell_type": "code",
   "execution_count": null,
   "id": "f0a10d35",
   "metadata": {},
   "outputs": [],
   "source": [
    "\"\"\"dd = cc.latitud_v2(\"98516\")\"\"\""
   ]
  },
  {
   "cell_type": "code",
   "execution_count": null,
   "id": "8cb29365",
   "metadata": {},
   "outputs": [],
   "source": [
    "dd"
   ]
  },
  {
   "cell_type": "code",
   "execution_count": null,
   "id": "60c5f504",
   "metadata": {},
   "outputs": [],
   "source": [
    "mapa=folium.Map(location=[47.134266, -122.734934],  # la posicion\n",
    "                tiles='openstreetmap',            # tipo de mapa, theme\n",
    "                zoom_start=10)                    # zoom inicial\n",
    "\n",
    "mapa"
   ]
  },
  {
   "cell_type": "code",
   "execution_count": null,
   "id": "9b1c84c3",
   "metadata": {},
   "outputs": [],
   "source": [
    "\"\"\"for index, row in df.iterrows(): # método para iterar por los dataframes\n",
    "\n",
    "cities = ['Olympia', 'Seattle', 'Des Moines', 'Bellevue', 'Redmond', 'Tacoma', 'Vancouver', 'Long Beach', 'Pasadena', 'Anaheim', 'Irvine', 'Portland']\n",
    "    for i in cities:\n",
    "        try:\n",
    "                row['city'] == (i) :\n",
    "\n",
    "        return folium.Marker([row[\"latitud_\"], row['longitud_']],\n",
    "                              radius=10, \n",
    "                              tooltip = row[['is_happy_customer', 'city']],\n",
    "                              icon=folium.Icon(icon = \"cloud\", color = \"red\")).add_to(mapa)\n",
    "        except:\n",
    "            None\"\"\""
   ]
  },
  {
   "cell_type": "code",
   "execution_count": null,
   "id": "44484bb4",
   "metadata": {},
   "outputs": [],
   "source": [
    "df3_limpio"
   ]
  },
  {
   "cell_type": "code",
   "execution_count": null,
   "id": "d077ef7a",
   "metadata": {},
   "outputs": [],
   "source": [
    "for index, row in df3_limpio.iterrows():\n",
    "    try:\n",
    "        if row['city'] == \"Olympia\":\n",
    "\n",
    "            folium.Marker([row[\"latitud_\"], row['longitud_']],\n",
    "                        radius=10,\n",
    "                        icon=folium.Icon(icon = \"cloud\", color = \"red\")).add_to(mapa)\n",
    "        elif row['city']  == \"Seattle\":\n",
    "            folium.Marker([row[\"latitud_\"], row['longitud_']],\n",
    "                        radius=10, \n",
    "                        icon=folium.Icon(icon = \"cloud\", color = \"orange\")).add_to(mapa)\n",
    "\n",
    "        elif row['city']  == \"Des Moines\":\n",
    "            folium.Marker([row[\"latitud_\"], row['longitud_']],\n",
    "                        radius=10,\n",
    "                        icon=folium.Icon(icon = \"cloud\", color = \"black\")).add_to(mapa)   \n",
    "        elif row['city']  == \"Bellevue\":\n",
    "            folium.Marker([row[\"latitud_\"], row['longitud_']],\n",
    "                        radius=10,\n",
    "                        icon=folium.Icon(icon = \"cloud\", color = \"yellow\")).add_to(mapa)\n",
    "\n",
    "        elif row['city']  == \"Redmond\":\n",
    "                folium.Marker([row[\"latitud_\"], row['longitud_']],\n",
    "                        radius=10,\n",
    "                        icon=folium.Icon(icon = \"cloud\", color = \"green\")).add_to(mapa)  \n",
    "        elif row['city']  == \"Tacoma\":\n",
    "            folium.Marker([row[\"latitud_\"], row['longitud_']],\n",
    "                        radius=10,\n",
    "                        icon=folium.Icon(icon = \"cloud\", color = \"purple\")).add_to(mapa)\n",
    "\n",
    "        elif row['city']  == \"Vancouver\":\n",
    "            folium.Marker([row[\"latitud_\"], row['longitud_']],\n",
    "                        radius=10,\n",
    "                        icon=folium.Icon(icon = \"cloud\", color = \"blue\")).add_to(mapa) \n",
    "\n",
    "        elif row['city']  == \"Long Beach\":\n",
    "            folium.Marker([row[\"latitud_\"], row['longitud_']],\n",
    "                        radius=10,\n",
    "                        icon=folium.Icon(icon = \"cloud\", color = \"grey\")).add_to(mapa)\n",
    "\n",
    "        elif row['city']  == \"Pasadena\":\n",
    "             folium.Marker([row[\"latitud_\"], row['longitud_']],\n",
    "                        radius=10, \n",
    "                        icon=folium.Icon(icon = \"cloud\", color = \"pink\")).add_to(mapa)  \n",
    "        elif row['city']  == \"Anaheim\":\n",
    "            folium.Marker([row[\"latitud_\"], row['longitud_']],\n",
    "                        radius=10, \n",
    "                        icon=folium.Icon(icon = \"cloud\", color = \"violet\")).add_to(mapa)\n",
    "\n",
    "        elif row['city']  == \"Irvine\":\n",
    "                folium.Marker([row[\"latitud_\"], row['longitud_']],\n",
    "                        radius=10, \n",
    "                        icon=folium.Icon(icon = \"cloud\", color = \"plum\")).add_to(mapa)\n",
    "        else:\n",
    "            folium.Marker([row[\"latitud_\"], row['longitud_']],\n",
    "                        radius=10, \n",
    "                        icon=folium.Icon(icon = \"cloud\", color = \"brown\")).add_to(mapa)\n",
    "    except:\n",
    "        pass\n",
    "            \n"
   ]
  },
  {
   "cell_type": "code",
   "execution_count": null,
   "id": "c9648255",
   "metadata": {},
   "outputs": [],
   "source": [
    "mapa"
   ]
  },
  {
   "cell_type": "code",
   "execution_count": null,
   "id": "ce7e22a6",
   "metadata": {},
   "outputs": [],
   "source": [
    "\"\"\"for index, row in df3_limpio.iterrows(): # método para iterar por los dataframes\n",
    "    if row['city'] == \"Olympia\":\n",
    "    \n",
    "        folium.Marker([row[\"latitud_\"], row['longitud_']],\n",
    "                    radius=10,\n",
    "                    icon=folium.Icon(icon = \"cloud\", color = \"red\")).add_to(mapa)\n",
    "    elif row['city']  == \"Seattle\":\n",
    "        folium.Marker([row[\"latitud_\"], row['longitud_']],\n",
    "                    radius=10, \n",
    "                    icon=folium.Icon(icon = \"cloud\", color = \"orange\")).add_to(mapa)\n",
    "        \n",
    "    elif row['city']  == \"Des Moines\":\n",
    "        folium.Marker([row[\"latitud_\"], row['longitud_']],\n",
    "                    radius=10,\n",
    "                    icon=folium.Icon(icon = \"cloud\", color = \"black\")).add_to(mapa)   \n",
    "    elif row['city']  == \"Bellevue\":\n",
    "        folium.Marker([row[\"latitud_\"], row['longitud_']],\n",
    "                    radius=10,\n",
    "                    icon=folium.Icon(icon = \"cloud\", color = \"yellow\")).add_to(mapa)\n",
    "        \n",
    "    elif row['city']  == \"Redmond\":\n",
    "            folium.Marker([row[\"latitud_\"], row['longitud_']],\n",
    "                    radius=10,\n",
    "                    icon=folium.Icon(icon = \"cloud\", color = \"green\")).add_to(mapa)  \n",
    "    elif row['city']  == \"Tacoma\":\n",
    "        folium.Marker([row[\"latitud_\"], row['longitud_']],\n",
    "                    radius=10,\n",
    "                    icon=folium.Icon(icon = \"cloud\", color = \"purple\")).add_to(mapa)\n",
    "        \n",
    "    elif row['city']  == \"Vancouver\":\n",
    "        folium.Marker([row[\"latitud_\"], row['longitud_']],\n",
    "                    radius=10,\n",
    "                    icon=folium.Icon(icon = \"cloud\", color = \"blue\")).add_to(mapa) \n",
    "    \n",
    "    elif row['city']  == \"Long Beach\":\n",
    "        folium.Marker([row[\"latitud_\"], row['longitud_']],\n",
    "                    radius=10,\n",
    "                    icon=folium.Icon(icon = \"cloud\", color = \"grey\")).add_to(mapa)\n",
    "        \n",
    "    elif row['city']  == \"Pasadena\":\n",
    "         folium.Marker([row[\"latitud_\"], row['longitud_']],\n",
    "                    radius=10, \n",
    "                    icon=folium.Icon(icon = \"cloud\", color = \"pink\")).add_to(mapa)  \n",
    "    elif row['city']  == \"Anaheim\":\n",
    "        folium.Marker([row[\"latitud_\"], row['longitud_']],\n",
    "                    radius=10, \n",
    "                    icon=folium.Icon(icon = \"cloud\", color = \"violet\")).add_to(mapa)\n",
    "        \n",
    "    elif row['city']  == \"Irvine\":\n",
    "            folium.Marker([row[\"latitud_\"], row['longitud_']],\n",
    "                    radius=10, \n",
    "                    icon=folium.Icon(icon = \"cloud\", color = \"plum\")).add_to(mapa)\n",
    "    else:\n",
    "        folium.Marker([row[\"latitud_\"], row['longitud_']],\n",
    "                    radius=10, \n",
    "                    icon=folium.Icon(icon = \"cloud\", color = \"brown\")).add_to(mapa)\"\"\""
   ]
  },
  {
   "cell_type": "code",
   "execution_count": null,
   "id": "9a38e33d",
   "metadata": {},
   "outputs": [],
   "source": []
  },
  {
   "cell_type": "code",
   "execution_count": null,
   "id": "ddc838a3",
   "metadata": {},
   "outputs": [],
   "source": []
  },
  {
   "cell_type": "code",
   "execution_count": null,
   "id": "418323cf",
   "metadata": {},
   "outputs": [],
   "source": []
  },
  {
   "cell_type": "code",
   "execution_count": null,
   "id": "192aab5f",
   "metadata": {},
   "outputs": [],
   "source": []
  },
  {
   "cell_type": "code",
   "execution_count": null,
   "id": "a9a53439",
   "metadata": {},
   "outputs": [],
   "source": []
  },
  {
   "cell_type": "code",
   "execution_count": null,
   "id": "cb916238",
   "metadata": {},
   "outputs": [],
   "source": []
  },
  {
   "cell_type": "code",
   "execution_count": null,
   "id": "c48eb837",
   "metadata": {},
   "outputs": [],
   "source": []
  },
  {
   "cell_type": "code",
   "execution_count": null,
   "id": "6d148fbb",
   "metadata": {},
   "outputs": [],
   "source": []
  },
  {
   "cell_type": "code",
   "execution_count": null,
   "id": "6761016e",
   "metadata": {
    "scrolled": true
   },
   "outputs": [],
   "source": [
    "df_line = pd.DataFrame(df3_limpio.groupby([df3_limpio['city']])[\"price\"].mean())"
   ]
  },
  {
   "cell_type": "code",
   "execution_count": null,
   "id": "c884db5d",
   "metadata": {
    "scrolled": true
   },
   "outputs": [],
   "source": [
    "df_line.head(3)"
   ]
  },
  {
   "cell_type": "code",
   "execution_count": null,
   "id": "f860281d",
   "metadata": {},
   "outputs": [],
   "source": [
    "ax = plt.axes() # para poder cambiar el estilo de los ejes\n",
    "\n",
    "ax.set_facecolor(\"white\") # poner el fondo en blanco\n",
    "\n",
    "ax.spines['bottom'].set_color('black') # color del eje x\n",
    "ax.spines['top'].set_color('white') # color del eje de arriba\n",
    "ax.spines['right'].set_color('white') # color del eje de la derecha\n",
    "ax.spines['left'].set_color('black') # color del eje y\n",
    "\n",
    "plt.plot(df_line['city'], # eje x\n",
    "         df_line[\"price\"], # eje y\n",
    "         color = \"black\", # para cambiar el color de la línea\n",
    "         linewidth = 2, # para cambiar el grosor de la línea\n",
    "         marker = \"o\") # para poner los marcadores en nuestra línea\n",
    "\n",
    "plt.xlabel(\"ciudad\") # para poner etiqueta en el eje x\n",
    "plt.ylabel(\"precio\") # para poner etiqueta en el eje y\n",
    "\n",
    "\n",
    "plt.show();"
   ]
  },
  {
   "cell_type": "code",
   "execution_count": null,
   "id": "207840ce",
   "metadata": {},
   "outputs": [],
   "source": [
    "sns.scatterplot(data=df3_limpio, x='índice_poder_adqui', y='price/m2',\n",
    "                s = 100); # tamaño de los marcadores"
   ]
  },
  {
   "cell_type": "markdown",
   "id": "48e51a89",
   "metadata": {},
   "source": [
    "### Relación Espacio de vivienda y precio"
   ]
  },
  {
   "cell_type": "code",
   "execution_count": null,
   "id": "f7e8235d",
   "metadata": {
    "scrolled": false
   },
   "outputs": [],
   "source": [
    "sns.scatterplot(data=df3_limpio, x='building_space', y='price',\n",
    "                  hue = \"city\",\n",
    "                s = 100); # tamaño de los marcadores"
   ]
  },
  {
   "cell_type": "code",
   "execution_count": null,
   "id": "0db3d9aa",
   "metadata": {},
   "outputs": [],
   "source": [
    "df_pie = pd.DataFrame(df3_limpio.groupby(['city'])\n",
    "                      [\"price/m2\"].mean()).reset_index()\n",
    "\n",
    "df_pie.head()"
   ]
  },
  {
   "cell_type": "code",
   "execution_count": null,
   "id": "fb4d29ed",
   "metadata": {
    "scrolled": true
   },
   "outputs": [],
   "source": [
    "df_pie_1 = pd.DataFrame(df3_limpio.groupby(['city'])\n",
    "                      [\"índice_poder_adqui\"].mean()).reset_index()\n",
    "\n",
    "df_pie_1.head()"
   ]
  },
  {
   "cell_type": "code",
   "execution_count": null,
   "id": "1ceecac3",
   "metadata": {},
   "outputs": [],
   "source": [
    "df_pie_1 = pd.DataFrame(df3_limpio.groupby(['city'])\n",
    "                      [\"índice_seguridad\"].mean()).reset_index()\n",
    "\n",
    "df_pie_1.head()"
   ]
  },
  {
   "cell_type": "code",
   "execution_count": null,
   "id": "307834f6",
   "metadata": {},
   "outputs": [],
   "source": []
  },
  {
   "cell_type": "code",
   "execution_count": null,
   "id": "4a42ee43",
   "metadata": {
    "scrolled": true
   },
   "outputs": [],
   "source": [
    "sns.scatterplot(data=df3_limpio, x='state', y='índice_contaminación',\n",
    "                s = 100); # tamaño de los marcadores"
   ]
  },
  {
   "cell_type": "code",
   "execution_count": null,
   "id": "287be01d",
   "metadata": {
    "scrolled": false
   },
   "outputs": [],
   "source": [
    "sns.scatterplot(data=df3_limpio, x='índice_contaminación', y='índice_calidad_vida',\n",
    "                s = 100); # tamaño de los marcadores"
   ]
  },
  {
   "cell_type": "code",
   "execution_count": null,
   "id": "8c82706b",
   "metadata": {},
   "outputs": [],
   "source": [
    "sns.scatterplot(data=df3_limpio, x='relación_precio_ingresos_propiedades', y='price',\n",
    "                s = 100); # tamaño de los marcadores"
   ]
  },
  {
   "cell_type": "code",
   "execution_count": null,
   "id": "027a2d50",
   "metadata": {},
   "outputs": [],
   "source": []
  },
  {
   "cell_type": "code",
   "execution_count": null,
   "id": "f77cfcee",
   "metadata": {},
   "outputs": [],
   "source": []
  },
  {
   "cell_type": "code",
   "execution_count": null,
   "id": "5e31bde6",
   "metadata": {},
   "outputs": [],
   "source": []
  },
  {
   "cell_type": "code",
   "execution_count": null,
   "id": "a7265771",
   "metadata": {},
   "outputs": [],
   "source": [
    "sns.scatterplot(data=df3_limpio, x='state', y='índice_calidad_vida',\n",
    "                s = 100); # tamaño de los marcadores"
   ]
  },
  {
   "cell_type": "code",
   "execution_count": null,
   "id": "8ab5bb05",
   "metadata": {},
   "outputs": [],
   "source": []
  },
  {
   "cell_type": "code",
   "execution_count": null,
   "id": "b0c6471c",
   "metadata": {},
   "outputs": [],
   "source": [
    "sns.scatterplot(data=df3_limpio, x='sanidad', y='índice_contaminación',\n",
    "                s = 100); # tamaño de los marcadores"
   ]
  },
  {
   "cell_type": "code",
   "execution_count": null,
   "id": "a2e89044",
   "metadata": {},
   "outputs": [],
   "source": []
  },
  {
   "cell_type": "code",
   "execution_count": null,
   "id": "a4d3d6ac",
   "metadata": {},
   "outputs": [],
   "source": []
  },
  {
   "cell_type": "code",
   "execution_count": null,
   "id": "e3af9cf7",
   "metadata": {},
   "outputs": [],
   "source": []
  },
  {
   "cell_type": "code",
   "execution_count": null,
   "id": "34364d84",
   "metadata": {},
   "outputs": [],
   "source": []
  },
  {
   "cell_type": "code",
   "execution_count": null,
   "id": "5ce04298",
   "metadata": {},
   "outputs": [],
   "source": []
  },
  {
   "cell_type": "code",
   "execution_count": null,
   "id": "8227744c",
   "metadata": {},
   "outputs": [],
   "source": []
  },
  {
   "cell_type": "code",
   "execution_count": null,
   "id": "fce850b3",
   "metadata": {},
   "outputs": [],
   "source": [
    "def explorar(df, ciudad):\n",
    "    city = df[df[\"city\"] == f\"{ciudad}\"]\n",
    "    print(\"los principales estadisticos son: \")\n",
    "    print(city['price/m2'].max())\n",
    "    print(\"-----------\")\n",
    "    "
   ]
  },
  {
   "cell_type": "code",
   "execution_count": null,
   "id": "0eac5a3d",
   "metadata": {},
   "outputs": [],
   "source": [
    "def explorar_min(df, ciudad):\n",
    "    city = df[df[\"city\"] == f\"{ciudad}\"]\n",
    "    print(\"los principales estadisticos son: \")\n",
    "    print(city['price/m2'].min())\n",
    "    print(\"-----------\")"
   ]
  },
  {
   "cell_type": "code",
   "execution_count": null,
   "id": "3018f324",
   "metadata": {},
   "outputs": [],
   "source": [
    "def explorar_v2(df, ciudad):\n",
    "    city = df[df[\"city\"] == f\"{ciudad}\"]\n",
    "    print(\"los principales estadisticos son: \")\n",
    "    print df3_limipio().T"
   ]
  },
  {
   "cell_type": "code",
   "execution_count": null,
   "id": "9fedacfc",
   "metadata": {
    "scrolled": true
   },
   "outputs": [],
   "source": [
    "explorar(df3_limpio, \"Irvine\")"
   ]
  },
  {
   "cell_type": "code",
   "execution_count": null,
   "id": "f24e7a33",
   "metadata": {},
   "outputs": [],
   "source": [
    "explorar_min(df3_limpio, \"Irvine\")"
   ]
  },
  {
   "cell_type": "code",
   "execution_count": null,
   "id": "6e3cd01e",
   "metadata": {
    "scrolled": false
   },
   "outputs": [],
   "source": [
    "df3_limpio.groupby([\"state\", 'city'])[\"price/m2\"].mean()"
   ]
  },
  {
   "cell_type": "code",
   "execution_count": null,
   "id": "11b5c582",
   "metadata": {},
   "outputs": [],
   "source": [
    "df3_limpio.groupby([\"state\", 'city'])[\"price/m2\"].max()"
   ]
  },
  {
   "cell_type": "code",
   "execution_count": null,
   "id": "b6d47460",
   "metadata": {},
   "outputs": [],
   "source": [
    "df3_limpio.groupby([\"state\", 'city'])[\"price/m2\"].min()"
   ]
  },
  {
   "cell_type": "code",
   "execution_count": null,
   "id": "820fc02f",
   "metadata": {},
   "outputs": [],
   "source": [
    "df3_limpio.groupby([\"state\", 'city'])[\"índice_poder_adqui\"].mean().max()"
   ]
  },
  {
   "cell_type": "code",
   "execution_count": null,
   "id": "a8ceb60c",
   "metadata": {
    "scrolled": false
   },
   "outputs": [],
   "source": [
    "df3_limpio.groupby([\"state\", 'city'])[\"price/m2\"].mean()"
   ]
  },
  {
   "cell_type": "code",
   "execution_count": null,
   "id": "4275ebfa",
   "metadata": {
    "scrolled": false
   },
   "outputs": [],
   "source": [
    "df3_limpio.groupby(['city'])[\"price/m2\"].max()"
   ]
  },
  {
   "cell_type": "code",
   "execution_count": null,
   "id": "e7a85952",
   "metadata": {},
   "outputs": [],
   "source": [
    "df3_limpio.groupby(['city'])[\"price/m2\"].describe()"
   ]
  },
  {
   "cell_type": "code",
   "execution_count": null,
   "id": "423f9d0a",
   "metadata": {
    "scrolled": true
   },
   "outputs": [],
   "source": [
    "df3_limpio.groupby([\"state\", 'city'])[\"price/m2\"].min()"
   ]
  },
  {
   "cell_type": "code",
   "execution_count": null,
   "id": "a4384163",
   "metadata": {},
   "outputs": [],
   "source": [
    "df3_limpio.groupby([\"state\", 'city'])[\"price\"].min()"
   ]
  },
  {
   "cell_type": "code",
   "execution_count": null,
   "id": "f3cdfd30",
   "metadata": {},
   "outputs": [],
   "source": [
    "df3_limpio.groupby([\"state\", 'city'])[\"price\"].mean().round()"
   ]
  },
  {
   "cell_type": "code",
   "execution_count": null,
   "id": "8ca8b740",
   "metadata": {},
   "outputs": [],
   "source": [
    "df3_limpio.groupby([\"state\"])[\"price\"].min()"
   ]
  },
  {
   "cell_type": "code",
   "execution_count": null,
   "id": "260ebbec",
   "metadata": {
    "scrolled": true
   },
   "outputs": [],
   "source": [
    "df3_limpio.groupby([\"state\"])[\"price\"].max().round(0)"
   ]
  },
  {
   "cell_type": "code",
   "execution_count": null,
   "id": "0fdc5639",
   "metadata": {},
   "outputs": [],
   "source": [
    "df3_limpio.groupby([\"state\"])[\"price\"].mean().round(0)"
   ]
  },
  {
   "cell_type": "code",
   "execution_count": null,
   "id": "03ebb97c",
   "metadata": {},
   "outputs": [],
   "source": [
    "df5 = pd.DataFrame(df3_limpio.groupby([\"state\", 'city','postal_code'])[\"price/m2\"].mean())\n",
    "df5"
   ]
  },
  {
   "cell_type": "code",
   "execution_count": null,
   "id": "a6a46ae4",
   "metadata": {},
   "outputs": [],
   "source": [
    "df4 = pd.DataFrame(df3_limpio.groupby([\"state\", 'city','postal_code'])[\"price/m2\"].max())\n",
    "df4"
   ]
  },
  {
   "cell_type": "code",
   "execution_count": null,
   "id": "67e3cde8",
   "metadata": {},
   "outputs": [],
   "source": [
    "df4.shape"
   ]
  },
  {
   "cell_type": "code",
   "execution_count": null,
   "id": "ebaed3a8",
   "metadata": {},
   "outputs": [],
   "source": [
    "df3_limpio.groupby([\"state\", 'city'])[\"price/m2\"].min()"
   ]
  },
  {
   "cell_type": "code",
   "execution_count": null,
   "id": "5e533f38",
   "metadata": {},
   "outputs": [],
   "source": []
  }
 ],
 "metadata": {
  "kernelspec": {
   "display_name": "Python 3 (ipykernel)",
   "language": "python",
   "name": "python3"
  },
  "language_info": {
   "codemirror_mode": {
    "name": "ipython",
    "version": 3
   },
   "file_extension": ".py",
   "mimetype": "text/x-python",
   "name": "python",
   "nbconvert_exporter": "python",
   "pygments_lexer": "ipython3",
   "version": "3.9.10"
  }
 },
 "nbformat": 4,
 "nbformat_minor": 5
}
