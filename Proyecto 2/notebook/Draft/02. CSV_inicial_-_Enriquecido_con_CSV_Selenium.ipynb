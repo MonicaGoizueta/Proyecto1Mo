{
 "cells": [
  {
   "cell_type": "markdown",
   "id": "e8ae697a",
   "metadata": {},
   "source": [
    "# Mergeo de CSV Inicial y CSV creado a través de Selenium"
   ]
  },
  {
   "cell_type": "code",
   "execution_count": 1,
   "id": "d6bfb14d",
   "metadata": {},
   "outputs": [],
   "source": [
    "import pandas as pd\n",
    "import numpy as np\n",
    "import sidetable\n",
    "\n",
    "import seaborn as sns\n",
    "import matplotlib.pyplot as plt"
   ]
  },
  {
   "cell_type": "markdown",
   "id": "90c17bf9",
   "metadata": {},
   "source": [
    "Nos descargamos el CSV que vamos a utilizar de Kaggle.\n",
    "\n",
    "Los datos son sobre casas en los Estados de Washington, California y Oregón, y divididos por ciudades. Incluye solo algunas de las ciudades más importantes de cada estado.\n",
    "Los datos incluyen el precio, dirección, número de cuartos, baños, el área de la casa, etc.\n",
    "\n",
    "Link al kaggle: https://www.kaggle.com/ialjadani/houses-prices-in-selected-area-in-usa"
   ]
  },
  {
   "cell_type": "code",
   "execution_count": 2,
   "id": "3816157b",
   "metadata": {
    "scrolled": false
   },
   "outputs": [
    {
     "data": {
      "text/html": [
       "<div>\n",
       "<style scoped>\n",
       "    .dataframe tbody tr th:only-of-type {\n",
       "        vertical-align: middle;\n",
       "    }\n",
       "\n",
       "    .dataframe tbody tr th {\n",
       "        vertical-align: top;\n",
       "    }\n",
       "\n",
       "    .dataframe thead th {\n",
       "        text-align: right;\n",
       "    }\n",
       "</style>\n",
       "<table border=\"1\" class=\"dataframe\">\n",
       "  <thead>\n",
       "    <tr style=\"text-align: right;\">\n",
       "      <th></th>\n",
       "      <th>Unnamed: 0</th>\n",
       "      <th>Price</th>\n",
       "      <th>Currency</th>\n",
       "      <th>Brokered_by</th>\n",
       "      <th>AD_Situation</th>\n",
       "      <th>Rooms</th>\n",
       "      <th>Bath</th>\n",
       "      <th>Building space</th>\n",
       "      <th>Measruing unit</th>\n",
       "      <th>Address</th>\n",
       "      <th>City</th>\n",
       "      <th>State</th>\n",
       "    </tr>\n",
       "  </thead>\n",
       "  <tbody>\n",
       "    <tr>\n",
       "      <th>1182</th>\n",
       "      <td>1182</td>\n",
       "      <td>899000</td>\n",
       "      <td>USD</td>\n",
       "      <td>Redfin Corporation</td>\n",
       "      <td>New - 18 hours ago</td>\n",
       "      <td>4</td>\n",
       "      <td>2.5</td>\n",
       "      <td>1860</td>\n",
       "      <td>sqft</td>\n",
       "      <td>301 S Cordova St, Alhambra, CA 91801</td>\n",
       "      <td>Alhambra</td>\n",
       "      <td>CA 91801</td>\n",
       "    </tr>\n",
       "    <tr>\n",
       "      <th>1234</th>\n",
       "      <td>1234</td>\n",
       "      <td>510000</td>\n",
       "      <td>USD</td>\n",
       "      <td>Keller Williams Signature</td>\n",
       "      <td>New - 20 hours ago</td>\n",
       "      <td>2</td>\n",
       "      <td>2.0</td>\n",
       "      <td>1123</td>\n",
       "      <td>sqft</td>\n",
       "      <td>777 E Valley Blvd Apt 56, Alhambra, CA 91801</td>\n",
       "      <td>Alhambra</td>\n",
       "      <td>CA 91801</td>\n",
       "    </tr>\n",
       "    <tr>\n",
       "      <th>1302</th>\n",
       "      <td>1302</td>\n",
       "      <td>1188000</td>\n",
       "      <td>USD</td>\n",
       "      <td>COMPASS</td>\n",
       "      <td>New</td>\n",
       "      <td>3</td>\n",
       "      <td>2.5</td>\n",
       "      <td>1890</td>\n",
       "      <td>sqft</td>\n",
       "      <td>424 N Cordova St, Alhambra, CA 91801</td>\n",
       "      <td>Alhambra</td>\n",
       "      <td>CA 91801</td>\n",
       "    </tr>\n",
       "    <tr>\n",
       "      <th>1298</th>\n",
       "      <td>1298</td>\n",
       "      <td>799000</td>\n",
       "      <td>USD</td>\n",
       "      <td>Keller Williams Realty</td>\n",
       "      <td>New</td>\n",
       "      <td>3</td>\n",
       "      <td>2.0</td>\n",
       "      <td>1320</td>\n",
       "      <td>sqft</td>\n",
       "      <td>228 Hampden Ter, Alhambra, CA 91801</td>\n",
       "      <td>Alhambra</td>\n",
       "      <td>CA 91801</td>\n",
       "    </tr>\n",
       "    <tr>\n",
       "      <th>1286</th>\n",
       "      <td>1286</td>\n",
       "      <td>760000</td>\n",
       "      <td>USD</td>\n",
       "      <td>Re/Max Premier Prop Arcadia</td>\n",
       "      <td>New</td>\n",
       "      <td>2</td>\n",
       "      <td>2.0</td>\n",
       "      <td>1753</td>\n",
       "      <td>sqft</td>\n",
       "      <td>225 S Electric Ave, Alhambra, CA 91801</td>\n",
       "      <td>Alhambra</td>\n",
       "      <td>CA 91801</td>\n",
       "    </tr>\n",
       "  </tbody>\n",
       "</table>\n",
       "</div>"
      ],
      "text/plain": [
       "      Unnamed: 0    Price Currency                  Brokered_by  \\\n",
       "1182        1182   899000      USD           Redfin Corporation   \n",
       "1234        1234   510000      USD    Keller Williams Signature   \n",
       "1302        1302  1188000      USD                      COMPASS   \n",
       "1298        1298   799000      USD       Keller Williams Realty   \n",
       "1286        1286   760000      USD  Re/Max Premier Prop Arcadia   \n",
       "\n",
       "            AD_Situation  Rooms  Bath  Building space Measruing unit  \\\n",
       "1182  New - 18 hours ago      4   2.5            1860           sqft   \n",
       "1234  New - 20 hours ago      2   2.0            1123           sqft   \n",
       "1302                 New      3   2.5            1890           sqft   \n",
       "1298                 New      3   2.0            1320           sqft   \n",
       "1286                 New      2   2.0            1753           sqft   \n",
       "\n",
       "                                           Address      City      State  \n",
       "1182          301 S Cordova St, Alhambra, CA 91801  Alhambra   CA 91801  \n",
       "1234  777 E Valley Blvd Apt 56, Alhambra, CA 91801  Alhambra   CA 91801  \n",
       "1302          424 N Cordova St, Alhambra, CA 91801  Alhambra   CA 91801  \n",
       "1298           228 Hampden Ter, Alhambra, CA 91801  Alhambra   CA 91801  \n",
       "1286        225 S Electric Ave, Alhambra, CA 91801  Alhambra   CA 91801  "
      ]
     },
     "execution_count": 2,
     "metadata": {},
     "output_type": "execute_result"
    }
   ],
   "source": [
    "df = pd.read_csv (\"../Data/02. CSV_inicial_houses_USA.csv\")\n",
    "df.sort_values(by = [\"City\"]).head()"
   ]
  },
  {
   "cell_type": "code",
   "execution_count": null,
   "id": "4ad89aed",
   "metadata": {
    "scrolled": false
   },
   "outputs": [],
   "source": [
    "df.shape"
   ]
  },
  {
   "cell_type": "code",
   "execution_count": null,
   "id": "917c0fb1",
   "metadata": {},
   "outputs": [],
   "source": [
    "set(df[\"City\"])"
   ]
  },
  {
   "cell_type": "markdown",
   "id": "6505b508",
   "metadata": {},
   "source": [
    "A continuación nos descargamos un CSV que hemos creado a partir de Selenium \"SeleniumProMo\""
   ]
  },
  {
   "cell_type": "code",
   "execution_count": null,
   "id": "d4c16911",
   "metadata": {},
   "outputs": [],
   "source": [
    "df_calidad_de_vida_eeuu_ciudades = pd.read_csv (\"Data/01. Resultado_Selenium_datos_ciudades_EEUU.csv\")\n",
    "df_calidad_de_vida_eeuu_ciudades.head()"
   ]
  },
  {
   "cell_type": "markdown",
   "id": "8f506086",
   "metadata": {},
   "source": [
    "A continuaición vamos a mergear ambos CSV:"
   ]
  },
  {
   "cell_type": "code",
   "execution_count": null,
   "id": "b40d5410",
   "metadata": {},
   "outputs": [],
   "source": [
    "mergeado_inner = df.merge(df_calidad_de_vida_eeuu_ciudades, on= \"City\")"
   ]
  },
  {
   "cell_type": "markdown",
   "id": "6a22b57b",
   "metadata": {},
   "source": [
    "Exportamos el DataFrame mergeado a un CSV"
   ]
  },
  {
   "cell_type": "code",
   "execution_count": null,
   "id": "6cb44fda",
   "metadata": {},
   "outputs": [],
   "source": [
    "mergeado_inner.to_csv(\"03. Datos_mergeados.csv\")"
   ]
  },
  {
   "cell_type": "markdown",
   "id": "718f0522",
   "metadata": {},
   "source": [
    "# Análisis Exploratorio"
   ]
  },
  {
   "cell_type": "code",
   "execution_count": null,
   "id": "526c3253",
   "metadata": {},
   "outputs": [],
   "source": [
    "import pandas as pd\n",
    "import numpy as np\n",
    "import sidetable\n",
    "\n",
    "import seaborn as sns\n",
    "import matplotlib.pyplot as plt"
   ]
  },
  {
   "cell_type": "code",
   "execution_count": null,
   "id": "d20f12e4",
   "metadata": {
    "scrolled": true
   },
   "outputs": [],
   "source": [
    "mergeado_inner.head(2)"
   ]
  },
  {
   "cell_type": "markdown",
   "id": "def5f2d0",
   "metadata": {},
   "source": [
    "# Exploración inicial de nuestros datos"
   ]
  },
  {
   "cell_type": "markdown",
   "id": "ca52f0db",
   "metadata": {},
   "source": [
    "### Tipado de Datos"
   ]
  },
  {
   "cell_type": "code",
   "execution_count": null,
   "id": "1f694230",
   "metadata": {},
   "outputs": [],
   "source": [
    "mergeado_inner.columns"
   ]
  },
  {
   "cell_type": "markdown",
   "id": "e80840f3",
   "metadata": {},
   "source": [
    "!!!! OJO !!!! Vemos como los nombres no son homogéneos y eso nos puede dificultar nuestro trabajo. Habrá que ponerkos en minúscula, cambiar espacios por \"_\", y eliminar las columnas que no nos aporten valor"
   ]
  },
  {
   "cell_type": "markdown",
   "id": "94599c46",
   "metadata": {},
   "source": [
    "### Tamaño"
   ]
  },
  {
   "cell_type": "code",
   "execution_count": null,
   "id": "881e75ac",
   "metadata": {},
   "outputs": [],
   "source": [
    "mergeado_inner.shape"
   ]
  },
  {
   "cell_type": "markdown",
   "id": "1c4b2efc",
   "metadata": {},
   "source": [
    "### Tipos de datos"
   ]
  },
  {
   "cell_type": "markdown",
   "id": "2c1b9a6e",
   "metadata": {},
   "source": [
    "¿Y el tipo de datos de cada una de las columnas?"
   ]
  },
  {
   "cell_type": "code",
   "execution_count": null,
   "id": "eadbe5cf",
   "metadata": {},
   "outputs": [],
   "source": [
    "mergeado_inner.dtypes"
   ]
  },
  {
   "cell_type": "markdown",
   "id": "b4435b06",
   "metadata": {},
   "source": [
    "!!!! OJO !!!! No tiene mucho sentido que el número de 'baños' sea un \"float\", ni que los números de \"Índice_poder_adqui', 'Índice_seguridad', 'Índice_sanidad', 'Índice_clima', 'Índice_costo_vida', 'Relación_precio_ingresos_propiedades', 'Índice_costo_desplazamiento', 'Índice_contaminación', 'Índice_calidad_vida' sean un \"string\"... Tendremos que hacer algo con ellas más adelante.\n",
    "\n"
   ]
  },
  {
   "cell_type": "markdown",
   "id": "6e87e9a7",
   "metadata": {},
   "source": [
    "### Info"
   ]
  },
  {
   "cell_type": "code",
   "execution_count": null,
   "id": "3caf4cba",
   "metadata": {
    "scrolled": true
   },
   "outputs": [],
   "source": [
    "mergeado_inner.info()"
   ]
  },
  {
   "cell_type": "markdown",
   "id": "ea0dca20",
   "metadata": {},
   "source": [
    "No tenemos valores nulos en nuestrio DataFrame"
   ]
  },
  {
   "cell_type": "markdown",
   "id": "31e8720f",
   "metadata": {},
   "source": [
    "### Principales estadísticos"
   ]
  },
  {
   "cell_type": "code",
   "execution_count": null,
   "id": "35727871",
   "metadata": {},
   "outputs": [],
   "source": [
    "mergeado_inner.describe().T"
   ]
  },
  {
   "cell_type": "code",
   "execution_count": null,
   "id": "c83e207d",
   "metadata": {},
   "outputs": [],
   "source": [
    "mergeado_inner.describe(include = \"object\").T"
   ]
  },
  {
   "cell_type": "markdown",
   "id": "3a266720",
   "metadata": {},
   "source": [
    "### Duplicados"
   ]
  },
  {
   "cell_type": "markdown",
   "id": "99266491",
   "metadata": {},
   "source": [
    "¿Tenemos duplicados en nuestro dataframe? -> Parece que no tenemos...."
   ]
  },
  {
   "cell_type": "code",
   "execution_count": null,
   "id": "3f19d7ba",
   "metadata": {
    "scrolled": false
   },
   "outputs": [],
   "source": [
    "mergeado_inner.duplicated().sum()"
   ]
  },
  {
   "cell_type": "markdown",
   "id": "37e82879",
   "metadata": {},
   "source": [
    "Pero, qué está pasando? Vamos a eliminar dos columnas con valores únicos \"Unnamed: 0_x\", \"Unnamed: 0_y\", y vamos a comprobar si realmente seguimos sin tener duplicados"
   ]
  },
  {
   "cell_type": "code",
   "execution_count": null,
   "id": "cfbe5b7d",
   "metadata": {},
   "outputs": [],
   "source": [
    "eliminar_columns = ['Unnamed: 0_x', 'Unnamed: 0_y']"
   ]
  },
  {
   "cell_type": "code",
   "execution_count": null,
   "id": "2219516d",
   "metadata": {},
   "outputs": [],
   "source": [
    "mergeado_inner_1 = mergeado_inner.drop(eliminar_columns, axis = 1)\n",
    "mergeado_inner_1.head(2)"
   ]
  },
  {
   "cell_type": "code",
   "execution_count": null,
   "id": "4a3cbeae",
   "metadata": {},
   "outputs": [],
   "source": [
    "mergeado_inner_1.duplicated().sum()"
   ]
  },
  {
   "cell_type": "markdown",
   "id": "a71a94f4",
   "metadata": {},
   "source": [
    "!!!! OJO!!!!  vemos como tenemos dos valores que están duplicados en nuestro dataframe"
   ]
  },
  {
   "cell_type": "markdown",
   "id": "feb22665",
   "metadata": {},
   "source": [
    "### Sidetables"
   ]
  },
  {
   "cell_type": "code",
   "execution_count": null,
   "id": "db5e99b0",
   "metadata": {
    "scrolled": true
   },
   "outputs": [],
   "source": [
    "mergeado_inner_1.stb.freq([\"AD_Situation\"])"
   ]
  },
  {
   "cell_type": "code",
   "execution_count": null,
   "id": "f19e230f",
   "metadata": {},
   "outputs": [],
   "source": [
    "mergeado_inner_1.stb.freq([\"Brokered_by\"])"
   ]
  },
  {
   "cell_type": "code",
   "execution_count": null,
   "id": "839b5c67",
   "metadata": {},
   "outputs": [],
   "source": [
    "mergeado_inner_1.stb.freq([\"City\"])"
   ]
  },
  {
   "cell_type": "code",
   "execution_count": null,
   "id": "621b8e66",
   "metadata": {
    "scrolled": true
   },
   "outputs": [],
   "source": [
    "mergeado_inner_1.stb.freq([\"State\"])"
   ]
  },
  {
   "cell_type": "code",
   "execution_count": null,
   "id": "74cead81",
   "metadata": {
    "scrolled": true
   },
   "outputs": [],
   "source": [
    "mergeado_inner_1[mergeado_inner_1.duplicated(keep=False)]"
   ]
  },
  {
   "cell_type": "markdown",
   "id": "940a4a20",
   "metadata": {},
   "source": [
    "### Exportación de CSV mergeado"
   ]
  },
  {
   "cell_type": "markdown",
   "id": "05e7441e",
   "metadata": {},
   "source": [
    "Exportamos el DataFrame mergeado, y con una limpieza minimísima, a un CSV:"
   ]
  },
  {
   "cell_type": "code",
   "execution_count": null,
   "id": "3c747768",
   "metadata": {},
   "outputs": [],
   "source": [
    "mergeado_inner_1.to_csv(\"03. Datos_mergeados_.csv\")"
   ]
  }
 ],
 "metadata": {
  "kernelspec": {
   "display_name": "Python 3 (ipykernel)",
   "language": "python",
   "name": "python3"
  },
  "language_info": {
   "codemirror_mode": {
    "name": "ipython",
    "version": 3
   },
   "file_extension": ".py",
   "mimetype": "text/x-python",
   "name": "python",
   "nbconvert_exporter": "python",
   "pygments_lexer": "ipython3",
   "version": "3.9.10"
  }
 },
 "nbformat": 4,
 "nbformat_minor": 5
}
