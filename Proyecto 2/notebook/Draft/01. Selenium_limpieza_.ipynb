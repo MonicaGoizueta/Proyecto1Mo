{
 "cells": [
  {
   "cell_type": "code",
   "execution_count": 1,
   "id": "304fb831",
   "metadata": {},
   "outputs": [],
   "source": [
    "import pandas as pd\n",
    "import numpy as np\n",
    "import sidetable\n",
    "import requests\n",
    "from time import sleep\n",
    "import re\n",
    "\n",
    "from selenium import webdriver\n",
    "from webdriver_manager.chrome import ChromeDriverManager\n",
    "from selenium.webdriver.common.keys import Keys\n",
    "from selenium.webdriver.chrome.options import Options\n",
    "\n",
    "import warnings\n",
    "warnings.filterwarnings('ignore')"
   ]
  },
  {
   "cell_type": "markdown",
   "id": "85a9ab8c",
   "metadata": {},
   "source": [
    "# CSV Inicial"
   ]
  },
  {
   "cell_type": "markdown",
   "id": "dd280dd6",
   "metadata": {},
   "source": [
    "Nos descargamos el CSV que vamos a utilizar de Kaggle.\n",
    "\n",
    "Los datos son sobre casas en los Estados de Washington, California y Oregón, y divididos por ciudades. Incluye muchas de las ciudades más importantes de cada estado. Los datos incluyen el precio, dirección, número de cuartos, baños, el área de la casa, etc.\n",
    "\n",
    "Link al kaggle: https://www.kaggle.com/ialjadani/houses-prices-in-selected-area-in-usa"
   ]
  },
  {
   "cell_type": "code",
   "execution_count": 2,
   "id": "0e136b6c",
   "metadata": {
    "scrolled": false
   },
   "outputs": [
    {
     "data": {
      "text/html": [
       "<div>\n",
       "<style scoped>\n",
       "    .dataframe tbody tr th:only-of-type {\n",
       "        vertical-align: middle;\n",
       "    }\n",
       "\n",
       "    .dataframe tbody tr th {\n",
       "        vertical-align: top;\n",
       "    }\n",
       "\n",
       "    .dataframe thead th {\n",
       "        text-align: right;\n",
       "    }\n",
       "</style>\n",
       "<table border=\"1\" class=\"dataframe\">\n",
       "  <thead>\n",
       "    <tr style=\"text-align: right;\">\n",
       "      <th></th>\n",
       "      <th>Unnamed: 0</th>\n",
       "      <th>Price</th>\n",
       "      <th>Currency</th>\n",
       "      <th>Brokered_by</th>\n",
       "      <th>AD_Situation</th>\n",
       "      <th>Rooms</th>\n",
       "      <th>Bath</th>\n",
       "      <th>Building space</th>\n",
       "      <th>Measruing unit</th>\n",
       "      <th>Address</th>\n",
       "      <th>City</th>\n",
       "      <th>State</th>\n",
       "    </tr>\n",
       "  </thead>\n",
       "  <tbody>\n",
       "    <tr>\n",
       "      <th>1182</th>\n",
       "      <td>1182</td>\n",
       "      <td>899000</td>\n",
       "      <td>USD</td>\n",
       "      <td>Redfin Corporation</td>\n",
       "      <td>New - 18 hours ago</td>\n",
       "      <td>4</td>\n",
       "      <td>2.5</td>\n",
       "      <td>1860</td>\n",
       "      <td>sqft</td>\n",
       "      <td>301 S Cordova St, Alhambra, CA 91801</td>\n",
       "      <td>Alhambra</td>\n",
       "      <td>CA 91801</td>\n",
       "    </tr>\n",
       "    <tr>\n",
       "      <th>1234</th>\n",
       "      <td>1234</td>\n",
       "      <td>510000</td>\n",
       "      <td>USD</td>\n",
       "      <td>Keller Williams Signature</td>\n",
       "      <td>New - 20 hours ago</td>\n",
       "      <td>2</td>\n",
       "      <td>2.0</td>\n",
       "      <td>1123</td>\n",
       "      <td>sqft</td>\n",
       "      <td>777 E Valley Blvd Apt 56, Alhambra, CA 91801</td>\n",
       "      <td>Alhambra</td>\n",
       "      <td>CA 91801</td>\n",
       "    </tr>\n",
       "    <tr>\n",
       "      <th>1302</th>\n",
       "      <td>1302</td>\n",
       "      <td>1188000</td>\n",
       "      <td>USD</td>\n",
       "      <td>COMPASS</td>\n",
       "      <td>New</td>\n",
       "      <td>3</td>\n",
       "      <td>2.5</td>\n",
       "      <td>1890</td>\n",
       "      <td>sqft</td>\n",
       "      <td>424 N Cordova St, Alhambra, CA 91801</td>\n",
       "      <td>Alhambra</td>\n",
       "      <td>CA 91801</td>\n",
       "    </tr>\n",
       "  </tbody>\n",
       "</table>\n",
       "</div>"
      ],
      "text/plain": [
       "      Unnamed: 0    Price Currency                Brokered_by  \\\n",
       "1182        1182   899000      USD         Redfin Corporation   \n",
       "1234        1234   510000      USD  Keller Williams Signature   \n",
       "1302        1302  1188000      USD                    COMPASS   \n",
       "\n",
       "            AD_Situation  Rooms  Bath  Building space Measruing unit  \\\n",
       "1182  New - 18 hours ago      4   2.5            1860           sqft   \n",
       "1234  New - 20 hours ago      2   2.0            1123           sqft   \n",
       "1302                 New      3   2.5            1890           sqft   \n",
       "\n",
       "                                           Address      City      State  \n",
       "1182          301 S Cordova St, Alhambra, CA 91801  Alhambra   CA 91801  \n",
       "1234  777 E Valley Blvd Apt 56, Alhambra, CA 91801  Alhambra   CA 91801  \n",
       "1302          424 N Cordova St, Alhambra, CA 91801  Alhambra   CA 91801  "
      ]
     },
     "execution_count": 2,
     "metadata": {},
     "output_type": "execute_result"
    }
   ],
   "source": [
    "df = pd.read_csv (\"../Data/01. CSV_inicial_houses_USA.csv\")\n",
    "df.sort_values(by = [\"City\"]).head(3)"
   ]
  },
  {
   "cell_type": "code",
   "execution_count": 3,
   "id": "79cced68",
   "metadata": {},
   "outputs": [
    {
     "data": {
      "text/plain": [
       "(1718, 12)"
      ]
     },
     "execution_count": 3,
     "metadata": {},
     "output_type": "execute_result"
    }
   ],
   "source": [
    "df.shape"
   ]
  },
  {
   "cell_type": "markdown",
   "id": "80f550e9",
   "metadata": {},
   "source": [
    "# Selenium"
   ]
  },
  {
   "cell_type": "markdown",
   "id": "f4beaa6e",
   "metadata": {},
   "source": [
    "A continuación, mediante Selenium, vamos a extraer información adicional sobre índices (de poder adquisitivo, calidad, seguridad, sanidad, etc.) de las 11 ciudades más importantes y relevantes de estos 3 Estados. Esto lo usaremos más adelante para enriquecer nuestro CSV inicial"
   ]
  },
  {
   "cell_type": "markdown",
   "id": "7c788862",
   "metadata": {},
   "source": [
    "Lo primero que vamos a hacer es definir una serie de opciones para trabajar con Selenium"
   ]
  },
  {
   "cell_type": "code",
   "execution_count": 4,
   "id": "335af499",
   "metadata": {},
   "outputs": [],
   "source": [
    "opciones= Options()\n",
    "opciones.add_experimental_option('excludeSwitches', ['enable-automation'])\n",
    "#para ocultarme como robot\n",
    "opciones.add_experimental_option('useAutomationExtension', False)\n",
    "opciones.add_argument('--start-maximized') #empezar maximizado\n",
    "opciones.add_argument('user.data-dir=selenium') #guarda las cookies\n",
    "opciones.add_argument('--incognito')#incognito window"
   ]
  },
  {
   "cell_type": "code",
   "execution_count": 5,
   "id": "1558c2d1",
   "metadata": {
    "scrolled": false
   },
   "outputs": [
    {
     "name": "stderr",
     "output_type": "stream",
     "text": [
      "\n",
      "\n",
      "====== WebDriver manager ======\n",
      "Current google-chrome version is 99.0.4844\n",
      "Get LATEST chromedriver version for 99.0.4844 google-chrome\n",
      "Driver [/Users/monicagoizuetabeltran/.wdm/drivers/chromedriver/mac64/99.0.4844.51/chromedriver] found in cache\n"
     ]
    },
    {
     "data": {
      "text/plain": [
       "'Índice de Poder Adquisitivo 104,42   Alto\\nÍndice de Seguridad 51,72   Moderado\\nÍndice de Sanidad 69,06   Alto\\nÍndice de Clima 77,33   Alto\\nÍndice de Costo de Vida 70,11   Moderado\\nRelación Precio/Ingresos para Propiedades 3,93   Muy Bajo\\nÍndice de Tiempo de Desplazamiento en Tráfico 32,88   Bajo\\nÍndice de Contaminación 35,44   Bajo\\nƒ Índice de Calidad de Vida: 170,01   Muy alto'"
      ]
     },
     "execution_count": 5,
     "metadata": {},
     "output_type": "execute_result"
    }
   ],
   "source": [
    "# iniciamos el driver\n",
    "driver = webdriver.Chrome(ChromeDriverManager().install())\n",
    "## accedemos a la pagina web\n",
    "\n",
    "driver.get(\"https://es.numbeo.com/calidad-de-vida/pa%25C3%25ADs/Estados-Unidos\")\n",
    "driver.implicitly_wait(15)\n",
    "# esperamos\n",
    "\n",
    "driver.find_element_by_css_selector(\"#content_and_logo > table:nth-child(10) > tbody\").text"
   ]
  },
  {
   "cell_type": "markdown",
   "id": "d02fd7b3",
   "metadata": {},
   "source": [
    "Hemos accedido a la información genérica de Estados Unidos, perfecto! Y ahora vamos a acceder a la información de las ciudades que nos interesan:"
   ]
  },
  {
   "cell_type": "code",
   "execution_count": 6,
   "id": "4dd6525e",
   "metadata": {},
   "outputs": [],
   "source": [
    "ciudades_list = [\"Olympia\",\"Portland\",\"Seattle\",\"Anaheim\",\"Bellevue\",\"Irvine\",\"Playa-Larga\",\"Los-Ángeles\",\"Pasadena\",\"Portland\",\"Redmond\",\"Tacoma\",\"Vancouver\"]         "
   ]
  },
  {
   "cell_type": "code",
   "execution_count": 7,
   "id": "b0cf2059",
   "metadata": {
    "scrolled": false
   },
   "outputs": [
    {
     "data": {
      "text/plain": [
       "['https://es.numbeo.com/calidad-de-vida/ciudad/Olympia',\n",
       " 'https://es.numbeo.com/calidad-de-vida/ciudad/Portland',\n",
       " 'https://es.numbeo.com/calidad-de-vida/ciudad/Seattle',\n",
       " 'https://es.numbeo.com/calidad-de-vida/ciudad/Anaheim',\n",
       " 'https://es.numbeo.com/calidad-de-vida/ciudad/Bellevue',\n",
       " 'https://es.numbeo.com/calidad-de-vida/ciudad/Irvine',\n",
       " 'https://es.numbeo.com/calidad-de-vida/ciudad/Playa-Larga',\n",
       " 'https://es.numbeo.com/calidad-de-vida/ciudad/Los-Ángeles',\n",
       " 'https://es.numbeo.com/calidad-de-vida/ciudad/Pasadena',\n",
       " 'https://es.numbeo.com/calidad-de-vida/ciudad/Portland',\n",
       " 'https://es.numbeo.com/calidad-de-vida/ciudad/Redmond',\n",
       " 'https://es.numbeo.com/calidad-de-vida/ciudad/Tacoma',\n",
       " 'https://es.numbeo.com/calidad-de-vida/ciudad/Vancouver']"
      ]
     },
     "execution_count": 7,
     "metadata": {},
     "output_type": "execute_result"
    }
   ],
   "source": [
    "url_list = []\n",
    "\n",
    "for i in ciudades_list:\n",
    "    url_list.append(f\"https://es.numbeo.com/calidad-de-vida/ciudad/{i}\")\n",
    "\n",
    "url_list"
   ]
  },
  {
   "cell_type": "markdown",
   "id": "6a101276",
   "metadata": {},
   "source": [
    "Ya tenemos la lista de las url que queremos! Ahora vamos a sacar la tabla para cada una de las url de arriba:"
   ]
  },
  {
   "cell_type": "code",
   "execution_count": 8,
   "id": "bcde81ec",
   "metadata": {},
   "outputs": [
    {
     "ename": "WebDriverException",
     "evalue": "Message: unknown error: cannot determine loading status\nfrom target frame detached\n  (Session info: chrome=99.0.4844.74)\nStacktrace:\n0   chromedriver                        0x000000010c7eb159 chromedriver + 5120345\n1   chromedriver                        0x000000010c778b13 chromedriver + 4651795\n2   chromedriver                        0x000000010c368d1f chromedriver + 392479\n3   chromedriver                        0x000000010c353b53 chromedriver + 306003\n4   chromedriver                        0x000000010c352bf8 chromedriver + 302072\n5   chromedriver                        0x000000010c35313c chromedriver + 303420\n6   chromedriver                        0x000000010c353094 chromedriver + 303252\n7   chromedriver                        0x000000010c359db9 chromedriver + 331193\n8   chromedriver                        0x000000010c35a082 chromedriver + 331906\n9   chromedriver                        0x000000010c354448 chromedriver + 308296\n10  chromedriver                        0x000000010c354a08 chromedriver + 309768\n11  chromedriver                        0x000000010c3547ba chromedriver + 309178\n12  chromedriver                        0x000000010c353d5b chromedriver + 306523\n13  chromedriver                        0x000000010c352bf8 chromedriver + 302072\n14  chromedriver                        0x000000010c35313c chromedriver + 303420\n15  chromedriver                        0x000000010c3613af chromedriver + 361391\n16  chromedriver                        0x000000010c361f32 chromedriver + 364338\n17  chromedriver                        0x000000010c3701f3 chromedriver + 422387\n18  chromedriver                        0x000000010c37338a chromedriver + 435082\n19  chromedriver                        0x000000010c35346e chromedriver + 304238\n20  chromedriver                        0x000000010c36fe2a chromedriver + 421418\n21  chromedriver                        0x000000010c3cea97 chromedriver + 809623\n22  chromedriver                        0x000000010c3bba33 chromedriver + 731699\n23  chromedriver                        0x000000010c3915dd chromedriver + 558557\n24  chromedriver                        0x000000010c3924f5 chromedriver + 562421\n25  chromedriver                        0x000000010c7a838d chromedriver + 4846477\n26  chromedriver                        0x000000010c7c221c chromedriver + 4952604\n27  chromedriver                        0x000000010c7c7a12 chromedriver + 4975122\n28  chromedriver                        0x000000010c7c2b4a chromedriver + 4954954\n29  chromedriver                        0x000000010c79d5b0 chromedriver + 4801968\n30  chromedriver                        0x000000010c7dcf78 chromedriver + 5062520\n31  chromedriver                        0x000000010c7dd0ff chromedriver + 5062911\n32  chromedriver                        0x000000010c7f2545 chromedriver + 5150021\n33  libsystem_pthread.dylib             0x00007fff204f38fc _pthread_start + 224\n34  libsystem_pthread.dylib             0x00007fff204ef443 thread_start + 15\n",
     "output_type": "error",
     "traceback": [
      "\u001b[0;31m---------------------------------------------------------------------------\u001b[0m",
      "\u001b[0;31mWebDriverException\u001b[0m                        Traceback (most recent call last)",
      "Input \u001b[0;32mIn [8]\u001b[0m, in \u001b[0;36m<module>\u001b[0;34m\u001b[0m\n\u001b[1;32m      1\u001b[0m resultados \u001b[38;5;241m=\u001b[39m []\n\u001b[1;32m      2\u001b[0m \u001b[38;5;28;01mfor\u001b[39;00m z \u001b[38;5;129;01min\u001b[39;00m url_list:\n\u001b[0;32m----> 3\u001b[0m     \u001b[43mdriver\u001b[49m\u001b[38;5;241;43m.\u001b[39;49m\u001b[43mget\u001b[49m\u001b[43m(\u001b[49m\u001b[43mz\u001b[49m\u001b[43m)\u001b[49m\n\u001b[1;32m      4\u001b[0m     driver\u001b[38;5;241m.\u001b[39mimplicitly_wait(\u001b[38;5;241m15\u001b[39m)\n\u001b[1;32m      5\u001b[0m     res \u001b[38;5;241m=\u001b[39m driver\u001b[38;5;241m.\u001b[39mfind_element_by_xpath(\u001b[38;5;124m'\u001b[39m\u001b[38;5;124m/html/body/div[2]/table[2]/tbody\u001b[39m\u001b[38;5;124m'\u001b[39m)\u001b[38;5;241m.\u001b[39mtext\n",
      "File \u001b[0;32m/usr/local/lib/python3.9/site-packages/selenium/webdriver/remote/webdriver.py:437\u001b[0m, in \u001b[0;36mWebDriver.get\u001b[0;34m(self, url)\u001b[0m\n\u001b[1;32m    433\u001b[0m \u001b[38;5;28;01mdef\u001b[39;00m \u001b[38;5;21mget\u001b[39m(\u001b[38;5;28mself\u001b[39m, url: \u001b[38;5;28mstr\u001b[39m) \u001b[38;5;241m-\u001b[39m\u001b[38;5;241m>\u001b[39m \u001b[38;5;28;01mNone\u001b[39;00m:\n\u001b[1;32m    434\u001b[0m     \u001b[38;5;124;03m\"\"\"\u001b[39;00m\n\u001b[1;32m    435\u001b[0m \u001b[38;5;124;03m    Loads a web page in the current browser session.\u001b[39;00m\n\u001b[1;32m    436\u001b[0m \u001b[38;5;124;03m    \"\"\"\u001b[39;00m\n\u001b[0;32m--> 437\u001b[0m     \u001b[38;5;28;43mself\u001b[39;49m\u001b[38;5;241;43m.\u001b[39;49m\u001b[43mexecute\u001b[49m\u001b[43m(\u001b[49m\u001b[43mCommand\u001b[49m\u001b[38;5;241;43m.\u001b[39;49m\u001b[43mGET\u001b[49m\u001b[43m,\u001b[49m\u001b[43m \u001b[49m\u001b[43m{\u001b[49m\u001b[38;5;124;43m'\u001b[39;49m\u001b[38;5;124;43murl\u001b[39;49m\u001b[38;5;124;43m'\u001b[39;49m\u001b[43m:\u001b[49m\u001b[43m \u001b[49m\u001b[43murl\u001b[49m\u001b[43m}\u001b[49m\u001b[43m)\u001b[49m\n",
      "File \u001b[0;32m/usr/local/lib/python3.9/site-packages/selenium/webdriver/remote/webdriver.py:425\u001b[0m, in \u001b[0;36mWebDriver.execute\u001b[0;34m(self, driver_command, params)\u001b[0m\n\u001b[1;32m    423\u001b[0m response \u001b[38;5;241m=\u001b[39m \u001b[38;5;28mself\u001b[39m\u001b[38;5;241m.\u001b[39mcommand_executor\u001b[38;5;241m.\u001b[39mexecute(driver_command, params)\n\u001b[1;32m    424\u001b[0m \u001b[38;5;28;01mif\u001b[39;00m response:\n\u001b[0;32m--> 425\u001b[0m     \u001b[38;5;28;43mself\u001b[39;49m\u001b[38;5;241;43m.\u001b[39;49m\u001b[43merror_handler\u001b[49m\u001b[38;5;241;43m.\u001b[39;49m\u001b[43mcheck_response\u001b[49m\u001b[43m(\u001b[49m\u001b[43mresponse\u001b[49m\u001b[43m)\u001b[49m\n\u001b[1;32m    426\u001b[0m     response[\u001b[38;5;124m'\u001b[39m\u001b[38;5;124mvalue\u001b[39m\u001b[38;5;124m'\u001b[39m] \u001b[38;5;241m=\u001b[39m \u001b[38;5;28mself\u001b[39m\u001b[38;5;241m.\u001b[39m_unwrap_value(\n\u001b[1;32m    427\u001b[0m         response\u001b[38;5;241m.\u001b[39mget(\u001b[38;5;124m'\u001b[39m\u001b[38;5;124mvalue\u001b[39m\u001b[38;5;124m'\u001b[39m, \u001b[38;5;28;01mNone\u001b[39;00m))\n\u001b[1;32m    428\u001b[0m     \u001b[38;5;28;01mreturn\u001b[39;00m response\n",
      "File \u001b[0;32m/usr/local/lib/python3.9/site-packages/selenium/webdriver/remote/errorhandler.py:247\u001b[0m, in \u001b[0;36mErrorHandler.check_response\u001b[0;34m(self, response)\u001b[0m\n\u001b[1;32m    245\u001b[0m         alert_text \u001b[38;5;241m=\u001b[39m value[\u001b[38;5;124m'\u001b[39m\u001b[38;5;124malert\u001b[39m\u001b[38;5;124m'\u001b[39m]\u001b[38;5;241m.\u001b[39mget(\u001b[38;5;124m'\u001b[39m\u001b[38;5;124mtext\u001b[39m\u001b[38;5;124m'\u001b[39m)\n\u001b[1;32m    246\u001b[0m     \u001b[38;5;28;01mraise\u001b[39;00m exception_class(message, screen, stacktrace, alert_text)  \u001b[38;5;66;03m# type: ignore[call-arg]  # mypy is not smart enough here\u001b[39;00m\n\u001b[0;32m--> 247\u001b[0m \u001b[38;5;28;01mraise\u001b[39;00m exception_class(message, screen, stacktrace)\n",
      "\u001b[0;31mWebDriverException\u001b[0m: Message: unknown error: cannot determine loading status\nfrom target frame detached\n  (Session info: chrome=99.0.4844.74)\nStacktrace:\n0   chromedriver                        0x000000010c7eb159 chromedriver + 5120345\n1   chromedriver                        0x000000010c778b13 chromedriver + 4651795\n2   chromedriver                        0x000000010c368d1f chromedriver + 392479\n3   chromedriver                        0x000000010c353b53 chromedriver + 306003\n4   chromedriver                        0x000000010c352bf8 chromedriver + 302072\n5   chromedriver                        0x000000010c35313c chromedriver + 303420\n6   chromedriver                        0x000000010c353094 chromedriver + 303252\n7   chromedriver                        0x000000010c359db9 chromedriver + 331193\n8   chromedriver                        0x000000010c35a082 chromedriver + 331906\n9   chromedriver                        0x000000010c354448 chromedriver + 308296\n10  chromedriver                        0x000000010c354a08 chromedriver + 309768\n11  chromedriver                        0x000000010c3547ba chromedriver + 309178\n12  chromedriver                        0x000000010c353d5b chromedriver + 306523\n13  chromedriver                        0x000000010c352bf8 chromedriver + 302072\n14  chromedriver                        0x000000010c35313c chromedriver + 303420\n15  chromedriver                        0x000000010c3613af chromedriver + 361391\n16  chromedriver                        0x000000010c361f32 chromedriver + 364338\n17  chromedriver                        0x000000010c3701f3 chromedriver + 422387\n18  chromedriver                        0x000000010c37338a chromedriver + 435082\n19  chromedriver                        0x000000010c35346e chromedriver + 304238\n20  chromedriver                        0x000000010c36fe2a chromedriver + 421418\n21  chromedriver                        0x000000010c3cea97 chromedriver + 809623\n22  chromedriver                        0x000000010c3bba33 chromedriver + 731699\n23  chromedriver                        0x000000010c3915dd chromedriver + 558557\n24  chromedriver                        0x000000010c3924f5 chromedriver + 562421\n25  chromedriver                        0x000000010c7a838d chromedriver + 4846477\n26  chromedriver                        0x000000010c7c221c chromedriver + 4952604\n27  chromedriver                        0x000000010c7c7a12 chromedriver + 4975122\n28  chromedriver                        0x000000010c7c2b4a chromedriver + 4954954\n29  chromedriver                        0x000000010c79d5b0 chromedriver + 4801968\n30  chromedriver                        0x000000010c7dcf78 chromedriver + 5062520\n31  chromedriver                        0x000000010c7dd0ff chromedriver + 5062911\n32  chromedriver                        0x000000010c7f2545 chromedriver + 5150021\n33  libsystem_pthread.dylib             0x00007fff204f38fc _pthread_start + 224\n34  libsystem_pthread.dylib             0x00007fff204ef443 thread_start + 15\n"
     ]
    }
   ],
   "source": [
    "resultados = []\n",
    "for z in url_list:\n",
    "    driver.get(z)\n",
    "    driver.implicitly_wait(15)\n",
    "    res = driver.find_element_by_xpath('/html/body/div[2]/table[2]/tbody').text\n",
    "    resultados.append(res)"
   ]
  },
  {
   "cell_type": "code",
   "execution_count": null,
   "id": "a5b77b5d",
   "metadata": {
    "scrolled": true
   },
   "outputs": [],
   "source": [
    "resultados"
   ]
  },
  {
   "cell_type": "markdown",
   "id": "83578639",
   "metadata": {},
   "source": [
    "A continuación vamos a crear un diccionario, pasándole los Key-values, y con objetivo de crear un DataFrame:"
   ]
  },
  {
   "cell_type": "code",
   "execution_count": null,
   "id": "162c970e",
   "metadata": {},
   "outputs": [],
   "source": [
    "key_list = [\"Olympia\",\"Portland\",\"Seattle\",\"Anaheim\",\"Bellevue\",\"Irvine\",\"Long Beach\",\"Los Ángeles\",\"Pasadena\",\"Portland\",\"Redmond\",\"Tacoma\",\"Vancouver\"]\n",
    "value_list = resultados"
   ]
  },
  {
   "cell_type": "code",
   "execution_count": null,
   "id": "89a340a1",
   "metadata": {
    "scrolled": false
   },
   "outputs": [],
   "source": [
    "dict_from_list = dict(zip(key_list, value_list))\n",
    "#print(dict_from_list)"
   ]
  },
  {
   "cell_type": "code",
   "execution_count": null,
   "id": "f249b17e",
   "metadata": {
    "scrolled": true
   },
   "outputs": [],
   "source": [
    "df1 = pd.DataFrame(dict_from_list, index = [\"indice1\"]).T\n",
    "df1"
   ]
  },
  {
   "cell_type": "markdown",
   "id": "ac007490",
   "metadata": {},
   "source": [
    "A continuación vamos a split la columna \"indice1\" por los espacios! Y resetemos el índice:"
   ]
  },
  {
   "cell_type": "code",
   "execution_count": null,
   "id": "582109f2",
   "metadata": {
    "scrolled": false
   },
   "outputs": [],
   "source": [
    "df2 = (df1[\"indice1\"].str.split(\"\\n\", expand=True)).reset_index()\n",
    "df2.head(1)"
   ]
  },
  {
   "cell_type": "markdown",
   "id": "1f118dfc",
   "metadata": {},
   "source": [
    "Actualizamos el nombre de las columnas"
   ]
  },
  {
   "cell_type": "code",
   "execution_count": null,
   "id": "a83abdfd",
   "metadata": {
    "scrolled": true
   },
   "outputs": [],
   "source": [
    "df2.columns = ['City', 'índice_poder_adq', 'índice_seguridad','índice_sanidad', 'índice_clima', 'índice_costo_vida', 'relación_precio_ingresos_propiedades', 'índice_costo_desplazamiento', 'índice_contaminación', 'índice_calidad_vida']\n",
    "df2.head(1)"
   ]
  },
  {
   "cell_type": "markdown",
   "id": "ac7866a1",
   "metadata": {},
   "source": [
    "Creamos nuevas columnas, quedándonos únicamente con los valores numéricos:"
   ]
  },
  {
   "cell_type": "code",
   "execution_count": null,
   "id": "ca642ef6",
   "metadata": {
    "scrolled": true
   },
   "outputs": [],
   "source": [
    "df2[\"Índice_poder_adqui\"] = df2.índice_poder_adq.str.extract(\"(\\d+,\\d+)\", expand=True)\n",
    "df2[\"Índice_seguridad\"] = df2.índice_seguridad.str.extract(\"(\\d+,\\d+)\", expand=True)\n",
    "df2[\"Índice_sanidad\"] = df2.índice_sanidad.str.extract(\"(\\d+,\\d+)\", expand=True)\n",
    "df2[\"Índice_clima\"] = df2.índice_clima.str.extract(\"(\\d+,\\d+)\", expand=True)\n",
    "df2[\"Índice_costo_vida\"] = df2.índice_costo_vida.str.extract(\"(\\d+,\\d+)\", expand=True)\n",
    "df2[\"Relación_precio_ingresos_propiedades\"] = df2.relación_precio_ingresos_propiedades.str.extract(\"(\\d+,\\d+)\", expand=True)\n",
    "df2[\"Índice_costo_desplazamiento\"] = df2.índice_costo_desplazamiento.str.extract(\"(\\d+,\\d+)\", expand=True)\n",
    "df2[\"Índice_contaminación\"] = df2.índice_contaminación.str.extract(\"(\\d+,\\d+)\", expand=True)\n",
    "df2[\"Índice_calidad_vida\"] = df2.índice_calidad_vida.str.extract(\"(\\d+,\\d+)\", expand=True)\n",
    "df2.head(1)"
   ]
  },
  {
   "cell_type": "markdown",
   "id": "03bb38da",
   "metadata": {},
   "source": [
    "Eliminamos las columnas que ya no necesitamos porque la información está duplicada:"
   ]
  },
  {
   "cell_type": "code",
   "execution_count": null,
   "id": "32cfc699",
   "metadata": {},
   "outputs": [],
   "source": [
    "eliminar = ['índice_poder_adq', 'índice_seguridad', 'índice_sanidad',\n",
    "       'índice_clima', 'índice_costo_vida',\n",
    "       'relación_precio_ingresos_propiedades', 'índice_costo_desplazamiento',\n",
    "       'índice_contaminación', 'índice_calidad_vida']"
   ]
  },
  {
   "cell_type": "code",
   "execution_count": null,
   "id": "62b794bd",
   "metadata": {
    "scrolled": true
   },
   "outputs": [],
   "source": [
    "df2_limpio = df2.drop(eliminar, axis = 1)\n",
    "df2_limpio.head(1)"
   ]
  },
  {
   "cell_type": "markdown",
   "id": "78105e1d",
   "metadata": {},
   "source": [
    "Exportamos el DataFrame a un CSV"
   ]
  },
  {
   "cell_type": "code",
   "execution_count": null,
   "id": "e2de8f57",
   "metadata": {},
   "outputs": [],
   "source": [
    "df2_limpio.to_csv(\"01. Resultado_Selenium_índices_ciudades_EEUU.csv\")"
   ]
  }
 ],
 "metadata": {
  "kernelspec": {
   "display_name": "Python 3 (ipykernel)",
   "language": "python",
   "name": "python3"
  },
  "language_info": {
   "codemirror_mode": {
    "name": "ipython",
    "version": 3
   },
   "file_extension": ".py",
   "mimetype": "text/x-python",
   "name": "python",
   "nbconvert_exporter": "python",
   "pygments_lexer": "ipython3",
   "version": "3.9.10"
  }
 },
 "nbformat": 4,
 "nbformat_minor": 5
}
