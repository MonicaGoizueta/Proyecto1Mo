{
 "cells": [
  {
   "cell_type": "code",
   "execution_count": 2,
   "id": "765a4f61",
   "metadata": {},
   "outputs": [],
   "source": [
    "import pandas as pd\n",
    "import requests\n",
    "\n",
    "from selenium import webdriver\n",
    "from webdriver_manager.chrome import ChromeDriverManager\n",
    "from selenium.webdriver.common.keys import Keys\n",
    "from selenium.webdriver.chrome.options import Options\n",
    "\n",
    "import warnings\n",
    "warnings.filterwarnings('ignore')"
   ]
  },
  {
   "cell_type": "markdown",
   "id": "da0ca381",
   "metadata": {},
   "source": [
    "# CSV Inicial"
   ]
  },
  {
   "cell_type": "markdown",
   "id": "caf63afb",
   "metadata": {},
   "source": [
    "Nos descargamos el CSV que vamos a utilizar de Kaggle.\n",
    "\n",
    "Los datos son sobre casas en los Estados de Washington, California y Oregón, y divididos por ciudades. Incluye muchas de las ciudades más importantes de cada estado. Los datos incluyen el precio, dirección, número de cuartos, baños, el área de la casa, etc.\n",
    "\n",
    "Link al kaggle: https://www.kaggle.com/ialjadani/houses-prices-in-selected-area-in-usa"
   ]
  },
  {
   "cell_type": "code",
   "execution_count": 3,
   "id": "8a5bdaf5",
   "metadata": {
    "scrolled": false
   },
   "outputs": [
    {
     "data": {
      "text/html": [
       "<div>\n",
       "<style scoped>\n",
       "    .dataframe tbody tr th:only-of-type {\n",
       "        vertical-align: middle;\n",
       "    }\n",
       "\n",
       "    .dataframe tbody tr th {\n",
       "        vertical-align: top;\n",
       "    }\n",
       "\n",
       "    .dataframe thead th {\n",
       "        text-align: right;\n",
       "    }\n",
       "</style>\n",
       "<table border=\"1\" class=\"dataframe\">\n",
       "  <thead>\n",
       "    <tr style=\"text-align: right;\">\n",
       "      <th></th>\n",
       "      <th>Unnamed: 0</th>\n",
       "      <th>Price</th>\n",
       "      <th>Currency</th>\n",
       "      <th>Brokered_by</th>\n",
       "      <th>AD_Situation</th>\n",
       "      <th>Rooms</th>\n",
       "      <th>Bath</th>\n",
       "      <th>Building space</th>\n",
       "      <th>Measruing unit</th>\n",
       "      <th>Address</th>\n",
       "      <th>City</th>\n",
       "      <th>State</th>\n",
       "    </tr>\n",
       "  </thead>\n",
       "  <tbody>\n",
       "    <tr>\n",
       "      <th>1182</th>\n",
       "      <td>1182</td>\n",
       "      <td>899000</td>\n",
       "      <td>USD</td>\n",
       "      <td>Redfin Corporation</td>\n",
       "      <td>New - 18 hours ago</td>\n",
       "      <td>4</td>\n",
       "      <td>2.5</td>\n",
       "      <td>1860</td>\n",
       "      <td>sqft</td>\n",
       "      <td>301 S Cordova St, Alhambra, CA 91801</td>\n",
       "      <td>Alhambra</td>\n",
       "      <td>CA 91801</td>\n",
       "    </tr>\n",
       "    <tr>\n",
       "      <th>1234</th>\n",
       "      <td>1234</td>\n",
       "      <td>510000</td>\n",
       "      <td>USD</td>\n",
       "      <td>Keller Williams Signature</td>\n",
       "      <td>New - 20 hours ago</td>\n",
       "      <td>2</td>\n",
       "      <td>2.0</td>\n",
       "      <td>1123</td>\n",
       "      <td>sqft</td>\n",
       "      <td>777 E Valley Blvd Apt 56, Alhambra, CA 91801</td>\n",
       "      <td>Alhambra</td>\n",
       "      <td>CA 91801</td>\n",
       "    </tr>\n",
       "    <tr>\n",
       "      <th>1302</th>\n",
       "      <td>1302</td>\n",
       "      <td>1188000</td>\n",
       "      <td>USD</td>\n",
       "      <td>COMPASS</td>\n",
       "      <td>New</td>\n",
       "      <td>3</td>\n",
       "      <td>2.5</td>\n",
       "      <td>1890</td>\n",
       "      <td>sqft</td>\n",
       "      <td>424 N Cordova St, Alhambra, CA 91801</td>\n",
       "      <td>Alhambra</td>\n",
       "      <td>CA 91801</td>\n",
       "    </tr>\n",
       "  </tbody>\n",
       "</table>\n",
       "</div>"
      ],
      "text/plain": [
       "      Unnamed: 0    Price Currency                Brokered_by  \\\n",
       "1182        1182   899000      USD         Redfin Corporation   \n",
       "1234        1234   510000      USD  Keller Williams Signature   \n",
       "1302        1302  1188000      USD                    COMPASS   \n",
       "\n",
       "            AD_Situation  Rooms  Bath  Building space Measruing unit  \\\n",
       "1182  New - 18 hours ago      4   2.5            1860           sqft   \n",
       "1234  New - 20 hours ago      2   2.0            1123           sqft   \n",
       "1302                 New      3   2.5            1890           sqft   \n",
       "\n",
       "                                           Address      City      State  \n",
       "1182          301 S Cordova St, Alhambra, CA 91801  Alhambra   CA 91801  \n",
       "1234  777 E Valley Blvd Apt 56, Alhambra, CA 91801  Alhambra   CA 91801  \n",
       "1302          424 N Cordova St, Alhambra, CA 91801  Alhambra   CA 91801  "
      ]
     },
     "execution_count": 3,
     "metadata": {},
     "output_type": "execute_result"
    }
   ],
   "source": [
    "df = pd.read_csv (\"../Data/01.1 CSV_inicial_houses_USA.csv\")\n",
    "df.sort_values(by = [\"City\"]).head(3)"
   ]
  },
  {
   "cell_type": "code",
   "execution_count": 4,
   "id": "bbdf799e",
   "metadata": {},
   "outputs": [
    {
     "data": {
      "text/plain": [
       "(1718, 12)"
      ]
     },
     "execution_count": 4,
     "metadata": {},
     "output_type": "execute_result"
    }
   ],
   "source": [
    "df.shape"
   ]
  },
  {
   "cell_type": "markdown",
   "id": "80f550e9",
   "metadata": {},
   "source": [
    "# Selenium"
   ]
  },
  {
   "cell_type": "markdown",
   "id": "f5728cdb",
   "metadata": {},
   "source": [
    "A continuación, haremos uso de Seleniom para extraer información sobre índices (de poder adquisitivo, calidad, seguridad, sanidad, etc.) de las 11 ciudades más importantes y relevantes de los 3 Estados en análisis. Esto lo usaremos más adelante para enriquecer nuestro CSV inicial"
   ]
  },
  {
   "cell_type": "markdown",
   "id": "7c788862",
   "metadata": {},
   "source": [
    "Lo primero que vamos a hacer es definir una serie de opciones para trabajar con Selenium"
   ]
  },
  {
   "cell_type": "code",
   "execution_count": 5,
   "id": "335af499",
   "metadata": {},
   "outputs": [],
   "source": [
    "opciones= Options()\n",
    "opciones.add_experimental_option('excludeSwitches', ['enable-automation'])\n",
    "#para ocultarme como robot\n",
    "opciones.add_experimental_option('useAutomationExtension', False)\n",
    "opciones.add_argument('--start-maximized') #empezar maximizado\n",
    "opciones.add_argument('user.data-dir=selenium') #guarda las cookies\n",
    "opciones.add_argument('--incognito')#incognito window"
   ]
  },
  {
   "cell_type": "code",
   "execution_count": 6,
   "id": "1558c2d1",
   "metadata": {
    "scrolled": false
   },
   "outputs": [
    {
     "name": "stderr",
     "output_type": "stream",
     "text": [
      "\n",
      "\n",
      "====== WebDriver manager ======\n",
      "Current google-chrome version is 99.0.4844\n",
      "Get LATEST chromedriver version for 99.0.4844 google-chrome\n",
      "Driver [/Users/monicagoizuetabeltran/.wdm/drivers/chromedriver/mac64/99.0.4844.51/chromedriver] found in cache\n"
     ]
    },
    {
     "data": {
      "text/plain": [
       "'Índice de Poder Adquisitivo 104,42   Alto\\nÍndice de Seguridad 51,72   Moderado\\nÍndice de Sanidad 69,06   Alto\\nÍndice de Clima 77,33   Alto\\nÍndice de Costo de Vida 70,11   Moderado\\nRelación Precio/Ingresos para Propiedades 3,93   Muy Bajo\\nÍndice de Tiempo de Desplazamiento en Tráfico 32,88   Bajo\\nÍndice de Contaminación 35,44   Bajo\\nƒ Índice de Calidad de Vida: 170,01   Muy alto'"
      ]
     },
     "execution_count": 6,
     "metadata": {},
     "output_type": "execute_result"
    }
   ],
   "source": [
    "# iniciamos el driver\n",
    "driver = webdriver.Chrome(ChromeDriverManager().install())\n",
    "## accedemos a la pagina web\n",
    "\n",
    "driver.get(\"https://es.numbeo.com/calidad-de-vida/pa%25C3%25ADs/Estados-Unidos\")\n",
    "driver.implicitly_wait(15)\n",
    "# esperamos\n",
    "\n",
    "driver.find_element_by_css_selector(\"#content_and_logo > table:nth-child(10) > tbody\").text"
   ]
  },
  {
   "cell_type": "markdown",
   "id": "d02fd7b3",
   "metadata": {},
   "source": [
    "Hemos accedido a la información genérica de Estados Unidos, perfecto! Y ahora vamos a acceder a la información de las ciudades que nos interesan:"
   ]
  },
  {
   "cell_type": "code",
   "execution_count": 7,
   "id": "4dd6525e",
   "metadata": {},
   "outputs": [],
   "source": [
    "ciudades_list = [\"Olympia\",\"Portland\",\"Seattle\",\"Anaheim\",\"Bellevue\",\"Irvine\",\"Playa-Larga\",\"Pasadena\",\"Redmond\",\"Tacoma\",\"Vancouver\"]         "
   ]
  },
  {
   "cell_type": "code",
   "execution_count": 8,
   "id": "b0cf2059",
   "metadata": {
    "scrolled": false
   },
   "outputs": [
    {
     "data": {
      "text/plain": [
       "['https://es.numbeo.com/calidad-de-vida/ciudad/Olympia',\n",
       " 'https://es.numbeo.com/calidad-de-vida/ciudad/Portland',\n",
       " 'https://es.numbeo.com/calidad-de-vida/ciudad/Seattle',\n",
       " 'https://es.numbeo.com/calidad-de-vida/ciudad/Anaheim',\n",
       " 'https://es.numbeo.com/calidad-de-vida/ciudad/Bellevue',\n",
       " 'https://es.numbeo.com/calidad-de-vida/ciudad/Irvine',\n",
       " 'https://es.numbeo.com/calidad-de-vida/ciudad/Playa-Larga',\n",
       " 'https://es.numbeo.com/calidad-de-vida/ciudad/Pasadena',\n",
       " 'https://es.numbeo.com/calidad-de-vida/ciudad/Redmond',\n",
       " 'https://es.numbeo.com/calidad-de-vida/ciudad/Tacoma',\n",
       " 'https://es.numbeo.com/calidad-de-vida/ciudad/Vancouver']"
      ]
     },
     "execution_count": 8,
     "metadata": {},
     "output_type": "execute_result"
    }
   ],
   "source": [
    "url_list = []\n",
    "\n",
    "for i in ciudades_list:\n",
    "    url_list.append(f\"https://es.numbeo.com/calidad-de-vida/ciudad/{i}\")\n",
    "\n",
    "url_list"
   ]
  },
  {
   "cell_type": "markdown",
   "id": "6a101276",
   "metadata": {},
   "source": [
    "Ya tenemos la lista de las url que queremos! Ahora vamos a sacar la tabla para cada una de las url de arriba:"
   ]
  },
  {
   "cell_type": "code",
   "execution_count": 9,
   "id": "bcde81ec",
   "metadata": {},
   "outputs": [],
   "source": [
    "resultados = []\n",
    "for z in url_list:\n",
    "    driver.get(z)\n",
    "    driver.implicitly_wait(15)\n",
    "    res = driver.find_element_by_xpath('/html/body/div[2]/table[2]/tbody').text\n",
    "    resultados.append(res)"
   ]
  },
  {
   "cell_type": "code",
   "execution_count": 10,
   "id": "a5b77b5d",
   "metadata": {
    "scrolled": true
   },
   "outputs": [
    {
     "data": {
      "text/plain": [
       "['Índice de Poder Adquisitivo 108,43   Alto\\nÍndice de Seguridad 70,61   Alto\\nÍndice de Sanidad 71,99   Alto\\nÍndice de Clima 83,44   Muy alto\\nÍndice de Costo de Vida 70,23   Moderado\\nRelación Precio/Ingresos para Propiedades 3,37   Muy Bajo\\nÍndice de Tiempo de Desplazamiento en Tráfico 19,11   Muy Bajo\\nÍndice de Contaminación 16,01   Muy Bajo\\nƒ Índice de Calidad de Vida: 204,67   Muy alto',\n",
       " 'Índice de Poder Adquisitivo 103,67   Alto\\nÍndice de Seguridad 48,14   Moderado\\nÍndice de Sanidad 73,18   Alto\\nÍndice de Clima 89,56   Muy alto\\nÍndice de Costo de Vida 78,48   Moderado\\nRelación Precio/Ingresos para Propiedades 4,66   Muy Bajo\\nÍndice de Tiempo de Desplazamiento en Tráfico 33,38   Bajo\\nÍndice de Contaminación 30,83   Bajo\\nƒ Índice de Calidad de Vida: 174,92   Muy alto',\n",
       " 'Índice de Poder Adquisitivo 145,56   Muy alto\\nÍndice de Seguridad 49,23   Moderado\\nÍndice de Sanidad 74,06   Alto\\nÍndice de Clima 91,73   Muy alto\\nÍndice de Costo de Vida 89,21   Moderado\\nRelación Precio/Ingresos para Propiedades 4,42   Muy Bajo\\nÍndice de Tiempo de Desplazamiento en Tráfico 41,94   Moderado\\nÍndice de Contaminación 29,06   Bajo\\nƒ Índice de Calidad de Vida: 189,35   Muy alto',\n",
       " 'Índice de Poder Adquisitivo 95,65   Alto\\nÍndice de Seguridad 46,76   Moderado\\nÍndice de Sanidad 74,07   Alto\\nÍndice de Clima 95,41   Muy alto\\nÍndice de Costo de Vida 74,38   Moderado\\nRelación Precio/Ingresos para Propiedades 5,23   Bajo\\nÍndice de Tiempo de Desplazamiento en Tráfico 41,89   Moderado\\nÍndice de Contaminación 48,68   Moderado\\nƒ Índice de Calidad de Vida: 157,01   Muy alto',\n",
       " 'Índice de Poder Adquisitivo 193,53   Muy alto\\nÍndice de Seguridad 76,45   Alto\\nÍndice de Sanidad 80,56   Muy alto\\nÍndice de Clima 91,73   Muy alto\\nÍndice de Costo de Vida 84,97   Moderado\\nRelación Precio/Ingresos para Propiedades 3,34   Muy Bajo\\nÍndice de Tiempo de Desplazamiento en Tráfico 28,60   Bajo\\nÍndice de Contaminación 12,15   Muy Bajo\\nƒ Índice de Calidad de Vida: 244,20   Muy alto',\n",
       " 'Índice de Poder Adquisitivo 130,49   Muy alto\\nÍndice de Seguridad 78,56   Alto\\nÍndice de Sanidad 77,62   Alto\\nÍndice de Clima 96,82   Muy alto\\nÍndice de Costo de Vida 77,61   Moderado\\nRelación Precio/Ingresos para Propiedades 4,38   Muy Bajo\\nÍndice de Tiempo de Desplazamiento en Tráfico 22,95   Muy Bajo\\nÍndice de Contaminación 35,66   Bajo\\nƒ Índice de Calidad de Vida: 207,40   Muy alto',\n",
       " 'Índice de Poder Adquisitivo 107,76   Alto\\nÍndice de Seguridad 42,90   Moderado\\nÍndice de Sanidad 79,28   Alto\\nÍndice de Clima 96,09   Muy alto\\nÍndice de Costo de Vida 70,00   Moderado\\nRelación Precio/Ingresos para Propiedades 9,24   Moderado\\nÍndice de Tiempo de Desplazamiento en Tráfico 35,45   Moderado\\nÍndice de Contaminación 44,22   Moderado\\nƒ Índice de Calidad de Vida: 164,86   Muy alto',\n",
       " 'Índice de Poder Adquisitivo 105,63   Alto\\nÍndice de Seguridad 80,05   Muy alto\\nÍndice de Sanidad 86,85   Muy alto\\nÍndice de Clima 67,71   Alto\\nÍndice de Costo de Vida 76,36   Moderado\\nRelación Precio/Ingresos para Propiedades 6,85   Bajo\\nÍndice de Tiempo de Desplazamiento en Tráfico 43,00   Moderado\\nÍndice de Contaminación 40,67   Moderado\\nƒ Índice de Calidad de Vida: 176,49   Muy alto',\n",
       " 'Índice de Poder Adquisitivo 143,10   Muy alto\\nÍndice de Seguridad 85,14   Muy alto\\nÍndice de Sanidad 80,09   Muy alto\\nÍndice de Clima 91,70   Muy alto\\nÍndice de Costo de Vida 85,24   Moderado\\nRelación Precio/Ingresos para Propiedades 3,89   Muy Bajo\\nÍndice de Tiempo de Desplazamiento en Tráfico 31,14   Bajo\\nÍndice de Contaminación 18,23   Muy Bajo\\nƒ Índice de Calidad de Vida: 222,28   Muy alto',\n",
       " 'Índice de Poder Adquisitivo 88,87   Moderado\\nÍndice de Seguridad 45,88   Moderado\\nÍndice de Sanidad 73,19   Alto\\nÍndice de Clima 90,88   Muy alto\\nÍndice de Costo de Vida 76,19   Moderado\\nRelación Precio/Ingresos para Propiedades 9,50   Moderado\\nÍndice de Tiempo de Desplazamiento en Tráfico 44,73   Moderado\\nÍndice de Contaminación 30,71   Bajo\\nƒ Índice de Calidad de Vida: 158,10   Muy alto',\n",
       " 'Índice de Poder Adquisitivo 88,24   Moderado\\nÍndice de Seguridad 62,57   Alto\\nÍndice de Sanidad 74,77   Alto\\nÍndice de Clima 91,15   Muy alto\\nÍndice de Costo de Vida 74,52   Moderado\\nRelación Precio/Ingresos para Propiedades 11,79   Moderado\\nÍndice de Tiempo de Desplazamiento en Tráfico 36,90   Moderado\\nÍndice de Contaminación 25,17   Bajo\\nƒ Índice de Calidad de Vida: 172,40   Muy alto']"
      ]
     },
     "execution_count": 10,
     "metadata": {},
     "output_type": "execute_result"
    }
   ],
   "source": [
    "resultados"
   ]
  },
  {
   "cell_type": "markdown",
   "id": "83578639",
   "metadata": {},
   "source": [
    "A continuación vamos a crear un diccionario, pasándole los Key-values, y con objetivo de convertirlo en un DataFrame:"
   ]
  },
  {
   "cell_type": "code",
   "execution_count": 11,
   "id": "162c970e",
   "metadata": {},
   "outputs": [],
   "source": [
    "key_list = [\"Olympia\",\"Portland\",\"Seattle\",\"Anaheim\",\"Bellevue\",\"Irvine\",\"Long Beach\",\"Pasadena\",\"Redmond\",\"Tacoma\",\"Vancouver\"]\n",
    "value_list = resultados"
   ]
  },
  {
   "cell_type": "code",
   "execution_count": 12,
   "id": "89a340a1",
   "metadata": {
    "scrolled": false
   },
   "outputs": [],
   "source": [
    "dict_from_list = dict(zip(key_list, value_list))\n",
    "#print(dict_from_list)"
   ]
  },
  {
   "cell_type": "code",
   "execution_count": 13,
   "id": "f249b17e",
   "metadata": {
    "scrolled": true
   },
   "outputs": [
    {
     "data": {
      "text/html": [
       "<div>\n",
       "<style scoped>\n",
       "    .dataframe tbody tr th:only-of-type {\n",
       "        vertical-align: middle;\n",
       "    }\n",
       "\n",
       "    .dataframe tbody tr th {\n",
       "        vertical-align: top;\n",
       "    }\n",
       "\n",
       "    .dataframe thead th {\n",
       "        text-align: right;\n",
       "    }\n",
       "</style>\n",
       "<table border=\"1\" class=\"dataframe\">\n",
       "  <thead>\n",
       "    <tr style=\"text-align: right;\">\n",
       "      <th></th>\n",
       "      <th>indice1</th>\n",
       "    </tr>\n",
       "  </thead>\n",
       "  <tbody>\n",
       "    <tr>\n",
       "      <th>Olympia</th>\n",
       "      <td>Índice de Poder Adquisitivo 108,43   Alto\\nÍnd...</td>\n",
       "    </tr>\n",
       "    <tr>\n",
       "      <th>Portland</th>\n",
       "      <td>Índice de Poder Adquisitivo 103,67   Alto\\nÍnd...</td>\n",
       "    </tr>\n",
       "    <tr>\n",
       "      <th>Seattle</th>\n",
       "      <td>Índice de Poder Adquisitivo 145,56   Muy alto\\...</td>\n",
       "    </tr>\n",
       "    <tr>\n",
       "      <th>Anaheim</th>\n",
       "      <td>Índice de Poder Adquisitivo 95,65   Alto\\nÍndi...</td>\n",
       "    </tr>\n",
       "    <tr>\n",
       "      <th>Bellevue</th>\n",
       "      <td>Índice de Poder Adquisitivo 193,53   Muy alto\\...</td>\n",
       "    </tr>\n",
       "    <tr>\n",
       "      <th>Irvine</th>\n",
       "      <td>Índice de Poder Adquisitivo 130,49   Muy alto\\...</td>\n",
       "    </tr>\n",
       "    <tr>\n",
       "      <th>Long Beach</th>\n",
       "      <td>Índice de Poder Adquisitivo 107,76   Alto\\nÍnd...</td>\n",
       "    </tr>\n",
       "    <tr>\n",
       "      <th>Pasadena</th>\n",
       "      <td>Índice de Poder Adquisitivo 105,63   Alto\\nÍnd...</td>\n",
       "    </tr>\n",
       "    <tr>\n",
       "      <th>Redmond</th>\n",
       "      <td>Índice de Poder Adquisitivo 143,10   Muy alto\\...</td>\n",
       "    </tr>\n",
       "    <tr>\n",
       "      <th>Tacoma</th>\n",
       "      <td>Índice de Poder Adquisitivo 88,87   Moderado\\n...</td>\n",
       "    </tr>\n",
       "    <tr>\n",
       "      <th>Vancouver</th>\n",
       "      <td>Índice de Poder Adquisitivo 88,24   Moderado\\n...</td>\n",
       "    </tr>\n",
       "  </tbody>\n",
       "</table>\n",
       "</div>"
      ],
      "text/plain": [
       "                                                      indice1\n",
       "Olympia     Índice de Poder Adquisitivo 108,43   Alto\\nÍnd...\n",
       "Portland    Índice de Poder Adquisitivo 103,67   Alto\\nÍnd...\n",
       "Seattle     Índice de Poder Adquisitivo 145,56   Muy alto\\...\n",
       "Anaheim     Índice de Poder Adquisitivo 95,65   Alto\\nÍndi...\n",
       "Bellevue    Índice de Poder Adquisitivo 193,53   Muy alto\\...\n",
       "Irvine      Índice de Poder Adquisitivo 130,49   Muy alto\\...\n",
       "Long Beach  Índice de Poder Adquisitivo 107,76   Alto\\nÍnd...\n",
       "Pasadena    Índice de Poder Adquisitivo 105,63   Alto\\nÍnd...\n",
       "Redmond     Índice de Poder Adquisitivo 143,10   Muy alto\\...\n",
       "Tacoma      Índice de Poder Adquisitivo 88,87   Moderado\\n...\n",
       "Vancouver   Índice de Poder Adquisitivo 88,24   Moderado\\n..."
      ]
     },
     "execution_count": 13,
     "metadata": {},
     "output_type": "execute_result"
    }
   ],
   "source": [
    "df1 = pd.DataFrame(dict_from_list, index = [\"indice1\"]).T\n",
    "df1"
   ]
  },
  {
   "cell_type": "markdown",
   "id": "ac007490",
   "metadata": {},
   "source": [
    "A continuación vamos a split la columna \"indice1\" por los espacios! Y resetemos el índice:"
   ]
  },
  {
   "cell_type": "code",
   "execution_count": 14,
   "id": "582109f2",
   "metadata": {
    "scrolled": false
   },
   "outputs": [
    {
     "data": {
      "text/html": [
       "<div>\n",
       "<style scoped>\n",
       "    .dataframe tbody tr th:only-of-type {\n",
       "        vertical-align: middle;\n",
       "    }\n",
       "\n",
       "    .dataframe tbody tr th {\n",
       "        vertical-align: top;\n",
       "    }\n",
       "\n",
       "    .dataframe thead th {\n",
       "        text-align: right;\n",
       "    }\n",
       "</style>\n",
       "<table border=\"1\" class=\"dataframe\">\n",
       "  <thead>\n",
       "    <tr style=\"text-align: right;\">\n",
       "      <th></th>\n",
       "      <th>index</th>\n",
       "      <th>0</th>\n",
       "      <th>1</th>\n",
       "      <th>2</th>\n",
       "      <th>3</th>\n",
       "      <th>4</th>\n",
       "      <th>5</th>\n",
       "      <th>6</th>\n",
       "      <th>7</th>\n",
       "      <th>8</th>\n",
       "    </tr>\n",
       "  </thead>\n",
       "  <tbody>\n",
       "    <tr>\n",
       "      <th>0</th>\n",
       "      <td>Olympia</td>\n",
       "      <td>Índice de Poder Adquisitivo 108,43   Alto</td>\n",
       "      <td>Índice de Seguridad 70,61   Alto</td>\n",
       "      <td>Índice de Sanidad 71,99   Alto</td>\n",
       "      <td>Índice de Clima 83,44   Muy alto</td>\n",
       "      <td>Índice de Costo de Vida 70,23   Moderado</td>\n",
       "      <td>Relación Precio/Ingresos para Propiedades 3,37...</td>\n",
       "      <td>Índice de Tiempo de Desplazamiento en Tráfico ...</td>\n",
       "      <td>Índice de Contaminación 16,01   Muy Bajo</td>\n",
       "      <td>ƒ Índice de Calidad de Vida: 204,67   Muy alto</td>\n",
       "    </tr>\n",
       "  </tbody>\n",
       "</table>\n",
       "</div>"
      ],
      "text/plain": [
       "     index                                          0  \\\n",
       "0  Olympia  Índice de Poder Adquisitivo 108,43   Alto   \n",
       "\n",
       "                                  1                               2  \\\n",
       "0  Índice de Seguridad 70,61   Alto  Índice de Sanidad 71,99   Alto   \n",
       "\n",
       "                                  3                                         4  \\\n",
       "0  Índice de Clima 83,44   Muy alto  Índice de Costo de Vida 70,23   Moderado   \n",
       "\n",
       "                                                   5  \\\n",
       "0  Relación Precio/Ingresos para Propiedades 3,37...   \n",
       "\n",
       "                                                   6  \\\n",
       "0  Índice de Tiempo de Desplazamiento en Tráfico ...   \n",
       "\n",
       "                                          7  \\\n",
       "0  Índice de Contaminación 16,01   Muy Bajo   \n",
       "\n",
       "                                                8  \n",
       "0  ƒ Índice de Calidad de Vida: 204,67   Muy alto  "
      ]
     },
     "execution_count": 14,
     "metadata": {},
     "output_type": "execute_result"
    }
   ],
   "source": [
    "df2 = (df1[\"indice1\"].str.split(\"\\n\", expand=True)).reset_index()\n",
    "df2.head(1)"
   ]
  },
  {
   "cell_type": "markdown",
   "id": "1f118dfc",
   "metadata": {},
   "source": [
    "Actualizamos el nombre de las columnas"
   ]
  },
  {
   "cell_type": "code",
   "execution_count": 15,
   "id": "a83abdfd",
   "metadata": {
    "scrolled": true
   },
   "outputs": [
    {
     "data": {
      "text/html": [
       "<div>\n",
       "<style scoped>\n",
       "    .dataframe tbody tr th:only-of-type {\n",
       "        vertical-align: middle;\n",
       "    }\n",
       "\n",
       "    .dataframe tbody tr th {\n",
       "        vertical-align: top;\n",
       "    }\n",
       "\n",
       "    .dataframe thead th {\n",
       "        text-align: right;\n",
       "    }\n",
       "</style>\n",
       "<table border=\"1\" class=\"dataframe\">\n",
       "  <thead>\n",
       "    <tr style=\"text-align: right;\">\n",
       "      <th></th>\n",
       "      <th>City</th>\n",
       "      <th>índice_poder_adq</th>\n",
       "      <th>índice_seguridad</th>\n",
       "      <th>índice_sanidad</th>\n",
       "      <th>índice_clima</th>\n",
       "      <th>índice_costo_vida</th>\n",
       "      <th>relación_precio_ingresos_propiedades</th>\n",
       "      <th>índice_costo_desplazamiento</th>\n",
       "      <th>índice_contaminación</th>\n",
       "      <th>índice_calidad_vida</th>\n",
       "    </tr>\n",
       "  </thead>\n",
       "  <tbody>\n",
       "    <tr>\n",
       "      <th>0</th>\n",
       "      <td>Olympia</td>\n",
       "      <td>Índice de Poder Adquisitivo 108,43   Alto</td>\n",
       "      <td>Índice de Seguridad 70,61   Alto</td>\n",
       "      <td>Índice de Sanidad 71,99   Alto</td>\n",
       "      <td>Índice de Clima 83,44   Muy alto</td>\n",
       "      <td>Índice de Costo de Vida 70,23   Moderado</td>\n",
       "      <td>Relación Precio/Ingresos para Propiedades 3,37...</td>\n",
       "      <td>Índice de Tiempo de Desplazamiento en Tráfico ...</td>\n",
       "      <td>Índice de Contaminación 16,01   Muy Bajo</td>\n",
       "      <td>ƒ Índice de Calidad de Vida: 204,67   Muy alto</td>\n",
       "    </tr>\n",
       "  </tbody>\n",
       "</table>\n",
       "</div>"
      ],
      "text/plain": [
       "      City                           índice_poder_adq  \\\n",
       "0  Olympia  Índice de Poder Adquisitivo 108,43   Alto   \n",
       "\n",
       "                   índice_seguridad                  índice_sanidad  \\\n",
       "0  Índice de Seguridad 70,61   Alto  Índice de Sanidad 71,99   Alto   \n",
       "\n",
       "                       índice_clima                         índice_costo_vida  \\\n",
       "0  Índice de Clima 83,44   Muy alto  Índice de Costo de Vida 70,23   Moderado   \n",
       "\n",
       "                relación_precio_ingresos_propiedades  \\\n",
       "0  Relación Precio/Ingresos para Propiedades 3,37...   \n",
       "\n",
       "                         índice_costo_desplazamiento  \\\n",
       "0  Índice de Tiempo de Desplazamiento en Tráfico ...   \n",
       "\n",
       "                       índice_contaminación  \\\n",
       "0  Índice de Contaminación 16,01   Muy Bajo   \n",
       "\n",
       "                              índice_calidad_vida  \n",
       "0  ƒ Índice de Calidad de Vida: 204,67   Muy alto  "
      ]
     },
     "execution_count": 15,
     "metadata": {},
     "output_type": "execute_result"
    }
   ],
   "source": [
    "df2.columns = ['City', 'índice_poder_adq', 'índice_seguridad','índice_sanidad', 'índice_clima', 'índice_costo_vida', 'relación_precio_ingresos_propiedades', 'índice_costo_desplazamiento', 'índice_contaminación', 'índice_calidad_vida']\n",
    "df2.head(1)"
   ]
  },
  {
   "cell_type": "markdown",
   "id": "ac7866a1",
   "metadata": {},
   "source": [
    "Creamos nuevas columnas, quedándonos únicamente con los valores numéricos:"
   ]
  },
  {
   "cell_type": "code",
   "execution_count": 16,
   "id": "ca642ef6",
   "metadata": {
    "scrolled": true
   },
   "outputs": [
    {
     "data": {
      "text/html": [
       "<div>\n",
       "<style scoped>\n",
       "    .dataframe tbody tr th:only-of-type {\n",
       "        vertical-align: middle;\n",
       "    }\n",
       "\n",
       "    .dataframe tbody tr th {\n",
       "        vertical-align: top;\n",
       "    }\n",
       "\n",
       "    .dataframe thead th {\n",
       "        text-align: right;\n",
       "    }\n",
       "</style>\n",
       "<table border=\"1\" class=\"dataframe\">\n",
       "  <thead>\n",
       "    <tr style=\"text-align: right;\">\n",
       "      <th></th>\n",
       "      <th>City</th>\n",
       "      <th>índice_poder_adq</th>\n",
       "      <th>índice_seguridad</th>\n",
       "      <th>índice_sanidad</th>\n",
       "      <th>índice_clima</th>\n",
       "      <th>índice_costo_vida</th>\n",
       "      <th>relación_precio_ingresos_propiedades</th>\n",
       "      <th>índice_costo_desplazamiento</th>\n",
       "      <th>índice_contaminación</th>\n",
       "      <th>índice_calidad_vida</th>\n",
       "      <th>Índice_poder_adqui</th>\n",
       "      <th>Índice_seguridad</th>\n",
       "      <th>Índice_sanidad</th>\n",
       "      <th>Índice_clima</th>\n",
       "      <th>Índice_costo_vida</th>\n",
       "      <th>Relación_precio_ingresos_propiedades</th>\n",
       "      <th>Índice_costo_desplazamiento</th>\n",
       "      <th>Índice_contaminación</th>\n",
       "      <th>Índice_calidad_vida</th>\n",
       "    </tr>\n",
       "  </thead>\n",
       "  <tbody>\n",
       "    <tr>\n",
       "      <th>0</th>\n",
       "      <td>Olympia</td>\n",
       "      <td>Índice de Poder Adquisitivo 108,43   Alto</td>\n",
       "      <td>Índice de Seguridad 70,61   Alto</td>\n",
       "      <td>Índice de Sanidad 71,99   Alto</td>\n",
       "      <td>Índice de Clima 83,44   Muy alto</td>\n",
       "      <td>Índice de Costo de Vida 70,23   Moderado</td>\n",
       "      <td>Relación Precio/Ingresos para Propiedades 3,37...</td>\n",
       "      <td>Índice de Tiempo de Desplazamiento en Tráfico ...</td>\n",
       "      <td>Índice de Contaminación 16,01   Muy Bajo</td>\n",
       "      <td>ƒ Índice de Calidad de Vida: 204,67   Muy alto</td>\n",
       "      <td>108,43</td>\n",
       "      <td>70,61</td>\n",
       "      <td>71,99</td>\n",
       "      <td>83,44</td>\n",
       "      <td>70,23</td>\n",
       "      <td>3,37</td>\n",
       "      <td>19,11</td>\n",
       "      <td>16,01</td>\n",
       "      <td>204,67</td>\n",
       "    </tr>\n",
       "  </tbody>\n",
       "</table>\n",
       "</div>"
      ],
      "text/plain": [
       "      City                           índice_poder_adq  \\\n",
       "0  Olympia  Índice de Poder Adquisitivo 108,43   Alto   \n",
       "\n",
       "                   índice_seguridad                  índice_sanidad  \\\n",
       "0  Índice de Seguridad 70,61   Alto  Índice de Sanidad 71,99   Alto   \n",
       "\n",
       "                       índice_clima                         índice_costo_vida  \\\n",
       "0  Índice de Clima 83,44   Muy alto  Índice de Costo de Vida 70,23   Moderado   \n",
       "\n",
       "                relación_precio_ingresos_propiedades  \\\n",
       "0  Relación Precio/Ingresos para Propiedades 3,37...   \n",
       "\n",
       "                         índice_costo_desplazamiento  \\\n",
       "0  Índice de Tiempo de Desplazamiento en Tráfico ...   \n",
       "\n",
       "                       índice_contaminación  \\\n",
       "0  Índice de Contaminación 16,01   Muy Bajo   \n",
       "\n",
       "                              índice_calidad_vida Índice_poder_adqui  \\\n",
       "0  ƒ Índice de Calidad de Vida: 204,67   Muy alto             108,43   \n",
       "\n",
       "  Índice_seguridad Índice_sanidad Índice_clima Índice_costo_vida  \\\n",
       "0            70,61          71,99        83,44             70,23   \n",
       "\n",
       "  Relación_precio_ingresos_propiedades Índice_costo_desplazamiento  \\\n",
       "0                                 3,37                       19,11   \n",
       "\n",
       "  Índice_contaminación Índice_calidad_vida  \n",
       "0                16,01              204,67  "
      ]
     },
     "execution_count": 16,
     "metadata": {},
     "output_type": "execute_result"
    }
   ],
   "source": [
    "df2[\"Índice_poder_adqui\"] = df2.índice_poder_adq.str.extract(\"(\\d+,\\d+)\", expand=True)\n",
    "df2[\"Índice_seguridad\"] = df2.índice_seguridad.str.extract(\"(\\d+,\\d+)\", expand=True)\n",
    "df2[\"Índice_sanidad\"] = df2.índice_sanidad.str.extract(\"(\\d+,\\d+)\", expand=True)\n",
    "df2[\"Índice_clima\"] = df2.índice_clima.str.extract(\"(\\d+,\\d+)\", expand=True)\n",
    "df2[\"Índice_costo_vida\"] = df2.índice_costo_vida.str.extract(\"(\\d+,\\d+)\", expand=True)\n",
    "df2[\"Relación_precio_ingresos_propiedades\"] = df2.relación_precio_ingresos_propiedades.str.extract(\"(\\d+,\\d+)\", expand=True)\n",
    "df2[\"Índice_costo_desplazamiento\"] = df2.índice_costo_desplazamiento.str.extract(\"(\\d+,\\d+)\", expand=True)\n",
    "df2[\"Índice_contaminación\"] = df2.índice_contaminación.str.extract(\"(\\d+,\\d+)\", expand=True)\n",
    "df2[\"Índice_calidad_vida\"] = df2.índice_calidad_vida.str.extract(\"(\\d+,\\d+)\", expand=True)\n",
    "df2.head(1)"
   ]
  },
  {
   "cell_type": "markdown",
   "id": "03bb38da",
   "metadata": {},
   "source": [
    "Eliminamos las columnas que ya no necesitamos porque la información está duplicada:"
   ]
  },
  {
   "cell_type": "code",
   "execution_count": 17,
   "id": "32cfc699",
   "metadata": {},
   "outputs": [],
   "source": [
    "eliminar = ['índice_poder_adq', 'índice_seguridad', 'índice_sanidad',\n",
    "       'índice_clima', 'índice_costo_vida',\n",
    "       'relación_precio_ingresos_propiedades', 'índice_costo_desplazamiento',\n",
    "       'índice_contaminación', 'índice_calidad_vida']"
   ]
  },
  {
   "cell_type": "code",
   "execution_count": 18,
   "id": "62b794bd",
   "metadata": {
    "scrolled": true
   },
   "outputs": [
    {
     "data": {
      "text/html": [
       "<div>\n",
       "<style scoped>\n",
       "    .dataframe tbody tr th:only-of-type {\n",
       "        vertical-align: middle;\n",
       "    }\n",
       "\n",
       "    .dataframe tbody tr th {\n",
       "        vertical-align: top;\n",
       "    }\n",
       "\n",
       "    .dataframe thead th {\n",
       "        text-align: right;\n",
       "    }\n",
       "</style>\n",
       "<table border=\"1\" class=\"dataframe\">\n",
       "  <thead>\n",
       "    <tr style=\"text-align: right;\">\n",
       "      <th></th>\n",
       "      <th>City</th>\n",
       "      <th>Índice_poder_adqui</th>\n",
       "      <th>Índice_seguridad</th>\n",
       "      <th>Índice_sanidad</th>\n",
       "      <th>Índice_clima</th>\n",
       "      <th>Índice_costo_vida</th>\n",
       "      <th>Relación_precio_ingresos_propiedades</th>\n",
       "      <th>Índice_costo_desplazamiento</th>\n",
       "      <th>Índice_contaminación</th>\n",
       "      <th>Índice_calidad_vida</th>\n",
       "    </tr>\n",
       "  </thead>\n",
       "  <tbody>\n",
       "    <tr>\n",
       "      <th>0</th>\n",
       "      <td>Olympia</td>\n",
       "      <td>108,43</td>\n",
       "      <td>70,61</td>\n",
       "      <td>71,99</td>\n",
       "      <td>83,44</td>\n",
       "      <td>70,23</td>\n",
       "      <td>3,37</td>\n",
       "      <td>19,11</td>\n",
       "      <td>16,01</td>\n",
       "      <td>204,67</td>\n",
       "    </tr>\n",
       "  </tbody>\n",
       "</table>\n",
       "</div>"
      ],
      "text/plain": [
       "      City Índice_poder_adqui Índice_seguridad Índice_sanidad Índice_clima  \\\n",
       "0  Olympia             108,43            70,61          71,99        83,44   \n",
       "\n",
       "  Índice_costo_vida Relación_precio_ingresos_propiedades  \\\n",
       "0             70,23                                 3,37   \n",
       "\n",
       "  Índice_costo_desplazamiento Índice_contaminación Índice_calidad_vida  \n",
       "0                       19,11                16,01              204,67  "
      ]
     },
     "execution_count": 18,
     "metadata": {},
     "output_type": "execute_result"
    }
   ],
   "source": [
    "df2_limpio = df2.drop(eliminar, axis = 1)\n",
    "df2_limpio.head(1)"
   ]
  },
  {
   "cell_type": "markdown",
   "id": "78105e1d",
   "metadata": {},
   "source": [
    "Exportamos el DataFrame a un CSV"
   ]
  },
  {
   "cell_type": "code",
   "execution_count": 19,
   "id": "e2de8f57",
   "metadata": {},
   "outputs": [],
   "source": [
    "df2_limpio.to_csv(\"01.2 Resultado_Selenium_limpio_índices_ciudades_EEUU_.csv\")"
   ]
  },
  {
   "cell_type": "markdown",
   "id": "fc7bb26a",
   "metadata": {},
   "source": [
    "# Mergeo de CSV inicial y Selenium"
   ]
  },
  {
   "cell_type": "markdown",
   "id": "4a263a12",
   "metadata": {},
   "source": [
    "A continuaición vamos a mergear ambos DataFrames:"
   ]
  },
  {
   "cell_type": "code",
   "execution_count": 20,
   "id": "c46305ea",
   "metadata": {},
   "outputs": [
    {
     "data": {
      "text/html": [
       "<div>\n",
       "<style scoped>\n",
       "    .dataframe tbody tr th:only-of-type {\n",
       "        vertical-align: middle;\n",
       "    }\n",
       "\n",
       "    .dataframe tbody tr th {\n",
       "        vertical-align: top;\n",
       "    }\n",
       "\n",
       "    .dataframe thead th {\n",
       "        text-align: right;\n",
       "    }\n",
       "</style>\n",
       "<table border=\"1\" class=\"dataframe\">\n",
       "  <thead>\n",
       "    <tr style=\"text-align: right;\">\n",
       "      <th></th>\n",
       "      <th>Unnamed: 0</th>\n",
       "      <th>Price</th>\n",
       "      <th>Currency</th>\n",
       "      <th>Brokered_by</th>\n",
       "      <th>AD_Situation</th>\n",
       "      <th>Rooms</th>\n",
       "      <th>Bath</th>\n",
       "      <th>Building space</th>\n",
       "      <th>Measruing unit</th>\n",
       "      <th>Address</th>\n",
       "      <th>...</th>\n",
       "      <th>State</th>\n",
       "      <th>Índice_poder_adqui</th>\n",
       "      <th>Índice_seguridad</th>\n",
       "      <th>Índice_sanidad</th>\n",
       "      <th>Índice_clima</th>\n",
       "      <th>Índice_costo_vida</th>\n",
       "      <th>Relación_precio_ingresos_propiedades</th>\n",
       "      <th>Índice_costo_desplazamiento</th>\n",
       "      <th>Índice_contaminación</th>\n",
       "      <th>Índice_calidad_vida</th>\n",
       "    </tr>\n",
       "  </thead>\n",
       "  <tbody>\n",
       "    <tr>\n",
       "      <th>0</th>\n",
       "      <td>0</td>\n",
       "      <td>289900</td>\n",
       "      <td>USD</td>\n",
       "      <td>Greene Realty Group LLC</td>\n",
       "      <td>New - 7 hours ago</td>\n",
       "      <td>3</td>\n",
       "      <td>2.0</td>\n",
       "      <td>1944</td>\n",
       "      <td>sqft</td>\n",
       "      <td>5142 Puget Rd NE, Olympia, WA 98516</td>\n",
       "      <td>...</td>\n",
       "      <td>WA 98516</td>\n",
       "      <td>108,43</td>\n",
       "      <td>70,61</td>\n",
       "      <td>71,99</td>\n",
       "      <td>83,44</td>\n",
       "      <td>70,23</td>\n",
       "      <td>3,37</td>\n",
       "      <td>19,11</td>\n",
       "      <td>16,01</td>\n",
       "      <td>204,67</td>\n",
       "    </tr>\n",
       "  </tbody>\n",
       "</table>\n",
       "<p>1 rows × 21 columns</p>\n",
       "</div>"
      ],
      "text/plain": [
       "   Unnamed: 0   Price Currency              Brokered_by       AD_Situation  \\\n",
       "0           0  289900      USD  Greene Realty Group LLC  New - 7 hours ago   \n",
       "\n",
       "   Rooms  Bath  Building space Measruing unit  \\\n",
       "0      3   2.0            1944           sqft   \n",
       "\n",
       "                               Address  ...      State Índice_poder_adqui  \\\n",
       "0  5142 Puget Rd NE, Olympia, WA 98516  ...   WA 98516             108,43   \n",
       "\n",
       "  Índice_seguridad Índice_sanidad Índice_clima Índice_costo_vida  \\\n",
       "0            70,61          71,99        83,44             70,23   \n",
       "\n",
       "  Relación_precio_ingresos_propiedades Índice_costo_desplazamiento  \\\n",
       "0                                 3,37                       19,11   \n",
       "\n",
       "  Índice_contaminación Índice_calidad_vida  \n",
       "0                16,01              204,67  \n",
       "\n",
       "[1 rows x 21 columns]"
      ]
     },
     "execution_count": 20,
     "metadata": {},
     "output_type": "execute_result"
    }
   ],
   "source": [
    "mergeado_inner = df.merge(df2_limpio, on= \"City\")\n",
    "mergeado_inner.head(1)"
   ]
  },
  {
   "cell_type": "markdown",
   "id": "1af9405e",
   "metadata": {},
   "source": [
    "Exportamos el DataFrame mergeado a un CSV"
   ]
  },
  {
   "cell_type": "code",
   "execution_count": 21,
   "id": "5f559b5d",
   "metadata": {},
   "outputs": [],
   "source": [
    "mergeado_inner.to_csv(\"01.3 Datos_enriquecidos_.csv\")"
   ]
  }
 ],
 "metadata": {
  "kernelspec": {
   "display_name": "Python 3 (ipykernel)",
   "language": "python",
   "name": "python3"
  },
  "language_info": {
   "codemirror_mode": {
    "name": "ipython",
    "version": 3
   },
   "file_extension": ".py",
   "mimetype": "text/x-python",
   "name": "python",
   "nbconvert_exporter": "python",
   "pygments_lexer": "ipython3",
   "version": "3.9.10"
  }
 },
 "nbformat": 4,
 "nbformat_minor": 5
}
